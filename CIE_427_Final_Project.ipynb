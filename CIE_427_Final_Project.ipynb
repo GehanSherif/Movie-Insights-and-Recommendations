{
  "nbformat": 4,
  "nbformat_minor": 0,
  "metadata": {
    "colab": {
      "provenance": [],
      "collapsed_sections": [
        "0hcQ_PASTpVf",
        "MlIosUHQhNww",
        "26IIgbOZsi1Z",
        "59HmlJIkvjLI",
        "6aEGgYOr1Hua",
        "81NWaonxEwOp",
        "MjJp4YHMHkrf",
        "QHTtdxWr0SrU",
        "S-HNDxFTFLVN"
      ],
      "toc_visible": true
    },
    "kernelspec": {
      "name": "python3",
      "display_name": "Python 3"
    },
    "language_info": {
      "name": "python"
    }
  },
  "cells": [
    {
      "cell_type": "markdown",
      "source": [
        "#Import&Installs"
      ],
      "metadata": {
        "id": "tpIYCMN-8QE5"
      }
    },
    {
      "cell_type": "code",
      "source": [
        "!pip install pyspark"
      ],
      "metadata": {
        "colab": {
          "base_uri": "https://localhost:8080/"
        },
        "id": "iFRVzxuqGINa",
        "outputId": "dec5aeb5-1db6-47ea-922e-ad7a9ff04eb6"
      },
      "execution_count": null,
      "outputs": [
        {
          "output_type": "stream",
          "name": "stdout",
          "text": [
            "Looking in indexes: https://pypi.org/simple, https://us-python.pkg.dev/colab-wheels/public/simple/\n",
            "Collecting pyspark\n",
            "  Downloading pyspark-3.3.1.tar.gz (281.4 MB)\n",
            "\u001b[2K     \u001b[90m━━━━━━━━━━━━━━━━━━━━━━━━━━━━━━━━━━━━━━━\u001b[0m \u001b[32m281.4/281.4 MB\u001b[0m \u001b[31m3.2 MB/s\u001b[0m eta \u001b[36m0:00:00\u001b[0m\n",
            "\u001b[?25h  Preparing metadata (setup.py) ... \u001b[?25l\u001b[?25hdone\n",
            "Collecting py4j==0.10.9.5\n",
            "  Downloading py4j-0.10.9.5-py2.py3-none-any.whl (199 kB)\n",
            "\u001b[2K     \u001b[90m━━━━━━━━━━━━━━━━━━━━━━━━━━━━━━━━━━━━━━━\u001b[0m \u001b[32m199.7/199.7 KB\u001b[0m \u001b[31m3.6 MB/s\u001b[0m eta \u001b[36m0:00:00\u001b[0m\n",
            "\u001b[?25hBuilding wheels for collected packages: pyspark\n",
            "  Building wheel for pyspark (setup.py) ... \u001b[?25l\u001b[?25hdone\n",
            "  Created wheel for pyspark: filename=pyspark-3.3.1-py2.py3-none-any.whl size=281845512 sha256=cbb243840499b57b5adb04ec82b9e2e2b431b33567368331d7e92d50d46f704e\n",
            "  Stored in directory: /root/.cache/pip/wheels/43/dc/11/ec201cd671da62fa9c5cc77078235e40722170ceba231d7598\n",
            "Successfully built pyspark\n",
            "Installing collected packages: py4j, pyspark\n",
            "Successfully installed py4j-0.10.9.5 pyspark-3.3.1\n"
          ]
        }
      ]
    },
    {
      "cell_type": "code",
      "source": [
        "import json\n",
        "import pyspark\n",
        "from pyspark.sql import SparkSession\n",
        "from itertools import combinations\n",
        "from pyspark.sql.functions import concat, col, lit, udf, split\n",
        "import matplotlib.pyplot as plt\n",
        "from pyspark.sql.types import *\n",
        "from pyspark.ml.classification import FMClassifier\n",
        "from pyspark.ml.clustering import KMeans, LDA, GaussianMixture, PowerIterationClustering\n",
        "from pyspark.ml.evaluation import ClusteringEvaluator,  MulticlassClassificationEvaluator, BinaryClassificationEvaluator\n",
        "from pyspark.ml.linalg import Vectors\n",
        "from pyspark.ml.feature import VectorAssembler, Imputer , StandardScaler\n",
        "from pyspark.ml import Pipeline\n",
        "from pyspark.ml.regression import LinearRegression\n",
        "from pyspark.ml.evaluation import RegressionEvaluator\n",
        "from pyspark.ml.classification import LogisticRegression, GBTClassifier, NaiveBayes, RandomForestClassifier, LinearSVC, OneVsRest\n",
        "\n",
        "import nltk\n",
        "from nltk.sentiment import SentimentIntensityAnalyzer"
      ],
      "metadata": {
        "id": "d5eplK10BNSU"
      },
      "execution_count": null,
      "outputs": []
    },
    {
      "cell_type": "code",
      "source": [
        "nltk.download('vader_lexicon')"
      ],
      "metadata": {
        "id": "7CzPpo7KrJXg",
        "colab": {
          "base_uri": "https://localhost:8080/"
        },
        "outputId": "3f6efaac-893b-499a-89d5-b65dcead00cb"
      },
      "execution_count": null,
      "outputs": [
        {
          "output_type": "stream",
          "name": "stderr",
          "text": [
            "[nltk_data] Downloading package vader_lexicon to /root/nltk_data...\n"
          ]
        },
        {
          "output_type": "execute_result",
          "data": {
            "text/plain": [
              "True"
            ]
          },
          "metadata": {},
          "execution_count": 3
        }
      ]
    },
    {
      "cell_type": "code",
      "source": [
        "!pip install -U --no-cache-dir gdown --pre\n",
        "!gdown \"13YuvKWo-mC_YbTw0ztjcCz9_cQeU3G8G\""
      ],
      "metadata": {
        "colab": {
          "base_uri": "https://localhost:8080/"
        },
        "id": "_ZM_A6bOFbwo",
        "outputId": "c04f3426-6320-400c-c6cc-216ee5458944"
      },
      "execution_count": null,
      "outputs": [
        {
          "output_type": "stream",
          "name": "stdout",
          "text": [
            "Looking in indexes: https://pypi.org/simple, https://us-python.pkg.dev/colab-wheels/public/simple/\n",
            "Requirement already satisfied: gdown in /usr/local/lib/python3.8/dist-packages (4.4.0)\n",
            "Collecting gdown\n",
            "  Downloading gdown-4.6.0-py3-none-any.whl (14 kB)\n",
            "Requirement already satisfied: tqdm in /usr/local/lib/python3.8/dist-packages (from gdown) (4.64.1)\n",
            "Requirement already satisfied: beautifulsoup4 in /usr/local/lib/python3.8/dist-packages (from gdown) (4.6.3)\n",
            "Requirement already satisfied: filelock in /usr/local/lib/python3.8/dist-packages (from gdown) (3.9.0)\n",
            "Requirement already satisfied: six in /usr/local/lib/python3.8/dist-packages (from gdown) (1.15.0)\n",
            "Requirement already satisfied: requests[socks] in /usr/local/lib/python3.8/dist-packages (from gdown) (2.25.1)\n",
            "Requirement already satisfied: urllib3<1.27,>=1.21.1 in /usr/local/lib/python3.8/dist-packages (from requests[socks]->gdown) (1.24.3)\n",
            "Requirement already satisfied: chardet<5,>=3.0.2 in /usr/local/lib/python3.8/dist-packages (from requests[socks]->gdown) (4.0.0)\n",
            "Requirement already satisfied: certifi>=2017.4.17 in /usr/local/lib/python3.8/dist-packages (from requests[socks]->gdown) (2022.12.7)\n",
            "Requirement already satisfied: idna<3,>=2.5 in /usr/local/lib/python3.8/dist-packages (from requests[socks]->gdown) (2.10)\n",
            "Requirement already satisfied: PySocks!=1.5.7,>=1.5.6 in /usr/local/lib/python3.8/dist-packages (from requests[socks]->gdown) (1.7.1)\n",
            "Installing collected packages: gdown\n",
            "  Attempting uninstall: gdown\n",
            "    Found existing installation: gdown 4.4.0\n",
            "    Uninstalling gdown-4.4.0:\n",
            "      Successfully uninstalled gdown-4.4.0\n",
            "Successfully installed gdown-4.6.0\n",
            "Downloading...\n",
            "From: https://drive.google.com/uc?id=13YuvKWo-mC_YbTw0ztjcCz9_cQeU3G8G\n",
            "To: /content/TestData.zip\n",
            "100% 36.1M/36.1M [00:00<00:00, 90.1MB/s]\n"
          ]
        }
      ]
    },
    {
      "cell_type": "code",
      "source": [
        "!gdown \"1--fu7x1CYHmU3KAn3M3nojb8_DXZ2ii9\""
      ],
      "metadata": {
        "colab": {
          "base_uri": "https://localhost:8080/"
        },
        "id": "PU7o7cEHEQo7",
        "outputId": "595f9bd4-32e0-4549-f168-c025a662fa35"
      },
      "execution_count": null,
      "outputs": [
        {
          "output_type": "stream",
          "name": "stdout",
          "text": [
            "Downloading...\n",
            "From: https://drive.google.com/uc?id=1--fu7x1CYHmU3KAn3M3nojb8_DXZ2ii9\n",
            "To: /content/imdb-review-dataset.zip\n",
            "100% 2.89G/2.89G [00:30<00:00, 96.0MB/s]\n"
          ]
        }
      ]
    },
    {
      "cell_type": "code",
      "source": [
        "!unzip 'TestData.zip'"
      ],
      "metadata": {
        "colab": {
          "base_uri": "https://localhost:8080/"
        },
        "id": "IdBJmTn8FxQ6",
        "outputId": "77826055-872f-4f65-dda7-444e9a8738e7"
      },
      "execution_count": null,
      "outputs": [
        {
          "output_type": "stream",
          "name": "stdout",
          "text": [
            "Archive:  TestData.zip\n",
            "  inflating: movies (1).json         \n",
            "  inflating: movies.json             \n"
          ]
        }
      ]
    },
    {
      "cell_type": "code",
      "source": [
        "!unzip '/content/imdb-review-dataset.zip'"
      ],
      "metadata": {
        "colab": {
          "base_uri": "https://localhost:8080/"
        },
        "id": "pZkIudwbES_0",
        "outputId": "efd75d05-a179-4a12-a2db-c5e5a2f91902"
      },
      "execution_count": null,
      "outputs": [
        {
          "output_type": "stream",
          "name": "stdout",
          "text": [
            "Archive:  /content/imdb-review-dataset.zip\n",
            "  inflating: part-01.json            \n",
            "  inflating: part-02.json            "
          ]
        }
      ]
    },
    {
      "cell_type": "markdown",
      "source": [
        "#Create Spark Session"
      ],
      "metadata": {
        "id": "IVLY35miBqxk"
      }
    },
    {
      "cell_type": "code",
      "source": [
        "spark = SparkSession \\\n",
        "    .builder \\\n",
        "    .appName('Movies Analysis') \\\n",
        "    .config(\"spark.driver.memory\", \"5g\") \\\n",
        "    .getOrCreate()"
      ],
      "metadata": {
        "id": "U-7VGcsMBOmj"
      },
      "execution_count": null,
      "outputs": []
    },
    {
      "cell_type": "markdown",
      "source": [
        "#Load Data"
      ],
      "metadata": {
        "id": "Et-M5UfrsERd"
      }
    },
    {
      "cell_type": "code",
      "source": [
        "# Read JSON file into dataframe\n",
        "Maindf = spark.read.json(\"/content/movies.json\")"
      ],
      "metadata": {
        "id": "YZGMHWMTJXeX"
      },
      "execution_count": null,
      "outputs": []
    },
    {
      "cell_type": "code",
      "source": [
        "Maindf.printSchema()"
      ],
      "metadata": {
        "colab": {
          "base_uri": "https://localhost:8080/"
        },
        "id": "8dX2jo9XMTBV",
        "outputId": "75597b9c-dade-404a-b113-2f416dbd0108"
      },
      "execution_count": null,
      "outputs": [
        {
          "output_type": "stream",
          "name": "stdout",
          "text": [
            "root\n",
            " |-- _corrupt_record: string (nullable = true)\n",
            " |-- adult: boolean (nullable = true)\n",
            " |-- backdrop_path: string (nullable = true)\n",
            " |-- belongs_to_collection: struct (nullable = true)\n",
            " |    |-- backdrop_path: string (nullable = true)\n",
            " |    |-- id: long (nullable = true)\n",
            " |    |-- name: string (nullable = true)\n",
            " |    |-- poster_path: string (nullable = true)\n",
            " |-- budget: long (nullable = true)\n",
            " |-- genres: array (nullable = true)\n",
            " |    |-- element: struct (containsNull = true)\n",
            " |    |    |-- id: long (nullable = true)\n",
            " |    |    |-- name: string (nullable = true)\n",
            " |-- homepage: string (nullable = true)\n",
            " |-- id: long (nullable = true)\n",
            " |-- imdb_id: string (nullable = true)\n",
            " |-- original_language: string (nullable = true)\n",
            " |-- original_title: string (nullable = true)\n",
            " |-- overview: string (nullable = true)\n",
            " |-- popularity: double (nullable = true)\n",
            " |-- poster_path: string (nullable = true)\n",
            " |-- production_companies: array (nullable = true)\n",
            " |    |-- element: struct (containsNull = true)\n",
            " |    |    |-- id: long (nullable = true)\n",
            " |    |    |-- logo_path: string (nullable = true)\n",
            " |    |    |-- name: string (nullable = true)\n",
            " |    |    |-- origin_country: string (nullable = true)\n",
            " |-- production_countries: array (nullable = true)\n",
            " |    |-- element: struct (containsNull = true)\n",
            " |    |    |-- iso_3166_1: string (nullable = true)\n",
            " |    |    |-- name: string (nullable = true)\n",
            " |-- release_date: string (nullable = true)\n",
            " |-- revenue: long (nullable = true)\n",
            " |-- runtime: long (nullable = true)\n",
            " |-- spoken_languages: array (nullable = true)\n",
            " |    |-- element: struct (containsNull = true)\n",
            " |    |    |-- english_name: string (nullable = true)\n",
            " |    |    |-- iso_639_1: string (nullable = true)\n",
            " |    |    |-- name: string (nullable = true)\n",
            " |-- status: string (nullable = true)\n",
            " |-- tagline: string (nullable = true)\n",
            " |-- title: string (nullable = true)\n",
            " |-- video: boolean (nullable = true)\n",
            " |-- vote_average: double (nullable = true)\n",
            " |-- vote_count: long (nullable = true)\n",
            "\n"
          ]
        }
      ]
    },
    {
      "cell_type": "code",
      "source": [
        "Maindf.show(5)"
      ],
      "metadata": {
        "colab": {
          "base_uri": "https://localhost:8080/"
        },
        "id": "vDhHSn75Jr6K",
        "outputId": "c6a76c74-a456-480d-8008-0a10975694ce"
      },
      "execution_count": null,
      "outputs": [
        {
          "output_type": "stream",
          "name": "stdout",
          "text": [
            "+--------------------+-----+--------------------+---------------------+--------+--------------------+--------------------+----+---------+-----------------+--------------------+--------------------+----------+--------------------+--------------------+--------------------+------------+--------+-------+--------------------+--------+--------------------+--------------------+-----+------------+----------+\n",
            "|     _corrupt_record|adult|       backdrop_path|belongs_to_collection|  budget|              genres|            homepage|  id|  imdb_id|original_language|      original_title|            overview|popularity|         poster_path|production_companies|production_countries|release_date| revenue|runtime|    spoken_languages|  status|             tagline|               title|video|vote_average|vote_count|\n",
            "+--------------------+-----+--------------------+---------------------+--------+--------------------+--------------------+----+---------+-----------------+--------------------+--------------------+----------+--------------------+--------------------+--------------------+------------+--------+-------+--------------------+--------+--------------------+--------------------+-----+------------+----------+\n",
            "|[{\"adult\": false,...| null|                null|                 null|    null|                null|                null|null|     null|             null|                null|                null|      null|                null|                null|                null|        null|    null|   null|                null|    null|                null|                null| null|        null|      null|\n",
            "|                null|false|/l94l89eMmFKh7na2...|                 null|       0|[{18, Drama}, {35...|                    |   3|tt0092149|               fi|Varjoja paratiisissa|An episode in the...|    32.525|/nj01hspawPof0mJm...|[{2303, null, Vil...|     [{FI, Finland}]|  1986-10-17|       0|     74|[{Swedish, sv, sv...|Released|                    | Shadows in Paradise|false|       7.274|       208|\n",
            "|                null|false|/c1BaOxC8bo5ACFYk...|                 null| 4000000|[{80, Crime}, {35...|https://www.miram...|   5|tt0113101|               en|          Four Rooms|It's Ted the Bell...|    45.378|/75aHn1NOYXh4M7L5...|[{14, /m6AHu84oZQ...|[{US, United Stat...|  1995-12-09| 4257354|     98|[{English, en, En...|Released|Twelve outrageous...|          Four Rooms|false|       5.713|      2280|\n",
            "|                null|false|/vJ1OG4akDBvjOdKR...|                 null|21000000|[{28, Action}, {8...|                    |   6|tt0107286|               en|      Judgment Night|While racing to a...|    36.186|/rYFAvSPlQUCebayL...|[{182, null, JVC,...|[{US, United Stat...|  1993-10-15|12136938|    109|[{English, en, En...|Released|Don't move. Don't...|      Judgment Night|false|        6.57|       272|\n",
            "|                null|false|                null|                 null|   42000| [{99, Documentary}]|http://lifeinloop...|   8|tt0825671|               en|Life in Loops (A ...|Timo Novotny labe...|     2.471|/x7Sz339F2oC8mBf0...|[{19123, null, in...|     [{AT, Austria}]|  2006-01-01|       0|     80|[{English, en, En...|Released| A Megacities remix.|Life in Loops (A ...|false|       7.738|        21|\n",
            "+--------------------+-----+--------------------+---------------------+--------+--------------------+--------------------+----+---------+-----------------+--------------------+--------------------+----------+--------------------+--------------------+--------------------+------------+--------+-------+--------------------+--------+--------------------+--------------------+-----+------------+----------+\n",
            "only showing top 5 rows\n",
            "\n"
          ]
        }
      ]
    },
    {
      "cell_type": "code",
      "source": [
        "Maindf.count()"
      ],
      "metadata": {
        "colab": {
          "base_uri": "https://localhost:8080/"
        },
        "id": "Dp4-2ZHTVdkj",
        "outputId": "e63211f2-3a2f-4df2-8f56-f65165ae495c"
      },
      "execution_count": null,
      "outputs": [
        {
          "output_type": "execute_result",
          "data": {
            "text/plain": [
              "70250"
            ]
          },
          "metadata": {},
          "execution_count": 12
        }
      ]
    },
    {
      "cell_type": "markdown",
      "source": [
        "#Analyses TMDb Dataset"
      ],
      "metadata": {
        "id": "0hcQ_PASTpVf"
      }
    },
    {
      "cell_type": "code",
      "source": [
        "!rm -r    '/content/AnalysisResults'\n",
        "!mkdir    '/content/AnalysisResults'"
      ],
      "metadata": {
        "id": "wEvqeH2V0XwJ",
        "colab": {
          "base_uri": "https://localhost:8080/"
        },
        "outputId": "e1b4790c-1455-48c0-ac09-b50707ea0b67"
      },
      "execution_count": null,
      "outputs": [
        {
          "output_type": "stream",
          "name": "stdout",
          "text": [
            "rm: cannot remove '/content/AnalysisResults': No such file or directory\n"
          ]
        }
      ]
    },
    {
      "cell_type": "code",
      "source": [
        "savePath='/content/AnalysisResults/'\n",
        "#total number of rows\n",
        "df = Maindf\n",
        "df_count = df.count()\n",
        "print(df_count)"
      ],
      "metadata": {
        "colab": {
          "base_uri": "https://localhost:8080/"
        },
        "id": "9K-VfCylLs9H",
        "outputId": "1ad36cc4-0a33-4874-88e2-d9f8b3bfd2fa"
      },
      "execution_count": null,
      "outputs": [
        {
          "output_type": "stream",
          "name": "stdout",
          "text": [
            "70250\n"
          ]
        }
      ]
    },
    {
      "cell_type": "markdown",
      "source": [
        "##Movie Period & Avg Rate"
      ],
      "metadata": {
        "id": "MlIosUHQhNww"
      }
    },
    {
      "cell_type": "code",
      "source": [
        "# select the needed columns\n",
        "voteAvgAndPeriod=df.select([\"vote_average\",\"runtime\"])\n",
        "voteAvgAndPeriod = voteAvgAndPeriod.withColumn('vote_average/runtime', concat(col('runtime'),lit(','),col('vote_average')))\n",
        "voteAvgAndPeriod = voteAvgAndPeriod.select([\"vote_average/runtime\"])\n",
        "voteAvgAndPeriod.show(2)"
      ],
      "metadata": {
        "colab": {
          "base_uri": "https://localhost:8080/"
        },
        "id": "rU_-eqAwKdrf",
        "outputId": "7691110b-737b-4be3-e362-be30287969cd"
      },
      "execution_count": null,
      "outputs": [
        {
          "output_type": "stream",
          "name": "stdout",
          "text": [
            "+--------------------+\n",
            "|vote_average/runtime|\n",
            "+--------------------+\n",
            "|                null|\n",
            "|            74,7.274|\n",
            "+--------------------+\n",
            "only showing top 2 rows\n",
            "\n"
          ]
        }
      ]
    },
    {
      "cell_type": "code",
      "source": [
        "voteAvgAndPeriodRates = voteAvgAndPeriod.rdd.flatMap(lambda x:x)\\\n",
        "          .filter(lambda movie: movie != None) \\\n",
        "          .map(lambda movie:(movie.split(',')[0],(float(movie.split(',')[1]),1))) \\\n",
        "          .reduceByKey(lambda m1,m2:(m1[0]+m2[0],m1[1]+m2[1])) \\\n",
        "          .map(lambda movie:(movie[0],round((movie[1][0]/movie[1][1]),2)))\\\n",
        "          .sortBy(lambda movie: movie[1],ascending=False)\\\n",
        "          .collect()"
      ],
      "metadata": {
        "id": "0ezL1-i8K5WW"
      },
      "execution_count": null,
      "outputs": []
    },
    {
      "cell_type": "code",
      "source": [
        "data = dict(voteAvgAndPeriodRates)\n",
        "keys = list(data.keys())[:10]\n",
        "values = list(data.values())[:10]\n",
        "fig, ax  = plt.subplots(figsize=(20,5))\n",
        "plt.bar(keys, values,color=['green'],width = 0.5)\n",
        "ax.set_ylabel('Avg Rate')\n",
        "ax.set_xlabel('Movie Runtime')\n",
        "plt.title(\"Top 10 Avg Rates & Movie Runtime\")\n",
        "plt.show()\n",
        "plt.savefig(savePath+'Top 10 Avg Rates & Movie Runtime.png')"
      ],
      "metadata": {
        "colab": {
          "base_uri": "https://localhost:8080/"
        },
        "id": "bm1RHhu6rIPA",
        "outputId": "c5fad0d3-9d1e-40fc-d418-d6794c69b74f"
      },
      "execution_count": null,
      "outputs": [
        {
          "output_type": "display_data",
          "data": {
            "text/plain": [
              "<Figure size 1440x360 with 1 Axes>"
            ],
            "image/png": "[encoded data removed]"
          },
          "metadata": {
            "needs_background": "light"
          }
        },
        {
          "output_type": "display_data",
          "data": {
            "text/plain": [
              "<Figure size 432x288 with 0 Axes>"
            ]
          },
          "metadata": {}
        }
      ]
    },
    {
      "cell_type": "markdown",
      "source": [
        "##Movie Type & Avg Rate"
      ],
      "metadata": {
        "id": "zSWrPh3phWZA"
      }
    },
    {
      "cell_type": "code",
      "source": [
        "# we need to change the form of genres to be able to manipulate with ardd operations\n",
        "def TurntoGenres(genres):\n",
        "  if genres != None:\n",
        "    return \",\".join([genre[1] for genre in genres])\n",
        "MyFunc = udf(lambda x:TurntoGenres(x),StringType()) "
      ],
      "metadata": {
        "id": "CZii3MmU6iv8"
      },
      "execution_count": null,
      "outputs": []
    },
    {
      "cell_type": "code",
      "source": [
        "testdf = Maindf.withColumn(\"genres\", MyFunc(Maindf['genres']))"
      ],
      "metadata": {
        "id": "0praBgJB66IQ"
      },
      "execution_count": null,
      "outputs": []
    },
    {
      "cell_type": "code",
      "source": [
        "testdf.show(3)"
      ],
      "metadata": {
        "colab": {
          "base_uri": "https://localhost:8080/"
        },
        "id": "MGJyZ6bKovXa",
        "outputId": "3e61c063-280e-4b10-e53b-5f44cb83f7fb"
      },
      "execution_count": null,
      "outputs": [
        {
          "output_type": "stream",
          "name": "stdout",
          "text": [
            "+--------------------+-----+--------------------+---------------------+-------+--------------------+--------------------+----+---------+-----------------+--------------------+--------------------+----------+--------------------+--------------------+--------------------+------------+-------+-------+--------------------+--------+--------------------+-------------------+-----+------------+----------+\n",
            "|     _corrupt_record|adult|       backdrop_path|belongs_to_collection| budget|              genres|            homepage|  id|  imdb_id|original_language|      original_title|            overview|popularity|         poster_path|production_companies|production_countries|release_date|revenue|runtime|    spoken_languages|  status|             tagline|              title|video|vote_average|vote_count|\n",
            "+--------------------+-----+--------------------+---------------------+-------+--------------------+--------------------+----+---------+-----------------+--------------------+--------------------+----------+--------------------+--------------------+--------------------+------------+-------+-------+--------------------+--------+--------------------+-------------------+-----+------------+----------+\n",
            "|[{\"adult\": false,...| null|                null|                 null|   null|                null|                null|null|     null|             null|                null|                null|      null|                null|                null|                null|        null|   null|   null|                null|    null|                null|               null| null|        null|      null|\n",
            "|                null|false|/l94l89eMmFKh7na2...|                 null|      0|Drama,Comedy,Romance|                    |   3|tt0092149|               fi|Varjoja paratiisissa|An episode in the...|    32.525|/nj01hspawPof0mJm...|[{2303, null, Vil...|     [{FI, Finland}]|  1986-10-17|      0|     74|[{Swedish, sv, sv...|Released|                    |Shadows in Paradise|false|       7.274|       208|\n",
            "|                null|false|/c1BaOxC8bo5ACFYk...|                 null|4000000|        Crime,Comedy|https://www.miram...|   5|tt0113101|               en|          Four Rooms|It's Ted the Bell...|    45.378|/75aHn1NOYXh4M7L5...|[{14, /m6AHu84oZQ...|[{US, United Stat...|  1995-12-09|4257354|     98|[{English, en, En...|Released|Twelve outrageous...|         Four Rooms|false|       5.713|      2280|\n",
            "+--------------------+-----+--------------------+---------------------+-------+--------------------+--------------------+----+---------+-----------------+--------------------+--------------------+----------+--------------------+--------------------+--------------------+------------+-------+-------+--------------------+--------+--------------------+-------------------+-----+------------+----------+\n",
            "only showing top 3 rows\n",
            "\n"
          ]
        }
      ]
    },
    {
      "cell_type": "code",
      "source": [
        "#Since we made the data set we set the left team to be the one that won\n",
        "voteAvgAndGenres = testdf.select([\"vote_average\",\"genres\"])\n",
        "voteAvgAndGenres = voteAvgAndGenres.withColumn('vote_average/genres', concat(col('vote_average'),lit('_'),col('genres')))\n",
        "voteAvgAndGenres = voteAvgAndGenres.select([\"vote_average/genres\"])\n",
        "voteAvgAndGenres.show(5,truncate = False)"
      ],
      "metadata": {
        "colab": {
          "base_uri": "https://localhost:8080/"
        },
        "outputId": "2adee0b6-1693-4f11-8615-03837705108a",
        "id": "l4p9ygbUhear"
      },
      "execution_count": null,
      "outputs": [
        {
          "output_type": "stream",
          "name": "stdout",
          "text": [
            "+--------------------------+\n",
            "|vote_average/genres       |\n",
            "+--------------------------+\n",
            "|null                      |\n",
            "|7.274_Drama,Comedy,Romance|\n",
            "|5.713_Crime,Comedy        |\n",
            "|6.57_Action,Crime,Thriller|\n",
            "|7.738_Documentary         |\n",
            "+--------------------------+\n",
            "only showing top 5 rows\n",
            "\n"
          ]
        }
      ]
    },
    {
      "cell_type": "code",
      "source": [
        "voteAvgAndGenresRates = voteAvgAndGenres.rdd.flatMap(lambda x:x)\\\n",
        "          .filter(lambda movie: movie != None) \\\n",
        "          .flatMap(lambda movie:[(genre,(float(movie.split('_')[0]),1)) for genre in movie.split('_')[1].split(',')]) \\\n",
        "          .reduceByKey(lambda m1,m2:(m1[0]+m2[0],m1[1]+m2[1])) \\\n",
        "          .map(lambda movie:(movie[0],round((movie[1][0]/movie[1][1]),2)))\\\n",
        "          .sortBy(lambda movie: movie[1],ascending=False)\\\n",
        "          .filter(lambda movie: movie[0] != '') \\\n",
        "          .collect()\n",
        "\n",
        "voteAvgAndGenresRates"
      ],
      "metadata": {
        "colab": {
          "base_uri": "https://localhost:8080/"
        },
        "id": "LFMqbUwjheat",
        "outputId": "878ce359-3a7d-4599-b950-48b5388823de"
      },
      "execution_count": null,
      "outputs": [
        {
          "output_type": "execute_result",
          "data": {
            "text/plain": [
              "[('History', 6.11),\n",
              " ('War', 6.07),\n",
              " ('Fantasy', 5.79),\n",
              " ('Crime', 5.78),\n",
              " ('Animation', 5.77),\n",
              " ('Drama', 5.74),\n",
              " ('Mystery', 5.73),\n",
              " ('Adventure', 5.69),\n",
              " ('Romance', 5.66),\n",
              " ('TV Movie', 5.63),\n",
              " ('Family', 5.62),\n",
              " ('Comedy', 5.55),\n",
              " ('Western', 5.46),\n",
              " ('Music', 5.46),\n",
              " ('Thriller', 5.44),\n",
              " ('Action', 5.4),\n",
              " ('Science Fiction', 5.28),\n",
              " ('Documentary', 5.24),\n",
              " ('Horror', 4.91)]"
            ]
          },
          "metadata": {},
          "execution_count": 23
        }
      ]
    },
    {
      "cell_type": "code",
      "source": [
        "data = dict(voteAvgAndGenresRates)\n",
        "keys = list(data.keys())[:10]\n",
        "values = list(data.values())[:10]\n",
        "fig, ax  = plt.subplots(figsize=(20,5))\n",
        "plt.bar(keys, values,color=['green'],width = 0.5)\n",
        "ax.set_ylabel('Avg Rate')\n",
        "ax.set_xlabel('Movie Genre')\n",
        "plt.title(\"Top 10 Avg Rates & Movie Genre\")\n",
        "plt.show()\n",
        "plt.savefig(savePath+'Top 10 Avg Rates & Movie Genre.png')"
      ],
      "metadata": {
        "colab": {
          "base_uri": "https://localhost:8080/",
          "height": 281
        },
        "outputId": "d59bdda1-7f2d-4fe7-efbc-c6459d250565",
        "id": "IGMXsqeGheau"
      },
      "execution_count": null,
      "outputs": [
        {
          "output_type": "display_data",
          "data": {
            "text/plain": [
              "<Figure size 1440x360 with 1 Axes>"
            ],
            "image/png": "[encoded data removed]"
          },
          "metadata": {
            "needs_background": "light"
          }
        },
        {
          "output_type": "display_data",
          "data": {
            "text/plain": [
              "<Figure size 432x288 with 0 Axes>"
            ]
          },
          "metadata": {}
        }
      ]
    },
    {
      "cell_type": "markdown",
      "source": [
        "##Movie Type & Watch Rate\n",
        "\n",
        "the amount of watchers could be estimated with the vote count for each movie."
      ],
      "metadata": {
        "id": "26IIgbOZsi1Z"
      }
    },
    {
      "cell_type": "code",
      "source": [
        "#Since we made the data set we set the left team to be the one that won\n",
        "voteCountAndGenres = testdf.select([\"vote_count\",\"genres\"])\n",
        "voteCountAndGenres = voteCountAndGenres.withColumn('vote_count/genres', concat(col('vote_count'),lit('_'),col('genres')))\n",
        "voteCountAndGenres = voteCountAndGenres.select([\"vote_count/genres\"])\n",
        "voteCountAndGenres.show(5,truncate = False)"
      ],
      "metadata": {
        "colab": {
          "base_uri": "https://localhost:8080/"
        },
        "outputId": "4990ff37-018b-4a5b-c5c1-b70ac19b0dc1",
        "id": "cVTIBaxQu6zW"
      },
      "execution_count": null,
      "outputs": [
        {
          "output_type": "stream",
          "name": "stdout",
          "text": [
            "+-------------------------+\n",
            "|vote_count/genres        |\n",
            "+-------------------------+\n",
            "|null                     |\n",
            "|208_Drama,Comedy,Romance |\n",
            "|2280_Crime,Comedy        |\n",
            "|272_Action,Crime,Thriller|\n",
            "|21_Documentary           |\n",
            "+-------------------------+\n",
            "only showing top 5 rows\n",
            "\n"
          ]
        }
      ]
    },
    {
      "cell_type": "code",
      "source": [
        "voteCountAvgAndGenres = voteCountAndGenres.rdd.flatMap(lambda x:x)\\\n",
        "          .filter(lambda movie: movie != None) \\\n",
        "          .flatMap(lambda movie:[(genre,(int(movie.split('_')[0]),1)) for genre in movie.split('_')[1].split(',')]) \\\n",
        "          .reduceByKey(lambda m1,m2:(m1[0]+m2[0],m1[1]+m2[1])) \\\n",
        "          .map(lambda movie:(movie[0],round((movie[1][0]/movie[1][1]),2)))\\\n",
        "          .sortBy(lambda movie: movie[1],ascending=False)\\\n",
        "          .filter(lambda movie: movie[0] != '') \\\n",
        "          .collect()\n",
        "\n",
        "voteCountAvgAndGenres"
      ],
      "metadata": {
        "colab": {
          "base_uri": "https://localhost:8080/"
        },
        "outputId": "c557b561-7a60-405a-cb54-4a21a0513a51",
        "id": "XWvA2UySu6zY"
      },
      "execution_count": null,
      "outputs": [
        {
          "output_type": "execute_result",
          "data": {
            "text/plain": [
              "[('Adventure', 678.15),\n",
              " ('Fantasy', 600.34),\n",
              " ('Science Fiction', 530.75),\n",
              " ('Action', 387.48),\n",
              " ('Family', 348.52),\n",
              " ('Thriller', 326.71),\n",
              " ('Mystery', 311.99),\n",
              " ('Animation', 302.95),\n",
              " ('Crime', 294.93),\n",
              " ('War', 231.54),\n",
              " ('History', 204.57),\n",
              " ('Romance', 191.06),\n",
              " ('Comedy', 181.5),\n",
              " ('Drama', 179.12),\n",
              " ('Horror', 174.23),\n",
              " ('Western', 141.45),\n",
              " ('Music', 50.71),\n",
              " ('TV Movie', 42.09),\n",
              " ('Documentary', 17.21)]"
            ]
          },
          "metadata": {},
          "execution_count": 26
        }
      ]
    },
    {
      "cell_type": "code",
      "source": [
        "data = dict(voteCountAvgAndGenres)\n",
        "keys = list(data.keys())[:10]\n",
        "values = list(data.values())[:10]\n",
        "fig, ax  = plt.subplots(figsize=(20,5))\n",
        "plt.bar(keys, values,color=['green'],width = 0.5)\n",
        "ax.set_ylabel('Avg Vote Count')\n",
        "ax.set_xlabel('Movie Genre')\n",
        "plt.title(\"Top 10 Avg Vote Count & Movie Genre\")\n",
        "plt.show()\n",
        "plt.savefig(savePath+'Top 10 Avg Vote Count & Movie Genre.png')"
      ],
      "metadata": {
        "colab": {
          "base_uri": "https://localhost:8080/"
        },
        "outputId": "4cf7f74d-eb55-46b2-9382-4ed6b90c1733",
        "id": "64hMUdauu6zY"
      },
      "execution_count": null,
      "outputs": [
        {
          "output_type": "display_data",
          "data": {
            "text/plain": [
              "<Figure size 1440x360 with 1 Axes>"
            ],
            "image/png": "[encoded data removed]"
          },
          "metadata": {
            "needs_background": "light"
          }
        },
        {
          "output_type": "display_data",
          "data": {
            "text/plain": [
              "<Figure size 432x288 with 0 Axes>"
            ]
          },
          "metadata": {}
        }
      ]
    },
    {
      "cell_type": "markdown",
      "source": [
        "## Certain words in Title and Avg Rate"
      ],
      "metadata": {
        "id": "59HmlJIkvjLI"
      }
    },
    {
      "cell_type": "code",
      "source": [
        "#Since we made the data set we set the left team to be the one that won\n",
        "voteAvgAndTitle = testdf.select([\"vote_average\",\"title\"])\n",
        "voteAvgAndTitle = voteAvgAndTitle.withColumn('vote_average/title', concat(col('vote_average'),lit('_'),col('title')))\n",
        "voteAvgAndTitle = voteAvgAndTitle.select([\"vote_average/title\"])\n",
        "voteAvgAndTitle.show(5,truncate = False)"
      ],
      "metadata": {
        "colab": {
          "base_uri": "https://localhost:8080/"
        },
        "outputId": "d6188925-102f-45c8-b867-b340b20ab19d",
        "id": "yH8frV3_xDXh"
      },
      "execution_count": null,
      "outputs": [
        {
          "output_type": "stream",
          "name": "stdout",
          "text": [
            "+--------------------------------------+\n",
            "|vote_average/title                    |\n",
            "+--------------------------------------+\n",
            "|null                                  |\n",
            "|7.274_Shadows in Paradise             |\n",
            "|5.713_Four Rooms                      |\n",
            "|6.57_Judgment Night                   |\n",
            "|7.738_Life in Loops (A Megacities RMX)|\n",
            "+--------------------------------------+\n",
            "only showing top 5 rows\n",
            "\n"
          ]
        }
      ]
    },
    {
      "cell_type": "code",
      "source": [
        "import re\n",
        "voteAvgAndWords = voteAvgAndTitle.rdd.flatMap(lambda x:x)\\\n",
        "          .filter(lambda movie: movie != None) \\\n",
        "          .flatMap(lambda movie:[(re.sub('\\W+','', word),(float(movie.split('_')[0]),1)) for word in movie.split('_')[1].split(' ')]) \\\n",
        "          .reduceByKey(lambda m1,m2:(m1[0]+m2[0],m1[1]+m2[1])) \\\n",
        "          .map(lambda movie:(movie[0],round((movie[1][0]/movie[1][1]),2)))\\\n",
        "          .sortBy(lambda movie: movie[1],ascending=False)\\\n",
        "          .filter(lambda movie: movie[0] != '') \\\n",
        "          .collect()"
      ],
      "metadata": {
        "id": "3NEpXsNqxDXi"
      },
      "execution_count": null,
      "outputs": []
    },
    {
      "cell_type": "code",
      "source": [
        "data = dict(voteAvgAndWords)\n",
        "keys = list(data.keys())[:10]\n",
        "values = list(data.values())[:10]\n",
        "fig, ax  = plt.subplots(figsize=(20,5))\n",
        "plt.bar(keys, values,color=['green'],width = 0.5)\n",
        "ax.set_ylabel('Avg Vote')\n",
        "ax.set_xlabel('Words')\n",
        "plt.title(\"Top 10 Words & Avg Vote\")\n",
        "plt.show()\n",
        "plt.savefig(savePath+'Top 10 Words & Avg Vote.png')"
      ],
      "metadata": {
        "colab": {
          "base_uri": "https://localhost:8080/"
        },
        "outputId": "579946b2-2c4d-4254-bbd1-54ee85a0f933",
        "id": "6eXNBdSAxDXk"
      },
      "execution_count": null,
      "outputs": [
        {
          "output_type": "display_data",
          "data": {
            "text/plain": [
              "<Figure size 1440x360 with 1 Axes>"
            ],
            "image/png": "[encoded data removed]"
          },
          "metadata": {
            "needs_background": "light"
          }
        },
        {
          "output_type": "display_data",
          "data": {
            "text/plain": [
              "<Figure size 432x288 with 0 Axes>"
            ]
          },
          "metadata": {}
        }
      ]
    },
    {
      "cell_type": "markdown",
      "source": [
        "## Movie Investing & Production Country"
      ],
      "metadata": {
        "id": "6aEGgYOr1Hua"
      }
    },
    {
      "cell_type": "code",
      "source": [
        "# we need to change the form of Production Country to be able to manipulate with rdd operations\n",
        "def TurntoCountries(production_countries):\n",
        "  if production_countries != None:\n",
        "    return \",\".join([Country[1] for Country in production_countries])\n",
        "MyFunc = udf(lambda x:TurntoCountries(x),StringType()) "
      ],
      "metadata": {
        "id": "Fav75kX41dGC"
      },
      "execution_count": null,
      "outputs": []
    },
    {
      "cell_type": "code",
      "source": [
        "testdf = Maindf.withColumn(\"production_countries\", MyFunc(Maindf['production_countries']))"
      ],
      "metadata": {
        "id": "_dOA6lpw1dGC"
      },
      "execution_count": null,
      "outputs": []
    },
    {
      "cell_type": "code",
      "source": [
        "testdf.show(3)"
      ],
      "metadata": {
        "colab": {
          "base_uri": "https://localhost:8080/"
        },
        "outputId": "31e095d9-25b9-4c04-cba8-1c6178a5dcda",
        "id": "nxTxmt-z1dGD"
      },
      "execution_count": null,
      "outputs": [
        {
          "output_type": "stream",
          "name": "stdout",
          "text": [
            "+--------------------+-----+--------------------+---------------------+-------+--------------------+--------------------+----+---------+-----------------+--------------------+--------------------+----------+--------------------+--------------------+--------------------+------------+-------+-------+--------------------+--------+--------------------+-------------------+-----+------------+----------+\n",
            "|     _corrupt_record|adult|       backdrop_path|belongs_to_collection| budget|              genres|            homepage|  id|  imdb_id|original_language|      original_title|            overview|popularity|         poster_path|production_companies|production_countries|release_date|revenue|runtime|    spoken_languages|  status|             tagline|              title|video|vote_average|vote_count|\n",
            "+--------------------+-----+--------------------+---------------------+-------+--------------------+--------------------+----+---------+-----------------+--------------------+--------------------+----------+--------------------+--------------------+--------------------+------------+-------+-------+--------------------+--------+--------------------+-------------------+-----+------------+----------+\n",
            "|[{\"adult\": false,...| null|                null|                 null|   null|                null|                null|null|     null|             null|                null|                null|      null|                null|                null|                null|        null|   null|   null|                null|    null|                null|               null| null|        null|      null|\n",
            "|                null|false|/l94l89eMmFKh7na2...|                 null|      0|[{18, Drama}, {35...|                    |   3|tt0092149|               fi|Varjoja paratiisissa|An episode in the...|    32.525|/nj01hspawPof0mJm...|[{2303, null, Vil...|             Finland|  1986-10-17|      0|     74|[{Swedish, sv, sv...|Released|                    |Shadows in Paradise|false|       7.274|       208|\n",
            "|                null|false|/c1BaOxC8bo5ACFYk...|                 null|4000000|[{80, Crime}, {35...|https://www.miram...|   5|tt0113101|               en|          Four Rooms|It's Ted the Bell...|    45.378|/75aHn1NOYXh4M7L5...|[{14, /m6AHu84oZQ...|United States of ...|  1995-12-09|4257354|     98|[{English, en, En...|Released|Twelve outrageous...|         Four Rooms|false|       5.713|      2280|\n",
            "+--------------------+-----+--------------------+---------------------+-------+--------------------+--------------------+----+---------+-----------------+--------------------+--------------------+----------+--------------------+--------------------+--------------------+------------+-------+-------+--------------------+--------+--------------------+-------------------+-----+------------+----------+\n",
            "only showing top 3 rows\n",
            "\n"
          ]
        }
      ]
    },
    {
      "cell_type": "code",
      "source": [
        "#we select the production countries\n",
        "production_countries = testdf.select([\"production_countries\"])\n",
        "production_countries.show(5,truncate = False)"
      ],
      "metadata": {
        "colab": {
          "base_uri": "https://localhost:8080/"
        },
        "outputId": "634d4552-2e3b-45d1-dec0-5f2f77b32107",
        "id": "tQm_zYl21Usq"
      },
      "execution_count": null,
      "outputs": [
        {
          "output_type": "stream",
          "name": "stdout",
          "text": [
            "+------------------------+\n",
            "|production_countries    |\n",
            "+------------------------+\n",
            "|null                    |\n",
            "|Finland                 |\n",
            "|United States of America|\n",
            "|United States of America|\n",
            "|Austria                 |\n",
            "+------------------------+\n",
            "only showing top 5 rows\n",
            "\n"
          ]
        }
      ]
    },
    {
      "cell_type": "code",
      "source": [
        "productionCountriesCount = production_countries.rdd.flatMap(lambda x:x)\\\n",
        "          .filter(lambda movie: movie != None) \\\n",
        "          .flatMap(lambda movie:[(Country,1) for Country in movie.split(',')]) \\\n",
        "          .reduceByKey(lambda m1,m2:m1+m2) \\\n",
        "          .map(lambda movie:(movie[0],round((movie[1]/df_count)*100,2)))\\\n",
        "          .sortBy(lambda movie: movie[1],ascending=False)\\\n",
        "          .filter(lambda movie: movie[0] != '') \\\n",
        "          .collect()"
      ],
      "metadata": {
        "id": "2NHhZNoc1Usr"
      },
      "execution_count": null,
      "outputs": []
    },
    {
      "cell_type": "code",
      "source": [
        "data = dict(productionCountriesCount)\n",
        "keys = list(data.keys())[:10]\n",
        "values = list(data.values())[:10]\n",
        "fig, ax  = plt.subplots(figsize=(20,5))\n",
        "plt.bar(keys, values,color=['green'],width = 0.5)\n",
        "ax.set_ylabel('Percentage')\n",
        "ax.set_xlabel('Country')\n",
        "plt.title(\"Top 10 Production Countries\")\n",
        "plt.show()\n",
        "plt.savefig(savePath+'Top 10 Production Countries.png')"
      ],
      "metadata": {
        "colab": {
          "base_uri": "https://localhost:8080/"
        },
        "outputId": "70cd0607-0993-45c1-d6f8-6d49cca0c6bd",
        "id": "jmcZ7EZs1Uss"
      },
      "execution_count": null,
      "outputs": [
        {
          "output_type": "display_data",
          "data": {
            "text/plain": [
              "<Figure size 1440x360 with 1 Axes>"
            ],
            "image/png": "[encoded data removed]"
          },
          "metadata": {
            "needs_background": "light"
          }
        },
        {
          "output_type": "display_data",
          "data": {
            "text/plain": [
              "<Figure size 432x288 with 0 Axes>"
            ]
          },
          "metadata": {}
        }
      ]
    },
    {
      "cell_type": "markdown",
      "source": [
        "## Genre Pair Count"
      ],
      "metadata": {
        "id": "81NWaonxEwOp"
      }
    },
    {
      "cell_type": "code",
      "source": [
        "# we need to change the form of genres to be able to manipulate with ardd operations\n",
        "def TurntoGenres(genres):\n",
        "  if genres != None:\n",
        "    return \",\".join([genre[1] for genre in genres])\n",
        "MyFunc = udf(lambda x:TurntoGenres(x),StringType()) "
      ],
      "metadata": {
        "id": "8NFDBjV2GyK5"
      },
      "execution_count": null,
      "outputs": []
    },
    {
      "cell_type": "code",
      "source": [
        "Genres = Maindf.withColumn(\"genres\", MyFunc(Maindf['genres']))# we need Genres only\n",
        "Genres = Genres.select([\"genres\"])\n",
        "Genres.show(5,truncate = False)"
      ],
      "metadata": {
        "colab": {
          "base_uri": "https://localhost:8080/"
        },
        "id": "E2zytoUiGyK-",
        "outputId": "da05491e-2eba-4dc0-96e4-2bc1a87a4150"
      },
      "execution_count": null,
      "outputs": [
        {
          "output_type": "stream",
          "name": "stdout",
          "text": [
            "+---------------------+\n",
            "|genres               |\n",
            "+---------------------+\n",
            "|null                 |\n",
            "|Drama,Comedy,Romance |\n",
            "|Crime,Comedy         |\n",
            "|Action,Crime,Thriller|\n",
            "|Documentary          |\n",
            "+---------------------+\n",
            "only showing top 5 rows\n",
            "\n"
          ]
        }
      ]
    },
    {
      "cell_type": "code",
      "source": [
        "def GetGenreCombinations(string):\n",
        "    Genres = string.split(',')\n",
        "    # if the genre is mentioned alone add None to see if some Genres come alone\n",
        "    if len(Genres)==1:\n",
        "      Genres.append(\"None\")\n",
        "    #sort the Genres to avoid tuples that contain the same two Genres but in different order\n",
        "    Genres.sort()\n",
        "    #return the combinations of Genres\n",
        "    return list(combinations(Genres, 2))"
      ],
      "metadata": {
        "id": "tuNQfuImE1lz"
      },
      "execution_count": null,
      "outputs": []
    },
    {
      "cell_type": "code",
      "source": [
        "GenresPairs = Genres.rdd.flatMap(lambda x:x)\\\n",
        "          .filter(lambda movie: movie != None and movie != '' ) \\\n",
        "          .map(lambda champList:GetGenreCombinations(champList)) \\\n",
        "          .flatMap(lambda pair:pair) \\\n",
        "          .map(lambda pair:(pair,2)) \\\n",
        "          .reduceByKey(lambda pair1,pair2:pair1+pair2) \\\n",
        "          .sortBy(lambda pair:pair[1],ascending=False) \\\n",
        "          .collect()"
      ],
      "metadata": {
        "id": "zIgDuZPZE1hV"
      },
      "execution_count": null,
      "outputs": []
    },
    {
      "cell_type": "code",
      "source": [
        "data = dict(GenresPairs)\n",
        "pairs = list(data.keys())[:10]\n",
        "keys = ['&'.join(pair) for pair in pairs]\n",
        "values = list(data.values())[:10]\n",
        "fig, ax  = plt.subplots(figsize=(20,5))\n",
        "plt.bar(keys, values,color=['orange'],width = 0.5)\n",
        "ax.set_ylabel('Score')\n",
        "ax.set_xlabel('Genres Pairs')\n",
        "plt.title(\"Top 10 Genres Pairs\")\n",
        "plt.show()\n",
        "plt.savefig(savePath+'Top 10 Genres Pairs.png')"
      ],
      "metadata": {
        "colab": {
          "base_uri": "https://localhost:8080/"
        },
        "id": "Jlb-6bvfE1dh",
        "outputId": "0146e959-8b08-4ede-9806-d9c4ac0fef92"
      },
      "execution_count": null,
      "outputs": [
        {
          "output_type": "display_data",
          "data": {
            "text/plain": [
              "<Figure size 1440x360 with 1 Axes>"
            ],
            "image/png": "[encoded data removed]"
          },
          "metadata": {
            "needs_background": "light"
          }
        },
        {
          "output_type": "display_data",
          "data": {
            "text/plain": [
              "<Figure size 432x288 with 0 Axes>"
            ]
          },
          "metadata": {}
        }
      ]
    },
    {
      "cell_type": "markdown",
      "source": [
        "## Most Spoken Languages"
      ],
      "metadata": {
        "id": "djCaiLOf0Yva"
      }
    },
    {
      "cell_type": "code",
      "source": [
        "# we need to change the form of spoken_languages to be able to manipulate with rdd operations\n",
        "def TurntoLangs(Langs):\n",
        "  if Langs != None:\n",
        "    return \",\".join([lang[0] for lang in Langs])\n",
        "MyFunc = udf(lambda x:TurntoLangs(x),StringType()) "
      ],
      "metadata": {
        "id": "C7UmXUwa0ZfL"
      },
      "execution_count": null,
      "outputs": []
    },
    {
      "cell_type": "code",
      "source": [
        "testdf = Maindf.withColumn(\"spoken_languages\", MyFunc(Maindf['spoken_languages']))"
      ],
      "metadata": {
        "id": "KUjPLpBR0fAU"
      },
      "execution_count": null,
      "outputs": []
    },
    {
      "cell_type": "code",
      "source": [
        "testdf.show(3)"
      ],
      "metadata": {
        "colab": {
          "base_uri": "https://localhost:8080/"
        },
        "id": "NZfo6EsP0j88",
        "outputId": "18824f78-b2b3-40b7-d760-f3308ff64400"
      },
      "execution_count": null,
      "outputs": [
        {
          "output_type": "stream",
          "name": "stdout",
          "text": [
            "+--------------------+-----+--------------------+---------------------+-------+--------------------+--------------------+----+---------+-----------------+--------------------+--------------------+----------+--------------------+--------------------+--------------------+------------+-------+-------+--------------------+--------+--------------------+-------------------+-----+------------+----------+\n",
            "|     _corrupt_record|adult|       backdrop_path|belongs_to_collection| budget|              genres|            homepage|  id|  imdb_id|original_language|      original_title|            overview|popularity|         poster_path|production_companies|production_countries|release_date|revenue|runtime|    spoken_languages|  status|             tagline|              title|video|vote_average|vote_count|\n",
            "+--------------------+-----+--------------------+---------------------+-------+--------------------+--------------------+----+---------+-----------------+--------------------+--------------------+----------+--------------------+--------------------+--------------------+------------+-------+-------+--------------------+--------+--------------------+-------------------+-----+------------+----------+\n",
            "|[{\"adult\": false,...| null|                null|                 null|   null|                null|                null|null|     null|             null|                null|                null|      null|                null|                null|                null|        null|   null|   null|                null|    null|                null|               null| null|        null|      null|\n",
            "|                null|false|/l94l89eMmFKh7na2...|                 null|      0|[{18, Drama}, {35...|                    |   3|tt0092149|               fi|Varjoja paratiisissa|An episode in the...|    32.525|/nj01hspawPof0mJm...|[{2303, null, Vil...|     [{FI, Finland}]|  1986-10-17|      0|     74|Swedish,Finnish,E...|Released|                    |Shadows in Paradise|false|       7.274|       208|\n",
            "|                null|false|/c1BaOxC8bo5ACFYk...|                 null|4000000|[{80, Crime}, {35...|https://www.miram...|   5|tt0113101|               en|          Four Rooms|It's Ted the Bell...|    45.378|/75aHn1NOYXh4M7L5...|[{14, /m6AHu84oZQ...|[{US, United Stat...|  1995-12-09|4257354|     98|             English|Released|Twelve outrageous...|         Four Rooms|false|       5.713|      2280|\n",
            "+--------------------+-----+--------------------+---------------------+-------+--------------------+--------------------+----+---------+-----------------+--------------------+--------------------+----------+--------------------+--------------------+--------------------+------------+-------+-------+--------------------+--------+--------------------+-------------------+-----+------------+----------+\n",
            "only showing top 3 rows\n",
            "\n"
          ]
        }
      ]
    },
    {
      "cell_type": "code",
      "source": [
        "#we select the production countries\n",
        "SpokenLanguages = testdf.select([\"spoken_languages\"])\n",
        "SpokenLanguages.show(5,truncate = False)"
      ],
      "metadata": {
        "colab": {
          "base_uri": "https://localhost:8080/"
        },
        "id": "6ZRE1L0x0out",
        "outputId": "14d9a428-02c1-47ff-d548-2d3b069c9fcc"
      },
      "execution_count": null,
      "outputs": [
        {
          "output_type": "stream",
          "name": "stdout",
          "text": [
            "+--------------------------------------+\n",
            "|spoken_languages                      |\n",
            "+--------------------------------------+\n",
            "|null                                  |\n",
            "|Swedish,Finnish,English               |\n",
            "|English                               |\n",
            "|English                               |\n",
            "|English,Hindi,Japanese,Russian,Spanish|\n",
            "+--------------------------------------+\n",
            "only showing top 5 rows\n",
            "\n"
          ]
        }
      ]
    },
    {
      "cell_type": "code",
      "source": [
        "mostSpokenLanguages = SpokenLanguages.rdd.flatMap(lambda x:x)\\\n",
        "          .filter(lambda movie: movie != None) \\\n",
        "          .flatMap(lambda movie:[(lang,1) for lang in movie.split(',')]) \\\n",
        "          .reduceByKey(lambda l1,l2:l1+l2) \\\n",
        "          .map(lambda lang:(lang[0],round((lang[1]/df_count)*100,2)))\\\n",
        "          .sortBy(lambda lang: lang[1],ascending=False)\\\n",
        "          .filter(lambda lang: lang[0] != '') \\\n",
        "          .collect()"
      ],
      "metadata": {
        "id": "4mCNnhO40qPS"
      },
      "execution_count": null,
      "outputs": []
    },
    {
      "cell_type": "code",
      "source": [
        "data = dict(mostSpokenLanguages)\n",
        "keys = list(data.keys())[:10]\n",
        "values = list(data.values())[:10]\n",
        "fig, ax  = plt.subplots(figsize=(20,5))\n",
        "plt.bar(keys, values,color=['green'],width = 0.5)\n",
        "ax.set_ylabel('Percentage')\n",
        "ax.set_xlabel('Language')\n",
        "plt.title(\"Top 10 Spoken Languages\")\n",
        "plt.show()\n",
        "plt.savefig(savePath+'Top 10 Spoken Languages.png')"
      ],
      "metadata": {
        "colab": {
          "base_uri": "https://localhost:8080/",
          "height": 280
        },
        "id": "DqvTRYvt0raS",
        "outputId": "953c75b4-14d2-43a9-e738-46a9a2ed9d9e"
      },
      "execution_count": null,
      "outputs": [
        {
          "output_type": "display_data",
          "data": {
            "text/plain": [
              "<Figure size 1440x360 with 1 Axes>"
            ],
            "image/png": "[encoded data removed]"
          },
          "metadata": {
            "needs_background": "light"
          }
        },
        {
          "output_type": "display_data",
          "data": {
            "text/plain": [
              "<Figure size 432x288 with 0 Axes>"
            ]
          },
          "metadata": {}
        }
      ]
    },
    {
      "cell_type": "markdown",
      "source": [
        "## Adult Film Percent"
      ],
      "metadata": {
        "id": "tkurv9p-4BCM"
      }
    },
    {
      "cell_type": "code",
      "source": [
        "AdultFlag = Maindf.select(['adult'])"
      ],
      "metadata": {
        "id": "Yf5jQ2n14Imy"
      },
      "execution_count": null,
      "outputs": []
    },
    {
      "cell_type": "code",
      "source": [
        "AdultFlag.show(3)"
      ],
      "metadata": {
        "colab": {
          "base_uri": "https://localhost:8080/"
        },
        "outputId": "e21d56fd-6cca-49d1-d33e-1b66d6e2833f",
        "id": "HKzFWFPQ4Im6"
      },
      "execution_count": null,
      "outputs": [
        {
          "output_type": "stream",
          "name": "stdout",
          "text": [
            "+-----+\n",
            "|adult|\n",
            "+-----+\n",
            "| null|\n",
            "|false|\n",
            "|false|\n",
            "+-----+\n",
            "only showing top 3 rows\n",
            "\n"
          ]
        }
      ]
    },
    {
      "cell_type": "code",
      "source": [
        "AdultFlagCount = AdultFlag.rdd.flatMap(lambda x:x)\\\n",
        "          .filter(lambda movie: movie != None) \\\n",
        "          .map(lambda movie:(str(movie),1)) \\\n",
        "          .reduceByKey(lambda l1,l2:l1+l2) \\\n",
        "          .map(lambda movie:( movie[0],round(( movie[1]/df_count)*100,2)))\\\n",
        "          .sortBy(lambda movie:  movie[1],ascending=False)\\\n",
        "          .filter(lambda movie:  movie[0] != '') \\\n",
        "          .collect()"
      ],
      "metadata": {
        "id": "wlb5Jz_l4InD"
      },
      "execution_count": null,
      "outputs": []
    },
    {
      "cell_type": "code",
      "source": [
        "data = dict(AdultFlagCount)\n",
        "keys = list(data.keys())[:10]\n",
        "values = list(data.values())[:10]\n",
        "fig, ax  = plt.subplots(figsize=(5,5))\n",
        "plt.bar(keys, values,color=['green'],width = 0.5)\n",
        "ax.set_ylabel('Percentage')\n",
        "ax.set_xlabel('Adult Film')\n",
        "plt.title(\"Adult Film Percentage\")\n",
        "plt.show()\n",
        "plt.savefig(savePath+'Adult Film Percentage.png')"
      ],
      "metadata": {
        "colab": {
          "base_uri": "https://localhost:8080/",
          "height": 367
        },
        "outputId": "32d5819d-a3ad-4f5e-ce25-3dde3af4ec7c",
        "id": "3eCl8XYX4InG"
      },
      "execution_count": null,
      "outputs": [
        {
          "output_type": "display_data",
          "data": {
            "text/plain": [
              "<Figure size 360x360 with 1 Axes>"
            ],
            "image/png": "[encoded data removed]"
          },
          "metadata": {
            "needs_background": "light"
          }
        },
        {
          "output_type": "display_data",
          "data": {
            "text/plain": [
              "<Figure size 432x288 with 0 Axes>"
            ]
          },
          "metadata": {}
        }
      ]
    },
    {
      "cell_type": "markdown",
      "source": [
        "## Certain words in Overview and Avg Rate"
      ],
      "metadata": {
        "id": "CzDT3ZLI7Q-j"
      }
    },
    {
      "cell_type": "code",
      "source": [
        "#Since we made the data set we set the left team to be the one that won\n",
        "voteAvgAndOverview = testdf.select([\"vote_average\",\"overview\"])\n",
        "voteAvgAndOverview = voteAvgAndOverview.withColumn('vote_average/overview', concat(col('vote_average'),lit('_'),col('overview')))\n",
        "voteAvgAndOverview = voteAvgAndOverview.select([\"vote_average/overview\"])\n",
        "voteAvgAndOverview.show(5,truncate = False)"
      ],
      "metadata": {
        "colab": {
          "base_uri": "https://localhost:8080/"
        },
        "outputId": "95e96801-d5c8-4847-c61d-2f95c079a8cb",
        "id": "T2ynIP5V7Rom"
      },
      "execution_count": null,
      "outputs": [
        {
          "output_type": "stream",
          "name": "stdout",
          "text": [
            "+-------------------------------------------------------------------------------------------------------------------------------------------------------------------------------------------------------------------------------------------------------------------------------------------------------------------------------------------------------------------------------------------------------------------------------------------------------------------------------------------------------------------------------------------------------------------------------------------------------------------------------------------------------------------------------------------------------------------------------------------------------------------------------------------------------------------------------------------------------------------------------------------------------------------------------------------------------------------------------------------------+\n",
            "|vote_average/overview                                                                                                                                                                                                                                                                                                                                                                                                                                                                                                                                                                                                                                                                                                                                                                                                                                                                                                                                                                            |\n",
            "+-------------------------------------------------------------------------------------------------------------------------------------------------------------------------------------------------------------------------------------------------------------------------------------------------------------------------------------------------------------------------------------------------------------------------------------------------------------------------------------------------------------------------------------------------------------------------------------------------------------------------------------------------------------------------------------------------------------------------------------------------------------------------------------------------------------------------------------------------------------------------------------------------------------------------------------------------------------------------------------------------+\n",
            "|null                                                                                                                                                                                                                                                                                                                                                                                                                                                                                                                                                                                                                                                                                                                                                                                                                                                                                                                                                                                             |\n",
            "|7.274_An episode in the life of Nikander, a garbage man, involving the death of a co-worker, an affair and much more.                                                                                                                                                                                                                                                                                                                                                                                                                                                                                                                                                                                                                                                                                                                                                                                                                                                                            |\n",
            "|5.713_It's Ted the Bellhop's first night on the job...and the hotel's very unusual guests are about to place him in some outrageous predicaments. It seems that this evening's room service is serving up one unbelievable happening after another.                                                                                                                                                                                                                                                                                                                                                                                                                                                                                                                                                                                                                                                                                                                                              |\n",
            "|6.57_While racing to a boxing match, Frank, Mike, John and Rey get more than they bargained for. A wrong turn lands them directly in the path of Fallon, a vicious, wise-cracking drug lord. After accidentally witnessing Fallon murder a disloyal henchman, the four become his unwilling prey in a savage game of cat and mouse as they are mercilessly stalked through the urban jungle in this taut suspense drama.                                                                                                                                                                                                                                                                                                                                                                                                                                                                                                                                                                         |\n",
            "|7.738_Timo Novotny labels his new project an experimental music documentary film, in a remix of the celebrated film Megacities (1997), a visually refined essay on the hidden faces of several world \"megacities\" by leading Austrian documentarist Michael Glawogger. Novotny complements 30 % of material taken straight from the film (and re-edited) with 70 % as yet unseen footage in which he blends original shots unused by Glawogger with his own sequences (shot by Megacities cameraman Wolfgang Thaler) from Tokyo. Alongside the Japanese metropolis, Life in Loops takes us right into the atmosphere of Mexico City, New York, Moscow and Bombay. This electrifying combination of fascinating film images and an equally compelling soundtrack from Sofa Surfers sets us off on a stunning audiovisual adventure across the continents. The film also makes an original contribution to the discussion on new trends in documentary filmmaking. Written by KARLOVY VARY IFF 2006|\n",
            "+-------------------------------------------------------------------------------------------------------------------------------------------------------------------------------------------------------------------------------------------------------------------------------------------------------------------------------------------------------------------------------------------------------------------------------------------------------------------------------------------------------------------------------------------------------------------------------------------------------------------------------------------------------------------------------------------------------------------------------------------------------------------------------------------------------------------------------------------------------------------------------------------------------------------------------------------------------------------------------------------------+\n",
            "only showing top 5 rows\n",
            "\n"
          ]
        }
      ]
    },
    {
      "cell_type": "code",
      "source": [
        "import re\n",
        "voteAvgAndWordsInOverview = voteAvgAndOverview.rdd.flatMap(lambda x:x)\\\n",
        "          .filter(lambda movie: movie != None) \\\n",
        "          .flatMap(lambda movie:[(re.sub('\\W+','', word),(float(movie.split('_')[0]),1)) for word in movie.split('_')[1].split(' ')]) \\\n",
        "          .reduceByKey(lambda m1,m2:(m1[0]+m2[0],m1[1]+m2[1])) \\\n",
        "          .map(lambda movie:(movie[0],round((movie[1][0]/movie[1][1]),2)))\\\n",
        "          .sortBy(lambda movie: movie[1],ascending=False)\\\n",
        "          .filter(lambda movie: movie[0] != '') \\\n",
        "          .collect()"
      ],
      "metadata": {
        "id": "LCxy4D7f7Rom"
      },
      "execution_count": null,
      "outputs": []
    },
    {
      "cell_type": "code",
      "source": [
        "data = dict(voteAvgAndWordsInOverview )\n",
        "keys = list(data.keys())[:10]\n",
        "values = list(data.values())[:10]\n",
        "fig, ax  = plt.subplots(figsize=(20,5))\n",
        "plt.bar(keys, values,color=['green'],width = 0.5)\n",
        "ax.set_ylabel('Avg Vote')\n",
        "ax.set_xlabel('Words')\n",
        "plt.title(\"Top 10 Overview Words & Avg Vote\")\n",
        "plt.show()\n",
        "plt.savefig(savePath+'Top 10 Overview Words & Avg Vote.png')"
      ],
      "metadata": {
        "colab": {
          "base_uri": "https://localhost:8080/",
          "height": 280
        },
        "outputId": "fac7a35c-69a4-439f-cbeb-6c26a13d7baf",
        "id": "JcGUg4wf7Roo"
      },
      "execution_count": null,
      "outputs": [
        {
          "output_type": "display_data",
          "data": {
            "text/plain": [
              "<Figure size 1440x360 with 1 Axes>"
            ],
            "image/png": "[encoded data removed]"
          },
          "metadata": {
            "needs_background": "light"
          }
        },
        {
          "output_type": "display_data",
          "data": {
            "text/plain": [
              "<Figure size 432x288 with 0 Axes>"
            ]
          },
          "metadata": {}
        }
      ]
    },
    {
      "cell_type": "markdown",
      "source": [],
      "metadata": {
        "id": "oPdFOCDCWDju"
      }
    },
    {
      "cell_type": "markdown",
      "source": [
        "#Analyses IMDb Review Dataset "
      ],
      "metadata": {
        "id": "AI08_-pw_UBd"
      }
    },
    {
      "cell_type": "code",
      "source": [
        "# Read JSON file into dataframe\n",
        "revdf = spark.read.json(\"/content/sample.json\")"
      ],
      "metadata": {
        "id": "CWU18VEtEbGM"
      },
      "execution_count": null,
      "outputs": []
    },
    {
      "cell_type": "code",
      "source": [
        "revdf.printSchema()"
      ],
      "metadata": {
        "colab": {
          "base_uri": "https://localhost:8080/"
        },
        "outputId": "42026887-7c2d-436d-b427-35498e5c5fba",
        "id": "5G39L8v2EbGN"
      },
      "execution_count": null,
      "outputs": [
        {
          "output_type": "stream",
          "name": "stdout",
          "text": [
            "root\n",
            " |-- helpful: array (nullable = true)\n",
            " |    |-- element: string (containsNull = true)\n",
            " |-- movie: string (nullable = true)\n",
            " |-- rating: string (nullable = true)\n",
            " |-- review_date: string (nullable = true)\n",
            " |-- review_detail: string (nullable = true)\n",
            " |-- review_id: string (nullable = true)\n",
            " |-- review_summary: string (nullable = true)\n",
            " |-- reviewer: string (nullable = true)\n",
            " |-- spoiler_tag: long (nullable = true)\n",
            "\n"
          ]
        }
      ]
    },
    {
      "cell_type": "code",
      "source": [
        "revdf.show(5)"
      ],
      "metadata": {
        "colab": {
          "base_uri": "https://localhost:8080/"
        },
        "outputId": "47cbf955-0147-46ce-aac0-1f5ae0080d2a",
        "id": "ywXdRuASEbGO"
      },
      "execution_count": null,
      "outputs": [
        {
          "output_type": "stream",
          "name": "stdout",
          "text": [
            "+--------+--------------------+------+------------+--------------------+---------+--------------------+-------------------+-----------+\n",
            "| helpful|               movie|rating| review_date|       review_detail|review_id|      review_summary|           reviewer|spoiler_tag|\n",
            "+--------+--------------------+------+------------+--------------------+---------+--------------------+-------------------+-----------+\n",
            "|  [0, 1]|Kill Bill: Vol. 2...|     8|24 July 2005|After seeing Tara...|rw1133942|Good follow up th...|OriginalMovieBuff21|          0|\n",
            "|[11, 11]|Journey to the Un...|  null|24 July 2005|I have the entire...|rw1133943|    Excellent series|           sentra14|          0|\n",
            "|  [2, 5]|   The Island (2005)|     9|24 July 2005|Once again the cr...|rw1133946|Not just about ac...|  GreenwheelFan2002|          0|\n",
            "|  [2, 3]|Win a Date with T...|     3|24 July 2005|This IS a film th...|rw1133948|Falls under the c...|     itsascreambaby|          0|\n",
            "|  [4, 4]|Saturday Night Li...|    10|24 July 2005|Chris Farley is o...|rw1133949|Before Tommy Boy ...|OriginalMovieBuff21|          0|\n",
            "+--------+--------------------+------+------------+--------------------+---------+--------------------+-------------------+-----------+\n",
            "only showing top 5 rows\n",
            "\n"
          ]
        }
      ]
    },
    {
      "cell_type": "code",
      "source": [
        "!rm -r    '/content/AnalysisResults_IMDb'\n",
        "!mkdir    '/content/AnalysisResults_IMDb'"
      ],
      "metadata": {
        "id": "Jd_EmvdiIdyC",
        "colab": {
          "base_uri": "https://localhost:8080/"
        },
        "outputId": "90076f00-58d6-41ca-8af0-9525ffda43f4"
      },
      "execution_count": null,
      "outputs": [
        {
          "output_type": "stream",
          "name": "stdout",
          "text": [
            "rm: cannot remove '/content/AnalysisResults_IMDb': No such file or directory\n"
          ]
        }
      ]
    },
    {
      "cell_type": "code",
      "source": [
        "savePath='/content/AnalysisResults_IMDb/'\n",
        "df_count = revdf.count()\n",
        "print(df_count)"
      ],
      "metadata": {
        "colab": {
          "base_uri": "https://localhost:8080/"
        },
        "id": "wZ-gBxReH9zD",
        "outputId": "d3786766-928f-4d8c-d977-8e682f7a3bfe"
      },
      "execution_count": null,
      "outputs": [
        {
          "output_type": "stream",
          "name": "stdout",
          "text": [
            "100000\n"
          ]
        }
      ]
    },
    {
      "cell_type": "markdown",
      "source": [
        "## Most Reviewing Users"
      ],
      "metadata": {
        "id": "MjJp4YHMHkrf"
      }
    },
    {
      "cell_type": "code",
      "source": [
        "reviewers = revdf.select(['reviewer'])"
      ],
      "metadata": {
        "id": "tF6lG6rgHjlB"
      },
      "execution_count": null,
      "outputs": []
    },
    {
      "cell_type": "code",
      "source": [
        "reviewers.show(3)"
      ],
      "metadata": {
        "colab": {
          "base_uri": "https://localhost:8080/"
        },
        "outputId": "3fc272ac-1820-4052-b2b0-438a096cedae",
        "id": "CQHhDq8oHjlC"
      },
      "execution_count": null,
      "outputs": [
        {
          "output_type": "stream",
          "name": "stdout",
          "text": [
            "+-------------------+\n",
            "|           reviewer|\n",
            "+-------------------+\n",
            "|OriginalMovieBuff21|\n",
            "|           sentra14|\n",
            "|  GreenwheelFan2002|\n",
            "+-------------------+\n",
            "only showing top 3 rows\n",
            "\n"
          ]
        }
      ]
    },
    {
      "cell_type": "code",
      "source": [
        "reviewersCount = reviewers.rdd.flatMap(lambda x:x)\\\n",
        "          .filter(lambda reviewer:reviewer != None) \\\n",
        "          .map(lambda reviewer:(reviewer,1)) \\\n",
        "          .reduceByKey(lambda r1,r2:r1+r2) \\\n",
        "          .map(lambda reviewer:( reviewer[0], reviewer[1]))\\\n",
        "          .sortBy(lambda reviewer:  reviewer[1],ascending=False)\\\n",
        "          .filter(lambda reviewer:  reviewer[0] != '') \\\n",
        "          .collect()"
      ],
      "metadata": {
        "id": "b-ix_xoIHjlD"
      },
      "execution_count": null,
      "outputs": []
    },
    {
      "cell_type": "code",
      "source": [
        "data = dict(reviewersCount)\n",
        "keys = list(data.keys())[:10]\n",
        "values = list(data.values())[:10]\n",
        "fig, ax  = plt.subplots(figsize=(25,5))\n",
        "plt.bar(keys, values,color=['green'],width = 0.5)\n",
        "ax.set_ylabel('Reviews Made')\n",
        "ax.set_xlabel('Reviewer')\n",
        "plt.title(\"Top 10 Most Reviewing Users\")\n",
        "plt.show()\n",
        "plt.savefig(savePath+'Top 10 Most Reviewing Users.png')"
      ],
      "metadata": {
        "colab": {
          "base_uri": "https://localhost:8080/"
        },
        "outputId": "950d52e2-aecd-46e8-cf36-ce4a4de7ebc0",
        "id": "adO8cdxCHjlE"
      },
      "execution_count": null,
      "outputs": [
        {
          "output_type": "display_data",
          "data": {
            "text/plain": [
              "<Figure size 1800x360 with 1 Axes>"
            ],
            "image/png": "[encoded data removed]"
          },
          "metadata": {
            "needs_background": "light"
          }
        },
        {
          "output_type": "display_data",
          "data": {
            "text/plain": [
              "<Figure size 432x288 with 0 Axes>"
            ]
          },
          "metadata": {}
        }
      ]
    },
    {
      "cell_type": "markdown",
      "source": [
        "## Most helpful reviewers"
      ],
      "metadata": {
        "id": "QHTtdxWr0SrU"
      }
    },
    {
      "cell_type": "code",
      "source": [
        "reviews = revdf.select(['reviewer', 'helpful'])\n",
        "reviews.show(5)"
      ],
      "metadata": {
        "colab": {
          "base_uri": "https://localhost:8080/"
        },
        "id": "KWpVU3nv0VKm",
        "outputId": "d9306029-1408-4d25-f472-9997f3291bb0"
      },
      "execution_count": null,
      "outputs": [
        {
          "output_type": "stream",
          "name": "stdout",
          "text": [
            "+-------------------+--------+\n",
            "|           reviewer| helpful|\n",
            "+-------------------+--------+\n",
            "|OriginalMovieBuff21|  [0, 1]|\n",
            "|           sentra14|[11, 11]|\n",
            "|  GreenwheelFan2002|  [2, 5]|\n",
            "|     itsascreambaby|  [2, 3]|\n",
            "|OriginalMovieBuff21|  [4, 4]|\n",
            "+-------------------+--------+\n",
            "only showing top 5 rows\n",
            "\n"
          ]
        }
      ]
    },
    {
      "cell_type": "code",
      "source": [
        "# Auxiliary function to check if a review is helpful\n",
        "def is_helpful(h):\n",
        "    try:\n",
        "        if (float(h[0])/float(h[1])) > 0.5:\n",
        "            return 1\n",
        "        else:\n",
        "            return 0\n",
        "    except:\n",
        "        return 0"
      ],
      "metadata": {
        "id": "vpJ6cZ576NiK"
      },
      "execution_count": null,
      "outputs": []
    },
    {
      "cell_type": "code",
      "source": [
        "# Grabbing all helpful reviews out there\n",
        "helpful_reviews = reviews.rdd \\\n",
        "          .map(lambda row:(row[0], is_helpful(row[1]))) \\\n",
        "          .reduceByKey(lambda r1,r2:r1+r2) \\\n",
        "          .sortBy(lambda row:  row[1],ascending=False).collect()"
      ],
      "metadata": {
        "id": "TKdhaRiB5Kl4"
      },
      "execution_count": null,
      "outputs": []
    },
    {
      "cell_type": "code",
      "source": [
        "data = dict(helpful_reviews)\n",
        "keys = list(data.keys())[:10]\n",
        "values = list(data.values())[:10]\n",
        "fig, ax  = plt.subplots(figsize=(25,5))\n",
        "plt.bar(keys, values,color=['green'],width = 0.5)\n",
        "ax.set_ylabel('Number of helpful reviews')\n",
        "ax.set_xlabel('reviewers')\n",
        "plt.title(\"Top 10 Most helpful reviewers\")\n",
        "plt.show()"
      ],
      "metadata": {
        "colab": {
          "base_uri": "https://localhost:8080/"
        },
        "id": "FYxGoqkoEK8W",
        "outputId": "33477188-a7ea-4c24-ff86-1137e7c3097b"
      },
      "execution_count": null,
      "outputs": [
        {
          "output_type": "display_data",
          "data": {
            "text/plain": [
              "<Figure size 1800x360 with 1 Axes>"
            ],
            "image/png": "[encoded data removed]"
          },
          "metadata": {
            "needs_background": "light"
          }
        }
      ]
    },
    {
      "cell_type": "markdown",
      "source": [
        "## Number of spoiler-tagged reviews per user"
      ],
      "metadata": {
        "id": "S-HNDxFTFLVN"
      }
    },
    {
      "cell_type": "code",
      "source": [
        "reviewers = revdf.select(['reviewer', 'spoiler_tag'])\n",
        "reviewers.show(5)"
      ],
      "metadata": {
        "colab": {
          "base_uri": "https://localhost:8080/"
        },
        "id": "sl4h5o_9FQ3N",
        "outputId": "78617a60-98bf-4ccd-9a7a-41b7b0b13a91"
      },
      "execution_count": null,
      "outputs": [
        {
          "output_type": "stream",
          "name": "stdout",
          "text": [
            "+-------------------+-----------+\n",
            "|           reviewer|spoiler_tag|\n",
            "+-------------------+-----------+\n",
            "|OriginalMovieBuff21|          0|\n",
            "|           sentra14|          0|\n",
            "|  GreenwheelFan2002|          0|\n",
            "|     itsascreambaby|          0|\n",
            "|OriginalMovieBuff21|          0|\n",
            "+-------------------+-----------+\n",
            "only showing top 5 rows\n",
            "\n"
          ]
        }
      ]
    },
    {
      "cell_type": "code",
      "source": [
        "# Grabbing all helpful reviews out there\n",
        "spoiler_reviewers = reviewers.rdd \\\n",
        "          .map(lambda row:(row[0], float(row[1]))) \\\n",
        "          .reduceByKey(lambda r1,r2:r1+r2) \\\n",
        "          .sortBy(lambda row:  row[1],ascending=False).collect()"
      ],
      "metadata": {
        "id": "Plrr7bXnHBP7"
      },
      "execution_count": null,
      "outputs": []
    },
    {
      "cell_type": "code",
      "source": [
        "data = dict(spoiler_reviewers)\n",
        "keys = list(data.keys())[:10]\n",
        "values = list(data.values())[:10]\n",
        "fig, ax  = plt.subplots(figsize=(25,5))\n",
        "plt.bar(keys, values,color=['green'],width = 0.5)\n",
        "ax.set_ylabel('Number of spoiler-tagged reviews')\n",
        "ax.set_xlabel('reviewers')\n",
        "plt.title(\"Top 10 spoiler-tagged reviewers\")\n",
        "plt.show()"
      ],
      "metadata": {
        "colab": {
          "base_uri": "https://localhost:8080/"
        },
        "id": "CXH9xKoeHLGN",
        "outputId": "fb36f1b6-4582-4952-a904-b738a4700178"
      },
      "execution_count": null,
      "outputs": [
        {
          "output_type": "display_data",
          "data": {
            "text/plain": [
              "<Figure size 1800x360 with 1 Axes>"
            ],
            "image/png": "[encoded data removed]"
          },
          "metadata": {
            "needs_background": "light"
          }
        }
      ]
    },
    {
      "cell_type": "markdown",
      "source": [
        "## Average rate per movie"
      ],
      "metadata": {
        "id": "zsl4ibjWJ_bW"
      }
    },
    {
      "cell_type": "code",
      "source": [
        "movies = revdf.select(['movie', 'rating'])\n",
        "movies.show(5)"
      ],
      "metadata": {
        "colab": {
          "base_uri": "https://localhost:8080/"
        },
        "id": "UHyK5MmKKC91",
        "outputId": "ba594223-f02e-41e6-bc4c-8d6d1b24355b"
      },
      "execution_count": null,
      "outputs": [
        {
          "output_type": "stream",
          "name": "stdout",
          "text": [
            "+--------------------+------+\n",
            "|               movie|rating|\n",
            "+--------------------+------+\n",
            "|Kill Bill: Vol. 2...|     8|\n",
            "|Journey to the Un...|  null|\n",
            "|   The Island (2005)|     9|\n",
            "|Win a Date with T...|     3|\n",
            "|Saturday Night Li...|    10|\n",
            "+--------------------+------+\n",
            "only showing top 5 rows\n",
            "\n"
          ]
        }
      ]
    },
    {
      "cell_type": "code",
      "source": [
        "# function to turn the rating into float\n",
        "def to_float(rating):\n",
        "    try:\n",
        "        return float(rating)\n",
        "    except:\n",
        "        return 0"
      ],
      "metadata": {
        "id": "fSRcG9CFK3Xu"
      },
      "execution_count": null,
      "outputs": []
    },
    {
      "cell_type": "code",
      "source": [
        "movies_rating = movies.rdd \\\n",
        "    .map(lambda row: (row[0], (to_float(row[1]), 1))) \\\n",
        "    .reduceByKey(lambda v1, v2:(v1[0]+v2[0], v1[1]+v2[1])) \\\n",
        "    .map(lambda row: (row[0], row[1][0]/row[1][1])) \\\n",
        "    .sortBy(lambda row:  row[1],ascending=True).collect()"
      ],
      "metadata": {
        "id": "FDgwTm8-KTKi"
      },
      "execution_count": null,
      "outputs": []
    },
    {
      "cell_type": "code",
      "source": [
        "# histogram of movies\n",
        "data = dict(movies_rating)\n",
        "keys = list(data.keys())\n",
        "values = list(data.values())\n",
        "fig, ax  = plt.subplots(figsize=(25,5))\n",
        "plt.hist(values,color=['green'],width = 0.5)\n",
        "ax.set_ylabel('Number of movies')\n",
        "ax.set_xlabel('rate')\n",
        "plt.title(\"Number of movies for each rate\")\n",
        "plt.show()"
      ],
      "metadata": {
        "colab": {
          "base_uri": "https://localhost:8080/",
          "height": 214
        },
        "id": "nI816u2MuHF7",
        "outputId": "d7468dc8-efb8-4dcd-8fa1-a6d3fbf269f3"
      },
      "execution_count": null,
      "outputs": [
        {
          "output_type": "display_data",
          "data": {
            "text/plain": [
              "<Figure size 1800x360 with 1 Axes>"
            ],
            "image/png": "[encoded data removed]"
          },
          "metadata": {
            "needs_background": "light"
          }
        }
      ]
    },
    {
      "cell_type": "markdown",
      "source": [
        "## Occurences of each movie as a favorite movie"
      ],
      "metadata": {
        "id": "BaEDXzY6w0k8"
      }
    },
    {
      "cell_type": "code",
      "source": [
        "movies = revdf.select(['reviewer', 'movie', 'rating'])\n",
        "movies.show(5)"
      ],
      "metadata": {
        "colab": {
          "base_uri": "https://localhost:8080/"
        },
        "id": "UY1oOn1Lw9Gt",
        "outputId": "81b1e7c0-b8b5-4968-de70-533950fef994"
      },
      "execution_count": null,
      "outputs": [
        {
          "output_type": "stream",
          "name": "stdout",
          "text": [
            "+-------------------+--------------------+------+\n",
            "|           reviewer|               movie|rating|\n",
            "+-------------------+--------------------+------+\n",
            "|OriginalMovieBuff21|Kill Bill: Vol. 2...|     8|\n",
            "|           sentra14|Journey to the Un...|  null|\n",
            "|  GreenwheelFan2002|   The Island (2005)|     9|\n",
            "|     itsascreambaby|Win a Date with T...|     3|\n",
            "|OriginalMovieBuff21|Saturday Night Li...|    10|\n",
            "+-------------------+--------------------+------+\n",
            "only showing top 5 rows\n",
            "\n"
          ]
        }
      ]
    },
    {
      "cell_type": "code",
      "source": [
        "# function to turn the rating into float\n",
        "def to_float(rating):\n",
        "    try:\n",
        "        return float(rating)\n",
        "    except:\n",
        "        return 0"
      ],
      "metadata": {
        "id": "yMYSB5Yv31V7"
      },
      "execution_count": null,
      "outputs": []
    },
    {
      "cell_type": "code",
      "source": [
        "user_movie = movies.rdd \\\n",
        "    .map(lambda row: (row[0], (row[1],to_float(row[2])))) \\\n",
        "    .reduceByKey(lambda r1,r2:r1 if r1[1] > r2[1] else r2) \\\n",
        "    .map(lambda row: (row[1][0], 1)) \\\n",
        "    .reduceByKey(lambda r1, r2: float(r1)+float(r2)) \\\n",
        "    .sortBy(lambda row:  row[1],ascending=False).collect()\n",
        "    "
      ],
      "metadata": {
        "id": "-SN3qq1Vx5dQ"
      },
      "execution_count": null,
      "outputs": []
    },
    {
      "cell_type": "code",
      "source": [
        "user_movie"
      ],
      "metadata": {
        "colab": {
          "base_uri": "https://localhost:8080/"
        },
        "id": "UWFiOquC0WJg",
        "outputId": "68fbdd83-42ad-42ae-853e-62f60c5ae62e"
      },
      "execution_count": null,
      "outputs": [
        {
          "output_type": "execute_result",
          "data": {
            "text/plain": [
              "[('Harry Potter and the Goblet of Fire (2005)', 1066.0),\n",
              " ('Serenity (2005)', 843.0),\n",
              " ('King Kong (2005)', 842.0),\n",
              " ('The Chronicles of Narnia: The Lion, the Witch and the Wardrobe (2005)',\n",
              "  533.0),\n",
              " ('Charlie and the Chocolate Factory (2005)', 430.0),\n",
              " ('Rent (2005)', 349.0),\n",
              " ('A History of Violence (2005)', 329.0),\n",
              " ('Saw II (2005)', 322.0),\n",
              " ('Pride & Prejudice (2005)', 310.0),\n",
              " ('War of the Worlds (2005)', 306.0),\n",
              " ('The Dukes of Hazzard (2005)', 297.0),\n",
              " ('Doom (2005)', 288.0),\n",
              " ('Crash (I) (2004)', 257.0),\n",
              " ('Jarhead (2005)', 246.0),\n",
              " ('Brokeback Mountain (2005)', 245.0),\n",
              " ('Batman Begins (2005)', 235.0),\n",
              " ('The Island (2005)', 230.0),\n",
              " (\"The Devil's Rejects (2005)\", 226.0),\n",
              " ('The Brothers Grimm (2005)', 188.0),\n",
              " ('Final Fantasy VII: Advent Children (2005)', 179.0),\n",
              " ('Red Eye (2005)', 174.0),\n",
              " ('Walk the Line (2005)', 173.0),\n",
              " ('Sin City (2005)', 170.0),\n",
              " ('The Exorcism of Emily Rose (2005)', 163.0),\n",
              " ('Star Wars: Episode III - Revenge of the Sith (2005)', 162.0),\n",
              " ('Elizabethtown (2005)', 153.0),\n",
              " ('Æon Flux (2005)', 148.0),\n",
              " ('The Constant Gardener (2005)', 139.0),\n",
              " ('Wedding Crashers (2005)', 137.0),\n",
              " ('Four Brothers (2005)', 136.0),\n",
              " ('Fantastic Four (I) (2005)', 135.0),\n",
              " ('Flightplan (2005)', 130.0),\n",
              " ('The 40-Year-Old Virgin (2005)', 129.0),\n",
              " ('Syriana (2005)', 125.0),\n",
              " ('Stealth (2005)', 124.0),\n",
              " ('The Phantom of the Opera (2004)', 122.0),\n",
              " ('Corpse Bride (2005)', 119.0),\n",
              " ('Revolver (2005)', 116.0),\n",
              " ('Broken Flowers (2005)', 112.0),\n",
              " ('Napoleon Dynamite (2004)', 111.0),\n",
              " ('The Skeleton Key (2005)', 110.0),\n",
              " ('Alexander (2004)', 108.0),\n",
              " ('Wolf Creek (2005)', 104.0),\n",
              " ('Wallace & Gromit: The Curse of the Were-Rabbit (2005)', 98.0),\n",
              " ('March of the Penguins (2005)', 98.0),\n",
              " ('Good Night, and Good Luck. (2005)', 96.0),\n",
              " ('Land of the Dead (2005)', 95.0),\n",
              " ('The Descent (2005)', 94.0),\n",
              " ('Domino (2005)', 93.0),\n",
              " ('The Fog (2005)', 90.0),\n",
              " (\"The Hitchhiker's Guide to the Galaxy (2005)\", 88.0),\n",
              " ('Last Days (2005)', 85.0),\n",
              " ('Transporter 2 (2005)', 82.0),\n",
              " ('Constantine (2005)', 81.0),\n",
              " ('Must Love Dogs (2005)', 80.0),\n",
              " (\"Get Rich or Die Tryin' (2005)\", 79.0),\n",
              " ('The Family Stone (2005)', 75.0),\n",
              " ('Lord of War (2005)', 75.0),\n",
              " ('The Legend of Zorro (2005)', 71.0),\n",
              " ('Sky High (2005)', 70.0),\n",
              " ('Chicken Little (2005)', 70.0),\n",
              " ('The Great Raid (2005)', 69.0),\n",
              " ('Million Dollar Baby (2004)', 69.0),\n",
              " ('Derailed (I) (2005)', 69.0),\n",
              " ('Green Street Hooligans (2005)', 68.0),\n",
              " ('Cinderella Man (2005)', 66.0),\n",
              " ('The Shawshank Redemption (1994)', 66.0),\n",
              " ('Garden State (2004)', 64.0),\n",
              " ('Saw (2004)', 64.0),\n",
              " ('Mr. & Mrs. Smith (2005)', 63.0),\n",
              " ('Oldboy (2003)', 62.0),\n",
              " ('Kingdom of Heaven (2005)', 62.0),\n",
              " ('Just Like Heaven (2005)', 61.0),\n",
              " ('Hustle & Flow (2005)', 60.0),\n",
              " ('Stay (I) (2005)', 59.0),\n",
              " ('The Aristocrats (2005)', 58.0),\n",
              " ('The Cave (2005)', 58.0),\n",
              " ('The Weather Man (2005)', 57.0),\n",
              " ('Titanic (1997)', 56.0),\n",
              " ('High Tension (2003)', 56.0),\n",
              " ('Deuce Bigalow: European Gigolo (2005)', 55.0),\n",
              " ('Closer (I) (2004)', 55.0),\n",
              " ('Donnie Darko (2001)', 55.0),\n",
              " ('Over There (2005)', 54.0),\n",
              " ('The Notebook (2004)', 54.0),\n",
              " ('A Sound of Thunder (2005)', 53.0),\n",
              " ('Memoirs of a Geisha (2005)', 52.0),\n",
              " ('Capote (2005)', 51.0),\n",
              " ('Kiss Kiss Bang Bang (2005)', 51.0),\n",
              " ('The Lord of the Rings: The Return of the King (2003)', 51.0),\n",
              " ('Shopgirl (2005)', 51.0),\n",
              " ('Troy (2004)', 50.0),\n",
              " ('Bewitched (2005)', 49.0),\n",
              " ('House of Wax (2005)', 49.0),\n",
              " ('The Producers (2005)', 49.0),\n",
              " ('Stewie Griffin: The Untold Story (2005 Video)', 48.0),\n",
              " ('Unleashed (2005)', 47.0),\n",
              " ('Into the Blue (2005)', 47.0),\n",
              " ('Me and You and Everyone We Know (2005)', 46.0),\n",
              " ('Mangal Pandey: The Rising (2005)', 46.0),\n",
              " ('Requiem for a Dream (2000)', 46.0),\n",
              " ('The Passion of the Christ (2004)', 46.0),\n",
              " ('Sahara (2005)', 45.0),\n",
              " ('Keep Your Distance (2005)', 45.0),\n",
              " ('Helen of Troy (2003)', 44.0),\n",
              " ('What the #$*! Do We (K)now!? (2004)', 44.0),\n",
              " ('The Longest Yard (2005)', 43.0),\n",
              " ('Cry Wolf (2005)', 43.0),\n",
              " ('Grizzly Man (2005)', 43.0),\n",
              " ('Alone in the Dark (2005)', 43.0),\n",
              " ('Thirteen (2003)', 43.0),\n",
              " ('Waiting... (I) (2005)', 43.0),\n",
              " ('The Amityville Horror (2005)', 42.0),\n",
              " ('Downfall (2004)', 41.0),\n",
              " ('Madagascar (2005)', 41.0),\n",
              " ('American Pie Presents: Band Camp (2005 Video)', 40.0),\n",
              " ('Hotel Rwanda (2004)', 40.0),\n",
              " ('The Poseidon Adventure (2005 TV Movie)', 39.0),\n",
              " ('The Crow: Wicked Prayer (2005)', 39.0),\n",
              " ('Fight Club (1999)', 39.0),\n",
              " ('The Deer Hunter (1978)', 39.0),\n",
              " ('My Name Is Earl (2005–2009)', 38.0),\n",
              " ('Harry Potter and the Prisoner of Azkaban (2004)', 38.0),\n",
              " ('Lost (2004–2010)', 38.0),\n",
              " ('Prison Break (2005–2017)', 38.0),\n",
              " ('The Life Aquatic with Steve Zissou (2004)', 37.0),\n",
              " ('The Godfather (1972)', 37.0),\n",
              " ('Eternal Sunshine of the Spotless Mind (2004)', 37.0),\n",
              " ('Munich (2005)', 37.0),\n",
              " ('Sideways (2004)', 37.0),\n",
              " ('Dreamer (2005)', 36.0),\n",
              " ('The Ice Harvest (2005)', 36.0),\n",
              " ('Lost in Translation (2003)', 35.0),\n",
              " ('The Village (2004)', 35.0),\n",
              " ('Zathura: A Space Adventure (2005)', 35.0),\n",
              " ('In Her Shoes (2005)', 35.0),\n",
              " ('Dark Water (2005)', 35.0),\n",
              " ('Firefly (2002–2003)', 34.0),\n",
              " ('Just Friends (I) (2005)', 34.0),\n",
              " ('The Wedding Date (2005)', 34.0),\n",
              " ('Open Water (2003)', 33.0),\n",
              " ('Elephant (2003)', 33.0),\n",
              " ('Creep (I) (2004)', 33.0),\n",
              " ('Pirates of the Caribbean: The Curse of the Black Pearl (2003)', 33.0),\n",
              " ('Hide and Seek (2005)', 33.0),\n",
              " ('Hostel (2005)', 33.0),\n",
              " ('Filthy Rich: Cattle Drive (2005– )', 33.0),\n",
              " ('Two for the Money (2005)', 33.0),\n",
              " ('The Marksman (2005 Video)', 33.0),\n",
              " ('2001: A Space Odyssey (1968)', 32.0),\n",
              " ('Category 7: The End of the World (2005)', 32.0),\n",
              " ('Pulp Fiction (1994)', 31.0),\n",
              " ('The Boondock Saints (1999)', 31.0),\n",
              " ('North Country (2005)', 31.0),\n",
              " ('Submerged (2005 Video)', 31.0),\n",
              " ('Love Actually (2003)', 31.0),\n",
              " ('An Unfinished Life (2005)', 31.0),\n",
              " ('Match Point (2005)', 31.0),\n",
              " ('Lords of Dogtown (2005)', 31.0),\n",
              " ('Zoom Suit (2005)', 31.0),\n",
              " ('Primer (2004)', 31.0),\n",
              " ('Equilibrium (2002)', 30.0),\n",
              " ('Alien vs. Predator (2004)', 30.0),\n",
              " ('Kung Fu Hustle (2004)', 30.0),\n",
              " ('Birth (2004)', 30.0),\n",
              " ('The Lord of the Rings: The Fellowship of the Ring (2001)', 30.0),\n",
              " ('Roll Bounce (2005)', 30.0),\n",
              " ('The Sisterhood of the Traveling Pants (2005)', 29.0),\n",
              " ('Pride and Prejudice (1995)', 29.0),\n",
              " ('Dungeons & Dragons: Wrath of the Dragon God (2005 TV Movie)', 29.0),\n",
              " ('Prime (2005)', 29.0),\n",
              " ('Star Wreck: In the Pirkinning (2005 Video)', 29.0),\n",
              " ('The Upside of Anger (2005)', 29.0),\n",
              " ('Saving Private Ryan (1998)', 28.0),\n",
              " (\"Howl's Moving Castle (2004)\", 28.0),\n",
              " ('Moulin Rouge! (2001)', 28.0),\n",
              " ('The Brown Bunny (2003)', 28.0),\n",
              " ('The Interpreter (2005)', 28.0),\n",
              " ('The Machinist (2004)', 28.0),\n",
              " ('A Walk to Remember (2002)', 28.0),\n",
              " ('A Lot Like Love (2005)', 27.0),\n",
              " ('Shaun of the Dead (2004)', 27.0),\n",
              " ('Ong-Bak: The Thai Warrior (2003)', 27.0),\n",
              " ('The Grudge (2004)', 27.0),\n",
              " ('Before Sunset (2004)', 27.0),\n",
              " (\"Ocean's Twelve (2004)\", 27.0),\n",
              " ('David & Layla (2005)', 26.0),\n",
              " ('Team America: World Police (2004)', 26.0),\n",
              " ('The Ring Two (2005)', 26.0),\n",
              " ('Raise Your Voice (2004)', 26.0),\n",
              " ('Finding Neverland (2004)', 26.0),\n",
              " ('Oil Storm (2005 TV Movie)', 26.0),\n",
              " ('Bad News Bears (2005)', 25.0),\n",
              " ('You Got Served (2004)', 25.0),\n",
              " ('Wicker Park (2004)', 25.0),\n",
              " ('The Butterfly Effect (2004)', 25.0),\n",
              " ('The Business (2005)', 25.0),\n",
              " ('I Heart Huckabees (2004)', 25.0),\n",
              " ('Battlestar Galactica (2004–2009)', 25.0),\n",
              " ('King Arthur (2004)', 25.0),\n",
              " ('Oliver Twist (2005)', 25.0),\n",
              " ('Day of the Dead 2: Contagium (2005 Video)', 25.0),\n",
              " ('The Polar Express (2004)', 25.0),\n",
              " ('Forrest Gump (1994)', 24.0),\n",
              " ('Night Watch (2004)', 24.0),\n",
              " ('The Matrix (1999)', 24.0),\n",
              " ('Mayday (2005 TV Movie)', 24.0),\n",
              " ('The Usual Suspects (1995)', 24.0),\n",
              " ('Diary of a Mad Black Woman (2005)', 24.0),\n",
              " ('Commander in Chief (2005–2006)', 24.0),\n",
              " ('My Date with Drew (2004)', 23.0),\n",
              " ('Feast (2005)', 23.0),\n",
              " ('Amélie (2001)', 23.0),\n",
              " ('House of 1000 Corpses (2003)', 23.0),\n",
              " ('The Shining (1980)', 23.0),\n",
              " ('Edward Scissorhands (1990)', 23.0),\n",
              " (\"The World's Fastest Indian (2005)\", 23.0),\n",
              " ('Hello Greetings (2005)', 23.0),\n",
              " ('The Greatest Game Ever Played (2005)', 23.0),\n",
              " ('Walker, Texas Ranger: Trial by Fire (2005 TV Movie)', 23.0),\n",
              " ('2046 (2004)', 22.0),\n",
              " ('Man with the Screaming Brain (2005)', 22.0),\n",
              " ('Gladiator (2000)', 22.0),\n",
              " ('Mrs. Henderson Presents (2005)', 22.0),\n",
              " ('The Andy Milonakis Show (2005–2007)', 22.0),\n",
              " ('The Adventures of Sharkboy and Lavagirl 3-D (2005)', 22.0),\n",
              " ('Supernatural (2005–2020)', 22.0),\n",
              " ('The Outsiders (1983)', 22.0),\n",
              " ('Pearl Harbor (2001)', 21.0),\n",
              " ('House of Flying Daggers (2004)', 21.0),\n",
              " ('The Nightmare Before Christmas (1993)', 21.0),\n",
              " ('The Jacket (2005)', 21.0),\n",
              " ('Anchorman: The Legend of Ron Burgundy (2004)', 21.0),\n",
              " ('Tae Guk Gi: The Brotherhood of War (2004)', 21.0),\n",
              " ('Everything Is Illuminated (2005)', 21.0),\n",
              " ('9 Songs (2004)', 21.0),\n",
              " ('The War of the Worlds (2005 Video)', 21.0),\n",
              " ('The Day After Tomorrow (2004)', 21.0),\n",
              " ('Seven Samurai (1954)', 21.0),\n",
              " ('Dogville (2003)', 21.0),\n",
              " ('Ghost Whisperer (2005–2010)', 21.0),\n",
              " ('American History X (1998)', 20.0),\n",
              " ('Herbie Fully Loaded (2005)', 20.0),\n",
              " ('Yours, Mine & Ours (2005)', 20.0),\n",
              " ('The Proposition (2005)', 20.0),\n",
              " ('Mulholland Dr. (2001)', 20.0),\n",
              " ('Braveheart (1995)', 20.0),\n",
              " ('Proof (2005)', 20.0),\n",
              " ('The Warriors (1979)', 20.0),\n",
              " ('Underworld (2003)', 20.0),\n",
              " ('Mean Girls (2004)', 20.0),\n",
              " ('Beyond the Sea (2004)', 20.0),\n",
              " ('Kill Bill: Vol. 1 (2003)', 20.0),\n",
              " ('The Aviator (2004)', 20.0),\n",
              " ('Band of Brothers (2001)', 20.0),\n",
              " ('Cellular (2004)', 20.0),\n",
              " ('Laguna Beach: The Real Orange County (2004–2006)', 20.0),\n",
              " ('Bride & Prejudice (2004)', 20.0),\n",
              " ('Supernova (2005 TV Movie)', 20.0),\n",
              " ('Apocalypse Now (1979)', 19.0),\n",
              " ('Fun with Dick and Jane (2005)', 19.0),\n",
              " ('Scarface (1983)', 19.0),\n",
              " ('The War at Home (2005–2007)', 19.0),\n",
              " ('Fear and Loathing in Las Vegas (1998)', 19.0),\n",
              " ('Resident Evil: Apocalypse (2004)', 19.0),\n",
              " ('The Thing About My Folks (2005)', 19.0),\n",
              " ('Catwoman (2004)', 19.0),\n",
              " (\"Carlito's Way: Rise to Power (2005 Video)\", 19.0),\n",
              " ('Dominion (2005)', 19.0),\n",
              " ('Rome (2005–2007)', 19.0),\n",
              " ('Van Helsing (2004)', 19.0),\n",
              " ('Dawn of the Dead (2004)', 19.0),\n",
              " ('Latter Days (2003)', 19.0),\n",
              " ('Hellraiser: Hellworld (2005 Video)', 19.0),\n",
              " ('The Squid and the Whale (2005)', 19.0),\n",
              " ('Goal! The Dream Begins (2005)', 19.0),\n",
              " ('The Gospel (2005)', 19.0),\n",
              " ('The Thing (1982)', 19.0),\n",
              " ('Be Cool (2005)', 19.0),\n",
              " (\"Bram Stoker's Dracula (1992)\", 19.0),\n",
              " ('A Clockwork Orange (1971)', 19.0),\n",
              " ('Monster-in-Law (2005)', 19.0),\n",
              " ('Junebug (2005)', 19.0),\n",
              " ('Edison (2005)', 19.0),\n",
              " (\"It's All About Love (2003)\", 19.0),\n",
              " ('Left Behind III: World at War (2005)', 19.0),\n",
              " ('Star Wars: Episode IV - A New Hope (1977)', 19.0),\n",
              " ('Mysterious Skin (2004)', 18.0),\n",
              " ('Plagues and Pleasures on the Salton Sea (2004)', 18.0),\n",
              " ('Battlefield Earth (2000)', 18.0),\n",
              " ('Firecracker (2005)', 18.0),\n",
              " ('Léon: The Professional (1994)', 18.0),\n",
              " ('National Treasure (2004)', 18.0),\n",
              " ('The Terminal (2004)', 18.0),\n",
              " ('The Princess Bride (1987)', 18.0),\n",
              " ('Flight of the Phoenix (2004)', 18.0),\n",
              " ('Surface (2005–2006)', 18.0),\n",
              " ('The War Within (2005)', 18.0),\n",
              " ('Return of the Living Dead: Necropolis (2005)', 18.0),\n",
              " ('American Masters: No Direction Home: Bob Dylan (2005) Season 19, Episode 7',\n",
              "  18.0),\n",
              " ('A Very Long Engagement (2004)', 18.0),\n",
              " ('The Lion King (1994)', 18.0),\n",
              " ('Labyrinth (1986)', 18.0),\n",
              " ('Dear Frankie (2004)', 18.0),\n",
              " ('Timeline (2003)', 18.0),\n",
              " ('24 (2001–2010)', 18.0),\n",
              " (\"Schindler's List (1993)\", 18.0),\n",
              " ('Starship Troopers (1997)', 18.0),\n",
              " ('How I Met Your Mother (2005–2014)', 18.0),\n",
              " ('Meet the Fockers (2004)', 17.0),\n",
              " ('King Kong (1933)', 17.0),\n",
              " ('D.E.B.S. (2004)', 17.0),\n",
              " ('American Beauty (1999)', 17.0),\n",
              " ('Man on Fire (2004)', 17.0),\n",
              " ('Spanglish (2004)', 17.0),\n",
              " ('The Punisher (2004)', 17.0),\n",
              " ('Caché (2005)', 17.0),\n",
              " ('Guess Who (2005)', 17.0),\n",
              " ('Vanilla Sky (2001)', 17.0),\n",
              " ('Ying xiong (2002)', 17.0),\n",
              " ('House of the Dead (2003)', 17.0),\n",
              " ('Spider-Man 2 (2004)', 17.0),\n",
              " ('Bones (2005–2017)', 17.0),\n",
              " ('Threshold (2005–2006)', 17.0),\n",
              " ('Paradise Now (2005)', 17.0),\n",
              " ('The Chumscrubber (2005)', 16.0),\n",
              " ('Resident Evil (2002)', 16.0),\n",
              " ('Nanny McPhee (2005)', 16.0),\n",
              " ('Collateral (2004)', 16.0),\n",
              " ('The Girl in the Café (2005 TV Movie)', 16.0),\n",
              " ('Dr. Strangelove or: How I Learned to Stop Worrying and Love the Bomb (1964)',\n",
              "  16.0),\n",
              " ('Blade: Trinity (2004)', 16.0),\n",
              " ('War of the Worlds (2005 Video)', 16.0),\n",
              " ('Red Dawn (1984)', 16.0),\n",
              " ('Battlestar Galactica (2003)', 16.0),\n",
              " ('28 Days Later... (2002)', 16.0),\n",
              " ('The Blair Witch Project (1999)', 16.0),\n",
              " ('Boo (2005)', 16.0),\n",
              " ('Speak (2004)', 16.0),\n",
              " ('Invasion (2005–2006)', 16.0),\n",
              " ('Murderball (2005)', 16.0),\n",
              " ('The Girl Next Door (2004)', 16.0),\n",
              " ('Into the West (2005)', 16.0),\n",
              " ('The Closer (2005–2012)', 16.0),\n",
              " ('Goodfellas (1990)', 16.0),\n",
              " ('Boogeyman (2005)', 16.0),\n",
              " ('The Chronicles of Riddick (2004)', 16.0),\n",
              " ('Gojira: Fainaru uôzu (2004)', 16.0),\n",
              " ('Innocent Voices (2004)', 16.0),\n",
              " ('A Series of Unfortunate Events (2004)', 16.0),\n",
              " ('Jaws (1975)', 16.0),\n",
              " ('Doctor Who (2005– )', 16.0),\n",
              " ('Mirrormask (2005)', 16.0),\n",
              " ('Cursed (2005)', 16.0),\n",
              " ('Immortal (2004)', 16.0),\n",
              " ('Dirty Love (2005)', 16.0),\n",
              " ('The Myth (2005)', 15.0),\n",
              " ('Elektra (2005)', 15.0),\n",
              " ('Big Fish (2003)', 15.0),\n",
              " ('Alien (1979)', 15.0),\n",
              " ('White Chicks (2004)', 15.0),\n",
              " (\"The God Who Wasn't There (2005)\", 15.0),\n",
              " ('The Wonderful World of Disney: Once Upon a Mattress (2005) Season 47, Episode 8',\n",
              "  15.0),\n",
              " ('Romeo + Juliet (1996)', 15.0),\n",
              " ('Peter Pan (2003)', 15.0),\n",
              " ('States of Grace (2005)', 15.0),\n",
              " ('Night Fangs (2005)', 15.0),\n",
              " ('Independence Day (1996)', 15.0),\n",
              " ('The Texas Chainsaw Massacre (2003)', 15.0),\n",
              " ('The Last Samurai (2003)', 15.0),\n",
              " ('Casshern (2004)', 15.0),\n",
              " ('The Good, the Bad and the Ugly (1966)', 15.0),\n",
              " ('Mystic River (2003)', 15.0),\n",
              " ('Kicking & Screaming (2005)', 15.0),\n",
              " ('The Thin Red Line (1998)', 15.0),\n",
              " ('Heat (1995)', 15.0),\n",
              " ('Pterodactyl (2005)', 15.0),\n",
              " ('Casablanca (1942)', 15.0),\n",
              " ('Shades of Gray (2005)', 15.0),\n",
              " ('Night Stalker (2005– )', 15.0),\n",
              " ('Beowulf & Grendel (2005)', 15.0),\n",
              " ('New York Doll (2005)', 15.0),\n",
              " ('Saint Ange (2004)', 15.0),\n",
              " ('Fahrenheit 9/11 (2004)', 14.0),\n",
              " ('Jurassic Park (1993)', 14.0),\n",
              " ('Minority Report (2002)', 14.0),\n",
              " ('Sleepy Hollow (1999)', 14.0),\n",
              " ('Hostage (2005)', 14.0),\n",
              " ('House of Sand and Fog (2003)', 14.0),\n",
              " ('Pretty Persuasion (2005)', 14.0),\n",
              " ('Dracula 3000 (2004)', 14.0),\n",
              " ('Contagion (2002)', 14.0),\n",
              " ('Armageddon (1998)', 14.0),\n",
              " ('Grave of the Fireflies (1988)', 14.0),\n",
              " ('The Office (2005–2013)', 14.0),\n",
              " ('E-Ring (2005–2006)', 14.0),\n",
              " ('Halloween (1978)', 14.0),\n",
              " ('The Wizard of Oz (1939)', 14.0),\n",
              " (\"Grey's Anatomy (2005– )\", 14.0),\n",
              " ('Sarkar (2005)', 14.0),\n",
              " ('Saving Face (2004)', 14.0),\n",
              " ('Cannibal Holocaust (1980)', 14.0),\n",
              " ('Undead (2003)', 14.0),\n",
              " ('The Assassination of Richard Nixon (2004)', 14.0),\n",
              " ('I, Robot (2004)', 14.0),\n",
              " ('Kill Zone (2005)', 14.0),\n",
              " ('Kinky Boots (2005)', 14.0),\n",
              " ('The Goodbye Girl (2004 TV Movie)', 14.0),\n",
              " ('The New World (2005)', 14.0),\n",
              " ('All That I Need (2005)', 13.0),\n",
              " ('Arrested Development (2003–2019)', 13.0),\n",
              " ('Meet Joe Black (1998)', 13.0),\n",
              " ('Shadows of the Dead (2004)', 13.0),\n",
              " ('The Matrix Revolutions (2003)', 13.0),\n",
              " ('The Bourne Supremacy (2004)', 13.0),\n",
              " ('House M.D. (2004–2012)', 13.0),\n",
              " ('xXx: State of the Union (2005)', 13.0),\n",
              " ('Lady Vengeance (2005)', 13.0),\n",
              " ('The Incredibles (2004)', 13.0),\n",
              " ('The Off Season (2004)', 13.0),\n",
              " ('The Librarian: Quest for the Spear (2004 TV Movie)', 13.0),\n",
              " ('Look Both Ways (2005)', 13.0),\n",
              " ('The Simpsons (1989– )', 13.0),\n",
              " ('Secuestro express (2005)', 13.0),\n",
              " (\"It's a Wonderful Life (1946)\", 13.0),\n",
              " ('Hulk (2003)', 13.0),\n",
              " ('The O.C. (2003–2007)', 13.0),\n",
              " ('Friday Night Lights (2004)', 13.0),\n",
              " ('Joyeux Noel (2005)', 13.0),\n",
              " ('Dead & Breakfast (2004)', 13.0),\n",
              " ('Reunion (2005–2006)', 13.0),\n",
              " ('A.I. Artificial Intelligence (2001)', 13.0),\n",
              " (\"Santa's Slay (2005)\", 13.0),\n",
              " ('The Death of Mr. Lazarescu (2005)', 13.0),\n",
              " ('Lawrence of Arabia (1962)', 13.0),\n",
              " ('Missing in America (2005)', 13.0),\n",
              " ('50 First Dates (2004)', 13.0),\n",
              " ('The High and the Mighty (1954)', 13.0),\n",
              " ('The Ring (2002)', 13.0),\n",
              " ('Terminator 3: Rise of the Machines (2003)', 13.0),\n",
              " ('The Sandlot 2 (2005 Video)', 13.0),\n",
              " ('Qi jian (2005)', 13.0),\n",
              " ('Ray (I) (2004)', 13.0),\n",
              " ('A Beautiful Mind (2001)', 13.0),\n",
              " ('The Protector (2005)', 13.0),\n",
              " ('Undiscovered (2005)', 13.0),\n",
              " ('The Big Lebowski (1998)', 13.0),\n",
              " ('Stand by Me (1986)', 13.0),\n",
              " ('Frankenstein (1994)', 13.0),\n",
              " ('Coach Carter (2005)', 13.0),\n",
              " ('Saints and Soldiers (2003)', 13.0),\n",
              " ('The Count of Monte Cristo (2002)', 12.0),\n",
              " ('Glengarry Glen Ross (1992)', 12.0),\n",
              " (\"An Insomniac's Nightmare (2003)\", 12.0),\n",
              " ('11:14 (2003)', 12.0),\n",
              " ('Gangs of New York (2002)', 12.0),\n",
              " ('Fever Pitch (2005)', 12.0),\n",
              " ('C.R.A.Z.Y. (2005)', 12.0),\n",
              " ('Robots (2005)', 12.0),\n",
              " ('Supercross (2005)', 12.0),\n",
              " ('Little Fish (2005)', 12.0),\n",
              " ('Masters of Horror (2005–2007)', 12.0),\n",
              " ('Manos: The Hands of Fate (1966)', 12.0),\n",
              " ('The Great Ecstasy of Robert Carmichael (2005)', 12.0),\n",
              " ('Hex (2004–2005)', 12.0),\n",
              " ('GhostWatcher 2 (2005 Video)', 12.0),\n",
              " ('King Kong (1976)', 12.0),\n",
              " ('Office Space (1999)', 12.0),\n",
              " ('Their Eyes Were Watching God (2005 TV Movie)', 12.0),\n",
              " ('The Life of David Gale (2003)', 12.0),\n",
              " ('Havoc (2005)', 12.0),\n",
              " ('City of God (2002)', 12.0),\n",
              " ('South Park: Bigger, Longer & Uncut (1999)', 12.0),\n",
              " ('Taxi Driver (1976)', 12.0),\n",
              " ('Fargo (1996)', 12.0),\n",
              " ('Aliens (1986)', 12.0),\n",
              " ('Back to the Future (1985)', 12.0),\n",
              " ('The Edukators (2004)', 12.0),\n",
              " ('Danny Phantom (2004–2007)', 12.0),\n",
              " ('Breakfast on Pluto (2005)', 12.0),\n",
              " ('House of D (2004)', 12.0),\n",
              " ('7th Heaven (1996–2007)', 12.0),\n",
              " ('Dirty Dancing: Havana Nights (2004)', 12.0),\n",
              " ('Dirty Dancing (1987)', 12.0),\n",
              " ('Today You Die (2005 Video)', 12.0),\n",
              " ('Batman & Robin (1997)', 12.0),\n",
              " ('Out of Practice (2005–2006)', 12.0),\n",
              " ('Why Shoot the Teacher? (1977)', 12.0),\n",
              " ('Battle in Heaven (2005)', 12.0),\n",
              " ('You Are Alone (2005)', 12.0),\n",
              " ('Finding Home (2003)', 11.0),\n",
              " ('Family Comes First (2005)', 11.0),\n",
              " ('Pretty Things (2005 TV Movie)', 11.0),\n",
              " ('Willy Wonka & the Chocolate Factory (1971)', 11.0),\n",
              " ('Vera Drake (2004)', 11.0),\n",
              " ('The Texas Chain Saw Massacre (1974)', 11.0),\n",
              " ('The Birth of a Nation (1915)', 11.0),\n",
              " ('The Godfather: Part III (1990)', 11.0),\n",
              " ('The Chorus (2004)', 11.0),\n",
              " ('Are We There Yet? (2005)', 11.0),\n",
              " ('Newsies (1992)', 11.0),\n",
              " ('Battle Royale (2000)', 11.0),\n",
              " ('Night of the Living Dead (1968)', 11.0),\n",
              " ('White Noise (I) (2005)', 11.0),\n",
              " ('The Mexican Dream (2003)', 11.0),\n",
              " ('Good Will Hunting (1997)', 11.0),\n",
              " ('Funny Ha Ha (2002)', 11.0),\n",
              " ('Gia (1998 TV Movie)', 11.0),\n",
              " ('The Crow (1994)', 11.0),\n",
              " ('EuroTrip (2004)', 11.0),\n",
              " (\"Dead Man's Shoes (2004)\", 11.0),\n",
              " ('The Ringer (2005)', 11.0),\n",
              " ('Starved (2005)', 11.0),\n",
              " ('Session 9 (2001)', 11.0),\n",
              " ('Layer Cake (2004)', 11.0),\n",
              " ('Water (I) (2005)', 11.0),\n",
              " ('Swades (2004)', 11.0),\n",
              " ('In the Name of the Father (1993)', 11.0),\n",
              " ('Christmas with the Kranks (2004)', 11.0),\n",
              " ('Wu ji (2005)', 11.0),\n",
              " ('Cheaper by the Dozen 2 (2005)', 11.0),\n",
              " ('Transamerica (2005)', 11.0),\n",
              " (\"Harry Potter and the Sorcerer's Stone (2001)\", 11.0),\n",
              " ('Batman (1989)', 11.0),\n",
              " ('Star Wars: Episode II - Attack of the Clones (2002)', 11.0),\n",
              " ('Friends (1994–2004)', 11.0),\n",
              " ('Happy Endings (2005)', 11.0),\n",
              " ('Saved! (2004)', 11.0),\n",
              " ('3-Iron (2004)', 11.0),\n",
              " ('Zoey 101 (2005–2008)', 11.0),\n",
              " ('Where the Truth Lies (2005)', 11.0),\n",
              " ('Grease (1978)', 11.0),\n",
              " ('In Good Company (2004)', 11.0),\n",
              " ('From Justin to Kelly (2003)', 11.0),\n",
              " ('The Pacifier (2005)', 11.0),\n",
              " ('Ella Enchanted (2004)', 11.0),\n",
              " ('Six Feet Under (2001–2005)', 11.0),\n",
              " ('Star Wars: Episode I - The Phantom Menace (1999)', 11.0),\n",
              " ('Valiant (2005)', 11.0),\n",
              " ('Ladder 49 (2004)', 11.0),\n",
              " ('Gerry (2002)', 11.0),\n",
              " ('Trainspotting (1996)', 11.0),\n",
              " ('Poolhall Junkies (2002)', 11.0),\n",
              " ('Dances with Wolves (1990)', 11.0),\n",
              " ('Terry (2005 TV Movie)', 11.0),\n",
              " ('Because of Winn-Dixie (2005)', 11.0),\n",
              " ('Dead Poets Society (1989)', 11.0),\n",
              " ('Head Cases (2005)', 11.0),\n",
              " ('Walk Away and I Stumble (2005 TV Movie)', 11.0),\n",
              " ('Redemption: The Stan Tookie Williams Story (2004 TV Movie)', 11.0),\n",
              " ('Drake & Josh (2004–2007)', 10.0),\n",
              " ('The Woodsman (2004)', 10.0),\n",
              " ('A Tale of Two Sisters (2003)', 10.0),\n",
              " ('Once Upon a Time in America (1984)', 10.0),\n",
              " ('Lost Highway (1997)', 10.0),\n",
              " ('The Perfect Man (2005)', 10.0),\n",
              " ('Buffy the Vampire Slayer (1997–2003)', 10.0),\n",
              " ('Bubba Ho-Tep (2002)', 10.0),\n",
              " ('They Came Back (2004)', 10.0),\n",
              " ('Zombiez (2005 Video)', 10.0),\n",
              " ('Street Fighter (1994)', 10.0),\n",
              " ('Hitch (I) (2005)', 10.0),\n",
              " ('Threads (1984 TV Movie)', 10.0),\n",
              " ('Target of Opportunity (2005)', 10.0),\n",
              " ('Eraserhead (1977)', 10.0),\n",
              " ('Instant Star (2004–2008)', 10.0),\n",
              " ('Family Guy (1999– )', 10.0),\n",
              " ('The Man (2005)', 10.0),\n",
              " ('The Patriot (2000)', 10.0),\n",
              " ('Monty Python and the Holy Grail (1975)', 10.0),\n",
              " ('Solaris (2002)', 10.0),\n",
              " ('Super Size Me (2004)', 10.0),\n",
              " ('Reefer Madness: The Movie Musical (2005 TV Movie)', 10.0),\n",
              " ('Jesus Christ Superstar (1973)', 10.0),\n",
              " ('Code 46 (2003)', 10.0),\n",
              " ('The Dark Hours (2005)', 10.0),\n",
              " ('Xanadu (1980)', 10.0),\n",
              " ('Se7en (1995)', 10.0),\n",
              " ('The Purifiers (2004)', 10.0),\n",
              " ('Afterlife (I) (2005–2006)', 10.0),\n",
              " ('Tsotsi (2005)', 10.0),\n",
              " ('The Prince and Me (2004)', 10.0),\n",
              " ('The Exorcist (1973)', 10.0),\n",
              " (\"Miller's Crossing (1990)\", 10.0),\n",
              " ('Psycho (1960)', 10.0),\n",
              " ('Brazil (1985)', 10.0),\n",
              " ('Smallville (2001–2011)', 10.0),\n",
              " ('The Child (2005)', 10.0),\n",
              " ('The Fog (1980)', 10.0),\n",
              " ('Angels in America (2003)', 10.0),\n",
              " ('Millions (2004)', 10.0),\n",
              " ('Gone with the Wind (1939)', 10.0),\n",
              " ('Dead End (I) (2003)', 10.0),\n",
              " ('The 10th Kingdom (2000)', 10.0),\n",
              " ('The Prize Winner of Defiance, Ohio (2005)', 10.0),\n",
              " ('My Fair Brady (2005–2008)', 10.0),\n",
              " ('Twitches (2005 TV Movie)', 10.0),\n",
              " ('Ballets Russes (2005)', 10.0),\n",
              " ('First Descent (2005)', 10.0),\n",
              " ('Human Trafficking (2005– )', 10.0),\n",
              " ('The Wiz (1978)', 10.0),\n",
              " ('Duck Soup (1933)', 10.0),\n",
              " ('Casanova (2005)', 10.0),\n",
              " ('Babam ve Oglum (2005)', 10.0),\n",
              " ('The Civilization of Maxwell Bright (2005)', 10.0),\n",
              " ('A Cinderella Story (2004)', 10.0),\n",
              " ('The Suite Life of Zack & Cody (2005–2008)', 10.0),\n",
              " ('Joey (2004–2006)', 10.0),\n",
              " ('The Motorcycle Diaries (2004)', 10.0),\n",
              " ('Dodgeball (2004)', 10.0),\n",
              " ('Head in the Clouds (2004)', 10.0),\n",
              " ('Darkness (2002)', 10.0),\n",
              " ('Off the Map (2003)', 10.0),\n",
              " ('Happiness (1998)', 10.0),\n",
              " ('The Birds (1963)', 10.0),\n",
              " ('Gummo (1997)', 10.0),\n",
              " ('Once Upon a Time in the West (1968)', 10.0),\n",
              " ('The Comeback (2005–2014)', 10.0),\n",
              " ('Adaptation. (2002)', 10.0),\n",
              " ('Un Buda (2005)', 10.0),\n",
              " ('Tru Calling (2003–2005)', 10.0),\n",
              " ('District B13 (2004)', 10.0),\n",
              " ('A Christmas Carol (1951)', 10.0),\n",
              " ('House of 9 (2005)', 10.0),\n",
              " ('The Three Musketeers (1993)', 10.0),\n",
              " ('Cruel Intentions (1999)', 10.0),\n",
              " ('Scary Larry (2000)', 10.0),\n",
              " ('Rize (2005)', 10.0),\n",
              " ('7 Seconds (2005 Video)', 10.0),\n",
              " ('Venom (2005)', 10.0),\n",
              " ('Echoes of Innocence (2005)', 10.0),\n",
              " ('Palindromes (2004)', 10.0),\n",
              " ('Spirited Away (2001)', 10.0),\n",
              " ('As Good as It Gets (1997)', 10.0),\n",
              " ('Inconceivable (2005– )', 10.0),\n",
              " ('Superman (1978)', 10.0),\n",
              " ('A Home at the End of the World (2004)', 10.0),\n",
              " ('Straight Outta Benoni (2005)', 10.0),\n",
              " ('Cube (1997)', 10.0),\n",
              " ('The Empty Building (2004)', 10.0),\n",
              " ('Brothers in Arms (2005)', 9.0),\n",
              " (\"One Flew Over the Cuckoo's Nest (1975)\", 9.0),\n",
              " ('Anniyan (2005)', 9.0),\n",
              " ('The Horse Whisperer (1998)', 9.0),\n",
              " ('The Haunting (1963)', 9.0),\n",
              " ('Dazed and Confused (1993)', 9.0),\n",
              " ('Life Is Beautiful (1997)', 9.0),\n",
              " ('Gattaca (1997)', 9.0),\n",
              " ('Dumb and Dumber (1994)', 9.0),\n",
              " ('Maria Full of Grace (2004)', 9.0),\n",
              " ('Starship Troopers 2: Hero of the Federation (2004 Video)', 9.0),\n",
              " ('Baraka (1992)', 9.0),\n",
              " ('Duma (2005)', 9.0),\n",
              " ('If Only (2004)', 9.0),\n",
              " ('Monster (2003)', 9.0),\n",
              " ('13 Going on 30 (2004)', 9.0),\n",
              " ('Contact (1997)', 9.0),\n",
              " ('Swimming Pool (2003)', 9.0),\n",
              " ('When Will I Be Loved (2004)', 9.0),\n",
              " ('The Ninth Gate (1999)', 9.0),\n",
              " ('13 Seconds (2003 Video)', 9.0),\n",
              " ('Red vs. Blue (2003– )', 9.0),\n",
              " ('The Truman Show (1998)', 9.0),\n",
              " ('Groundhog Day (1993)', 9.0),\n",
              " ('Sherlock Holmes and the Case of the Silk Stocking (2004 TV Movie)', 9.0),\n",
              " (\"My Wife's Murder (2005)\", 9.0),\n",
              " ('LazyTown (2002–2014)', 9.0),\n",
              " ('The Sound of Music (1965)', 9.0),\n",
              " ('The Triplets of Belleville (2003)', 9.0),\n",
              " ('Eating Out (I) (2004)', 9.0),\n",
              " ('Citizen Kane (1941)', 9.0),\n",
              " ('Exorcist: The Beginning (2004)', 9.0),\n",
              " ('In Memory of My Father (2005)', 9.0),\n",
              " ('Rebelde (2004–2006)', 9.0),\n",
              " ('Dungeons & Dragons (2000)', 9.0),\n",
              " ('Related (2005–2006)', 9.0),\n",
              " ('Death to the Supermodels (2005 Video)', 9.0),\n",
              " ('Jeepers Creepers 2 (2003)', 9.0),\n",
              " ('Scent of a Woman (1992)', 9.0),\n",
              " ('A Love Song for Bobby Long (2004)', 9.0),\n",
              " ('Life as a House (2001)', 9.0),\n",
              " ('Terminator 2: Judgment Day (1991)', 9.0),\n",
              " ('Surrender, Dorothy (2006 TV Movie)', 9.0),\n",
              " ('North & South (2004)', 9.0),\n",
              " ('American Psycho (2000)', 9.0),\n",
              " ('Vertigo (1958)', 9.0),\n",
              " ('Dear Wendy (2005)', 9.0),\n",
              " ('Bloodsuckers (2005 TV Movie)', 9.0),\n",
              " (\"It's Always Sunny in Philadelphia (2005– )\", 9.0),\n",
              " ('The Married Woman (2005)', 9.0),\n",
              " ('Enemy at the Gates (2001)', 9.0),\n",
              " ('Black Hawk Down (2001)', 9.0),\n",
              " ('Thumbsucker (2005)', 9.0),\n",
              " ('I Am Sam (2001)', 9.0),\n",
              " ('The Bridge of San Luis Rey (2004)', 9.0),\n",
              " ('The Libertine (2004)', 9.0),\n",
              " ('Ed Wood (1994)', 9.0),\n",
              " ('S.I.C.K. Serial Insane Clown Killer (2003 Video)', 9.0),\n",
              " ('The Star Wars Holiday Special (1978 TV Movie)', 9.0),\n",
              " ('Between (I) (2005)', 9.0),\n",
              " ('Sky Captain and the World of Tomorrow (2004)', 9.0),\n",
              " ('Kids (1995)', 9.0),\n",
              " ('Local Hero (1983)', 9.0),\n",
              " ('Alien Express (2005 TV Movie)', 9.0),\n",
              " ('Charmed (1998–2006)', 9.0),\n",
              " ('Aussie Park Boyz (2004)', 9.0),\n",
              " ('Event Horizon (1997)', 9.0),\n",
              " ('Freddy Got Fingered (2001)', 9.0),\n",
              " (\"Don't Come Knocking (2005)\", 9.0),\n",
              " ('Mindhunters (2004)', 9.0),\n",
              " ('The Station Agent (2003)', 9.0),\n",
              " ('Vanity Fair (2004)', 9.0),\n",
              " ('When Do We Eat? (2005)', 9.0),\n",
              " ('Extreme Makeover: Home Edition (2003–2020)', 9.0),\n",
              " ('Finding Nemo (2003)', 9.0),\n",
              " ('The Dying Gaul (I) (2005)', 9.0),\n",
              " ('Memento (2000)', 9.0),\n",
              " ('Shall We Dance (2004)', 9.0),\n",
              " ('The Batman vs. Dracula (2005 Video)', 9.0),\n",
              " ('Paper Clips (2004)', 9.0),\n",
              " ('The Secret Life of Words (2005)', 9.0),\n",
              " ('9th Company (2005)', 9.0),\n",
              " ('The Maize: The Movie (2004)', 9.0),\n",
              " (\"Logan's Run (1976)\", 9.0),\n",
              " ('Rumor Has It... (2005)', 9.0),\n",
              " ('Miracle at Sage Creek (2005)', 9.0),\n",
              " ('Koyaanisqatsi (1982)', 8.0),\n",
              " ('The Parent Trap (1998)', 8.0),\n",
              " ('Raging Bull (1980)', 8.0),\n",
              " ('The Blind Swordsman: Zatoichi (2003)', 8.0),\n",
              " ('Twister (I) (1996)', 8.0),\n",
              " ('The Sweetest Thing (2002)', 8.0),\n",
              " ('Kisses and Caroms (2006)', 8.0),\n",
              " ('Extras (2005–2007)', 8.0),\n",
              " ('Dead Man (1995)', 8.0),\n",
              " ('Secret Window (2004)', 8.0),\n",
              " ('Urban Legends: Bloody Mary (2005 Video)', 8.0),\n",
              " ('Scream (1996)', 8.0),\n",
              " ('Braindead (1992)', 8.0),\n",
              " ('Hudson Hawk (1991)', 8.0),\n",
              " ('Naruto (2002–2007)', 8.0),\n",
              " ('Crossroads (I) (2002)', 8.0),\n",
              " ('CSI: Crime Scene Investigation (2000–2015)', 8.0),\n",
              " ('Harold and Maude (1971)', 8.0),\n",
              " ('12 Monkeys (1995)', 8.0),\n",
              " ('Dead Like Me (2003–2004)', 8.0),\n",
              " ('The Madagascar Penguins in a Christmas Caper (2005)', 8.0),\n",
              " ('Network (1976)', 8.0),\n",
              " ('Blazing Saddles (1974)', 8.0),\n",
              " ('Harold & Kumar Go to White Castle (2004)', 8.0),\n",
              " ('Ever After: A Cinderella Story (1998)', 8.0),\n",
              " ('Avatar: The Last Airbender (2005–2008)', 8.0),\n",
              " ('Why Did I Fall in Love? (2005)', 8.0),\n",
              " ('Velvet Goldmine (1998)', 8.0),\n",
              " ('Hocus Pocus (1993)', 8.0),\n",
              " ('What Dreams May Come (1998)', 8.0),\n",
              " ('Smile (I) (2005)', 8.0),\n",
              " (\"Born Into Brothels: Calcutta's Red Light Kids (2004)\", 8.0),\n",
              " ('The Late Late Show with Craig Ferguson (2005–2015)', 8.0),\n",
              " ('Highlander (1986)', 8.0),\n",
              " ('First Daughter (2004)', 8.0),\n",
              " ('12 Angry Men (1957)', 8.0),\n",
              " ('Rushmore (1998)', 8.0),\n",
              " ('Ghost Dog: The Way of the Samurai (1999)', 8.0),\n",
              " ('Lilo & Stitch 2: Stitch Has a Glitch (2005 Video)', 8.0),\n",
              " ('Sunshine (1973 TV Movie)', 8.0),\n",
              " ('Gilmore Girls (2000–2007)', 8.0),\n",
              " ('Izzat (2005)', 8.0),\n",
              " ('The Others (2001)', 8.0),\n",
              " ('No Entry (2005)', 8.0),\n",
              " ('Bleak House (2005)', 8.0),\n",
              " ('Beauty Shop (2005)', 8.0),\n",
              " ('Koroshiya 1 (2001)', 8.0),\n",
              " ('To Kill a Mockingbird (1962)', 8.0),\n",
              " ('The Dark Crystal (1982)', 8.0),\n",
              " ('Shallow Ground (2004)', 8.0),\n",
              " ('American Gothic (1995–1998)', 8.0),\n",
              " ('Natural Born Killers (1994)', 8.0),\n",
              " ('The Rocky Horror Picture Show (1975)', 8.0),\n",
              " ('Kids in America (2005)', 8.0),\n",
              " ('Bad Boys II (2003)', 8.0),\n",
              " ('FLCL (2000–2018)', 8.0),\n",
              " ('Dune (1984)', 8.0),\n",
              " ('Slipstream (2005)', 8.0),\n",
              " ('Modigliani (2004)', 8.0),\n",
              " ('The League of Extraordinary Gentlemen (2003)', 8.0),\n",
              " ('Cake (I) (2005)', 8.0),\n",
              " ('Neon Genesis Evangelion: The End of Evangelion (1997)', 8.0),\n",
              " ('Wal-Mart: The High Cost of Low Price (2005)', 8.0),\n",
              " ('Hoodwinked! (2005)', 8.0),\n",
              " ('Apaharan (2005)', 8.0),\n",
              " ('Mary Bryant (2005–2007)', 8.0),\n",
              " ('May (2002)', 8.0),\n",
              " ('Bell Witch Haunting (2004)', 8.0),\n",
              " (\"Ulli Lommel's Zodiac Killer (2005 Video)\", 8.0),\n",
              " ('Dog Soldiers (2002)', 8.0),\n",
              " ('Gigli (2003)', 8.0),\n",
              " ('Jurassic Park III (2001)', 8.0),\n",
              " ('Pink Floyd: The Wall (1982)', 8.0),\n",
              " ('Somewhere in Time (1980)', 8.0),\n",
              " ('Star Trek New Voyages: Phase II (2004– )', 8.0),\n",
              " ('Ice Princess (2005)', 8.0),\n",
              " ('Hide and Creep (2004)', 8.0),\n",
              " ('Road to Perdition (2002)', 8.0),\n",
              " ('The Shining (1997)', 8.0),\n",
              " ('The Snow Walker (2003)', 8.0),\n",
              " ('Dog the Bounty Hunter (2003–2012)', 8.0),\n",
              " ('Magnolia (1999)', 8.0),\n",
              " ('The Third Man (1949)', 8.0),\n",
              " ('The Stepford Wives (2004)', 8.0),\n",
              " ('My Fair Lady (1964)', 8.0),\n",
              " ('Blade Runner (1982)', 8.0),\n",
              " ('Charade (1963)', 8.0),\n",
              " ('GamerZ (2005)', 8.0),\n",
              " ('The Thing Below (2004 Video)', 8.0),\n",
              " ('Akira (1988)', 8.0),\n",
              " ('Interview with the Vampire: The Vampire Chronicles (1994)', 8.0),\n",
              " ('Women on the Verge of a Nervous Breakdown (1988)', 8.0),\n",
              " ('Face/Off (1997)', 8.0),\n",
              " ('Waking Life (2001)', 8.0),\n",
              " ('Urban Legend (1998)', 8.0),\n",
              " ('Queen of the Damned (2002)', 8.0),\n",
              " ('Magnificent Desolation: Walking on the Moon 3D (2005)', 8.0),\n",
              " ('Nine Lives (2005)', 8.0),\n",
              " ('One Six Right (2005)', 8.0),\n",
              " ('Melinda and Melinda (2004)', 8.0),\n",
              " ('Song of the South (1946)', 8.0),\n",
              " ('Wrong Turn (I) (2003)', 8.0),\n",
              " ('At Last (2005)', 8.0),\n",
              " ('Numb3rs (2005–2010)', 8.0),\n",
              " ('USA the Movie (2005 Video)', 8.0),\n",
              " ('The Boondocks (2005–2014)', 8.0),\n",
              " ('Penny Dreadful (2005)', 8.0),\n",
              " ('Keeping Mum (2005)', 8.0),\n",
              " ('The Honeymooners (2005)', 8.0),\n",
              " (\"Don't Be Afraid of the Dark (1973 TV Movie)\", 7.0),\n",
              " ('Bruce Almighty (2003)', 7.0),\n",
              " ('Christmas in the Clouds (2001)', 7.0),\n",
              " ('The Doodlebops (2004– )', 7.0),\n",
              " ('Battle of Britain (1969)', 7.0),\n",
              " ('To End All Wars (2001)', 7.0),\n",
              " ('Bad Santa (2003)', 7.0),\n",
              " ('Star Wars: Episode V - The Empire Strikes Back (1980)', 7.0),\n",
              " ('The Slaughterhouse Massacre (2005 Video)', 7.0),\n",
              " ('November (I) (2004)', 7.0),\n",
              " ('Sholay (1975)', 7.0),\n",
              " ('Cabin Fever (2002)', 7.0),\n",
              " ('Star Trek: Nemesis (2002)', 7.0),\n",
              " ('Leaving Las Vegas (1995)', 7.0),\n",
              " ('Conan the Barbarian (1982)', 7.0),\n",
              " ('Interstate 60: Episodes of the Road (2002)', 7.0),\n",
              " ('Bridget Jones: The Edge of Reason (2004)', 7.0),\n",
              " ('Checking Out (2005)', 7.0),\n",
              " ('The Alamo (2004)', 7.0),\n",
              " ('Ring of the Nibelungs (2004 TV Movie)', 7.0),\n",
              " ('Erosion (2005)', 7.0),\n",
              " ('Zoolander (2001)', 7.0),\n",
              " ('Ken Park (2002)', 7.0),\n",
              " ('Wake of Death (2004)', 7.0),\n",
              " ('About Schmidt (2002)', 7.0),\n",
              " ('Sex and the City (1998–2004)', 7.0),\n",
              " ('The Crow: City of Angels (1996)', 7.0),\n",
              " ('We Were Soldiers (2002)', 7.0),\n",
              " ('Pope John Paul II (2005– )', 7.0),\n",
              " ('Winx Club (2004– )', 7.0),\n",
              " ('Hidalgo (2004)', 7.0),\n",
              " ('Assault on Precinct 13 (2005)', 7.0),\n",
              " ('Weeds (2005–2012)', 7.0),\n",
              " ('Reservoir Dogs (1992)', 7.0),\n",
              " ('Empire Falls (2005)', 7.0),\n",
              " ('The Fallen Ones (2005 TV Movie)', 7.0),\n",
              " ('Real, la película (2005)', 7.0),\n",
              " ('The Baxter (2005)', 7.0),\n",
              " ('Law & Order: Special Victims Unit (1999– )', 7.0),\n",
              " (\"It's a Mad Mad Mad Mad World (1963)\", 7.0),\n",
              " ('Dark City (1998)', 7.0),\n",
              " ('The Flight That Fought Back (2005 TV Movie)', 7.0),\n",
              " ('The Mosquito Coast (1986)', 7.0),\n",
              " ('From Dusk Till Dawn (1996)', 7.0),\n",
              " ('Initial D (2005)', 7.0),\n",
              " ('The Transporter (2002)', 7.0),\n",
              " ('School of Rock (2003)', 7.0),\n",
              " (\"I'm Going to Tell You a Secret (2005)\", 7.0),\n",
              " ('The Perfect Storm (2000)', 7.0),\n",
              " ('Love, Honor and Obey (2000)', 7.0),\n",
              " ('The Door in the Floor (2004)', 7.0),\n",
              " ('A Bronx Tale (1993)', 7.0),\n",
              " ('Chocolate: Deep Dark Secrets (2005)', 7.0),\n",
              " ('Breaking Bonaduce (2005–2006)', 7.0),\n",
              " ('Punisher: First Round (2005)', 7.0),\n",
              " ('39 Pounds of Love (2005)', 7.0),\n",
              " ('Darling Darling (2005)', 7.0),\n",
              " ('Eulogy (2004)', 7.0),\n",
              " ('The Night of the Hunter (1955)', 7.0),\n",
              " ('Sam gang 2 (2004)', 7.0),\n",
              " ('Bee Season (2005)', 7.0),\n",
              " ('A Day Without a Mexican (2004)', 7.0),\n",
              " ('Ha-Ushpizin (2004)', 7.0),\n",
              " ('Punch-Drunk Love (2002)', 7.0),\n",
              " (\"Charlie's Angels: Full Throttle (2003)\", 7.0),\n",
              " ('The Lord of the Rings: The Two Towers (2002)', 7.0),\n",
              " ('Last Stand (2003)', 7.0),\n",
              " ('King of the Lost World (2005)', 7.0),\n",
              " ('Castle in the Sky (1986)', 7.0),\n",
              " ('Unforgiven (1992)', 7.0),\n",
              " ('Jersey Girl (2004)', 7.0),\n",
              " ('Nip/Tuck (2003–2010)', 7.0),\n",
              " ('Casino (1995)', 7.0),\n",
              " ('Tombstone (1993)', 7.0),\n",
              " ('Under the Tuscan Sun (2003)', 7.0),\n",
              " ('The Godfather: Part II (1974)', 7.0),\n",
              " ('Empire Records (1995)', 7.0),\n",
              " ('The Merchant of Venice (2004)', 7.0),\n",
              " ('Tears of the Sun (2003)', 7.0),\n",
              " ('Boston Legal (2004–2008)', 7.0),\n",
              " ('Ballistic: Ecks vs. Sever (2002)', 7.0),\n",
              " ('Party Monster (2003)', 7.0),\n",
              " (\"Darwin's Nightmare (2004)\", 7.0),\n",
              " ('Radio (2003)', 7.0),\n",
              " ('Blow (2001)', 7.0),\n",
              " ('Rescue Me (2004–2011)', 7.0),\n",
              " ('The Sixth Sense (1999)', 7.0),\n",
              " ('Kill Bill: Vol. 2 (2004)', 7.0),\n",
              " ('Point Break (1991)', 7.0),\n",
              " ('Horloge biologique (2005)', 7.0),\n",
              " ('In the Bedroom (2001)', 7.0),\n",
              " ('Arsène Lupin (2004)', 7.0),\n",
              " ('In America (2002)', 7.0),\n",
              " ('Camp (2003)', 7.0),\n",
              " ('The Bread, My Sweet (2001)', 7.0),\n",
              " ('The Bunker (2001)', 7.0),\n",
              " (\"The Dive from Clausen's Pier (2005 TV Movie)\", 7.0),\n",
              " ('Mighty Morphin Power Rangers: The Movie (1995)', 7.0),\n",
              " ('Superbabies: Baby Geniuses 2 (2004)', 7.0),\n",
              " ('The Piano (1993)', 7.0),\n",
              " ('Hotel (2001)', 7.0),\n",
              " ('Manderlay (2005)', 7.0),\n",
              " ('My Summer of Love (2004)', 7.0),\n",
              " (\"Dude, Where's My Car? (2000)\", 7.0),\n",
              " ('Whose Line Is It Anyway? (1998–2007)', 7.0),\n",
              " ('I Got Five on It (2005 Video)', 7.0),\n",
              " ('Pride and Prejudice (2003)', 7.0),\n",
              " ('True Romance (1993)', 7.0),\n",
              " ('Grease 2 (1982)', 7.0),\n",
              " ('Dracula III: Legacy (2005 Video)', 7.0),\n",
              " ('Bully (2001)', 7.0),\n",
              " ('The Hours (2002)', 7.0),\n",
              " ('Son of the Mask (2005)', 7.0),\n",
              " ('Thunderbirds (2004)', 7.0),\n",
              " ('Halloween: Resurrection (2002)', 7.0),\n",
              " ('Con Air (1997)', 7.0),\n",
              " ('The Transformers: The Movie (1986)', 7.0),\n",
              " ('Black Christmas (1974)', 7.0),\n",
              " ('Final Fantasy: The Spirits Within (2001)', 7.0),\n",
              " ('Hellraiser: Deader (2005 Video)', 7.0),\n",
              " ('Ghosts of Mars (2001)', 7.0),\n",
              " ('Hood of the Living Dead (2005 Video)', 7.0),\n",
              " ('Eyes Wide Shut (1999)', 7.0),\n",
              " ('The Best Years of Our Lives (1946)', 7.0),\n",
              " ('Irréversible (2002)', 7.0),\n",
              " (\"Grandma's Boy (2006)\", 7.0),\n",
              " (\"The Muppets' Wizard of Oz (2005 TV Movie)\", 7.0),\n",
              " ('Tarnation (2003)', 7.0),\n",
              " ('A Christmas Story (1983)', 7.0),\n",
              " ('Pride and Prejudice (1940)', 7.0),\n",
              " ('Treasure Planet (2002)', 7.0),\n",
              " ('Criminal Minds (2005–2020)', 7.0),\n",
              " ('Monsoon Wife (2004)', 7.0),\n",
              " ('Alias (2001–2006)', 7.0),\n",
              " ('50 Ways of Saying Fabulous (2005)', 7.0),\n",
              " ('Code Lyoko (2003–2007)', 7.0),\n",
              " ('Hook (1991)', 7.0),\n",
              " ('Faces of Death (1978)', 7.0),\n",
              " ('Elizabeth I (2005)', 7.0),\n",
              " ('Epitafios (2004– )', 7.0),\n",
              " ('Desperate Souls (2005 Video)', 7.0),\n",
              " ('Keane (2004)', 7.0),\n",
              " ('Nothing But Trouble (1991)', 7.0),\n",
              " ('Predator Island (2005 Video)', 7.0),\n",
              " ('Salò, or the 120 Days of Sodom (1975)', 7.0),\n",
              " ('Loggerheads (2005)', 7.0),\n",
              " ('The Unseen (2005)', 7.0),\n",
              " ('The Colbert Report (2005–2014)', 7.0),\n",
              " ('The Gift (II) (2003)', 7.0),\n",
              " ('The Lizzie McGuire Movie (2003)', 7.0),\n",
              " ('Mobsters and Mormons (2005)', 7.0),\n",
              " (\"The League of Gentlemen's Apocalypse (2005)\", 7.0),\n",
              " ('Flowers in the Attic (1987)', 7.0),\n",
              " ('Dreamcatcher (2003)', 7.0),\n",
              " ('K-PAX (2001)', 7.0),\n",
              " ('Chinatown (1974)', 7.0),\n",
              " ('The Work and the Glory II: American Zion (2005)', 7.0),\n",
              " ('Nothing (2003)', 7.0),\n",
              " ('Masked and Anonymous (2003)', 7.0),\n",
              " ('Phil of the Future (2004–2006)', 7.0),\n",
              " ('Training Day (2001)', 7.0),\n",
              " ('Sea of Dreams (2006)', 7.0),\n",
              " ('The Lord of the Rings (1978)', 6.0),\n",
              " ('Sling Blade (1996)', 6.0),\n",
              " ('Miracle (2004)', 6.0),\n",
              " ...]"
            ]
          },
          "metadata": {},
          "execution_count": 100
        }
      ]
    },
    {
      "cell_type": "code",
      "source": [
        "# histogram of movies\n",
        "data = dict(user_movie)\n",
        "keys = list(data.keys())[0:10]\n",
        "values = list(data.values())[0:10]\n",
        "fig, ax  = plt.subplots(figsize=(25,5))\n",
        "plt.bar(keys, values,color=['green'],width = 0.5)\n",
        "ax.set_ylabel('Number of occurences')\n",
        "ax.set_xlabel('reviewers')\n",
        "plt.title(\"Occurences of each movie as a favourite movie\")\n",
        "plt.xticks(rotation=90)\n",
        "plt.show()"
      ],
      "metadata": {
        "colab": {
          "base_uri": "https://localhost:8080/",
          "height": 417
        },
        "id": "5AW17X0m4SZB",
        "outputId": "fbff1c7c-d02e-477f-ac61-608ff1386749"
      },
      "execution_count": null,
      "outputs": [
        {
          "output_type": "display_data",
          "data": {
            "text/plain": [
              "<Figure size 1800x360 with 1 Axes>"
            ],
            "image/png": "[encoded data removed]"
          },
          "metadata": {
            "needs_background": "light"
          }
        }
      ]
    },
    {
      "cell_type": "markdown",
      "source": [
        "##Polarity Of Reviews"
      ],
      "metadata": {
        "id": "oZJs201sYFF8"
      }
    },
    {
      "cell_type": "code",
      "source": [
        "# select the needed columns\n",
        "\n",
        "reviews = revdf.select(['movie',\"review_detail\"])\n",
        "reviews = reviews.withColumn('movie/review_detail', concat(col('movie'),lit(','),col('review_detail')))\n",
        "reviews = reviews.select([\"movie/review_detail\"])\n",
        "reviews.show(2)"
      ],
      "metadata": {
        "colab": {
          "base_uri": "https://localhost:8080/"
        },
        "outputId": "54b3cdfb-eb59-4e55-b104-fddcaa6789ce",
        "id": "14RinzghrCp_"
      },
      "execution_count": null,
      "outputs": [
        {
          "output_type": "stream",
          "name": "stdout",
          "text": [
            "+--------------------+\n",
            "| movie/review_detail|\n",
            "+--------------------+\n",
            "|Kill Bill: Vol. 2...|\n",
            "|Journey to the Un...|\n",
            "+--------------------+\n",
            "only showing top 2 rows\n",
            "\n"
          ]
        }
      ]
    },
    {
      "cell_type": "code",
      "source": [
        "sia = SentimentIntensityAnalyzer()"
      ],
      "metadata": {
        "id": "u2YyYfi9Yw_6"
      },
      "execution_count": null,
      "outputs": []
    },
    {
      "cell_type": "code",
      "source": [
        "negPosReviews = reviews.rdd.flatMap(lambda x:x)\\\n",
        "          .filter(lambda movie: movie != None) \\\n",
        "          .map(lambda movie:(movie.split(',')[0], movie.split(',')[1])) \\\n",
        "          .map(lambda movie:(movie[0],sia.polarity_scores(movie[1]))) \\\n",
        "          .map(lambda movie:(movie[0],(movie[1]['pos'], movie[1]['neu']))) \\\n",
        "          .map(lambda movie:((movie[1][0]>=movie[1][1])*\"Pos\" +(movie[1][0]<movie[1][1])*\"Neg\",1))\\\n",
        "          .reduceByKey(lambda m1,m2:m1+m2)\\\n",
        "          .map(lambda movie:(movie[0],round(movie[1]/df_count,2)*100))\\\n",
        "          .collect()\n",
        "negPosReviews"
      ],
      "metadata": {
        "colab": {
          "base_uri": "https://localhost:8080/"
        },
        "outputId": "e032bb95-65ed-46fb-8da0-3e6fe8f89a82",
        "id": "92CYHeWdrCqD"
      },
      "execution_count": null,
      "outputs": [
        {
          "output_type": "execute_result",
          "data": {
            "text/plain": [
              "[('Neg', 94.0), ('Pos', 6.0)]"
            ]
          },
          "metadata": {},
          "execution_count": 83
        }
      ]
    },
    {
      "cell_type": "code",
      "source": [
        "data = dict(negPosReviews)\n",
        "keys = list(data.keys())[:10]\n",
        "values = list(data.values())[:10]\n",
        "fig, ax  = plt.subplots(figsize=(5,5))\n",
        "plt.bar(keys, values,color=['green'],width = 0.5)\n",
        "ax.set_ylabel('Percentage')\n",
        "ax.set_xlabel('Type')\n",
        "plt.title(\"Negative Vs Positive Reviews\")\n",
        "plt.show()\n",
        "plt.savefig(savePath+'Negative Vs Positive Reviews.png')"
      ],
      "metadata": {
        "colab": {
          "base_uri": "https://localhost:8080/",
          "height": 367
        },
        "outputId": "200cb584-8e6e-4c33-b0c2-52e75e697615",
        "id": "J-QDocSprCqF"
      },
      "execution_count": null,
      "outputs": [
        {
          "output_type": "display_data",
          "data": {
            "text/plain": [
              "<Figure size 360x360 with 1 Axes>"
            ],
            "image/png": "[encoded data removed]"
          },
          "metadata": {
            "needs_background": "light"
          }
        },
        {
          "output_type": "display_data",
          "data": {
            "text/plain": [
              "<Figure size 432x288 with 0 Axes>"
            ]
          },
          "metadata": {}
        }
      ]
    },
    {
      "cell_type": "markdown",
      "source": [
        "## Top 5 Movies with Positive Reviews"
      ],
      "metadata": {
        "id": "tvJcztbMe51B"
      }
    },
    {
      "cell_type": "code",
      "source": [
        "posReviewsPerMovie = reviews.rdd.flatMap(lambda x:x)\\\n",
        "          .filter(lambda movie: movie != None) \\\n",
        "          .map(lambda movie:(movie.split(',')[0], movie.split(',')[1])) \\\n",
        "          .map(lambda movie:(movie[0],sia.polarity_scores(movie[1]))) \\\n",
        "          .map(lambda movie:(movie[0],(movie[1]['pos'],1))) \\\n",
        "          .reduceByKey(lambda m1,m2:(m1[0]+m2[0],m1[1]+m2[1]))\\\n",
        "          .map(lambda movie:(movie[0],movie[1][0]/movie[1][1]))\\\n",
        "          .sortBy(lambda movie: movie[1],ascending=False)\\\n",
        "          .collect()"
      ],
      "metadata": {
        "id": "PMIDevqlovmk"
      },
      "execution_count": null,
      "outputs": []
    },
    {
      "cell_type": "code",
      "source": [
        "data = dict(posReviewsPerMovie)\n",
        "keys = list(data.keys())[:5]\n",
        "values = list(data.values())[:5]\n",
        "fig, ax  = plt.subplots(figsize=(30,5))\n",
        "plt.bar(keys, values,color=['green'],width = 0.5)\n",
        "ax.set_ylabel('Count')\n",
        "ax.set_xlabel('Movie')\n",
        "plt.title(\"Top 5 Movies With Positive Reviews\")\n",
        "plt.xticks(rotation=90)\n",
        "plt.show()\n",
        "plt.savefig(savePath+'Top 5 Movies With Positive Reviews.png')"
      ],
      "metadata": {
        "colab": {
          "base_uri": "https://localhost:8080/",
          "height": 447
        },
        "outputId": "286d9c08-4d78-4582-cd2b-3b6dc5c6aee2",
        "id": "rENpLEkTovml"
      },
      "execution_count": null,
      "outputs": [
        {
          "output_type": "display_data",
          "data": {
            "text/plain": [
              "<Figure size 2160x360 with 1 Axes>"
            ],
            "image/png": "[encoded data removed]"
          },
          "metadata": {
            "needs_background": "light"
          }
        },
        {
          "output_type": "display_data",
          "data": {
            "text/plain": [
              "<Figure size 432x288 with 0 Axes>"
            ]
          },
          "metadata": {}
        }
      ]
    },
    {
      "cell_type": "markdown",
      "source": [
        "## Top 5 Movies with Negative Reviews"
      ],
      "metadata": {
        "id": "0mdPI9-5fYPP"
      }
    },
    {
      "cell_type": "code",
      "source": [
        "negReviewsPerMovie = reviews.rdd.flatMap(lambda x:x)\\\n",
        "          .filter(lambda movie: movie != None) \\\n",
        "          .map(lambda movie:(movie.split(',')[0], movie.split(',')[1])) \\\n",
        "          .map(lambda movie:(movie[0],sia.polarity_scores(movie[1]))) \\\n",
        "          .map(lambda movie:(movie[0],(movie[1]['neu'],1))) \\\n",
        "          .reduceByKey(lambda m1,m2:(m1[0]+m2[0],m1[1]+m2[1]))\\\n",
        "          .map(lambda movie:(movie[0],movie[1][0]/movie[1][1]))\\\n",
        "          .sortBy(lambda movie: movie[1],ascending=False)\\\n",
        "          .collect()"
      ],
      "metadata": {
        "id": "3UWpxbr0XnKm"
      },
      "execution_count": null,
      "outputs": []
    },
    {
      "cell_type": "code",
      "source": [
        "data = dict(negReviewsPerMovie)\n",
        "keys = list(data.keys())[:5]\n",
        "values = list(data.values())[:5]\n",
        "fig, ax  = plt.subplots(figsize=(25,5))\n",
        "plt.bar(keys, values,color=['red'],width = 0.5)\n",
        "ax.set_ylabel('Count')\n",
        "ax.set_xlabel('Movie')\n",
        "plt.title(\"Top 5 Movies With Negative Reviews\")\n",
        "plt.show()\n",
        "plt.savefig(savePath+'Top 5 Movies With Negative Reviews.png')"
      ],
      "metadata": {
        "colab": {
          "base_uri": "https://localhost:8080/",
          "height": 387
        },
        "id": "sq-joKu6XnHx",
        "outputId": "dd8d2827-8149-4337-b352-fb1198c75770"
      },
      "execution_count": null,
      "outputs": [
        {
          "output_type": "display_data",
          "data": {
            "text/plain": [
              "<Figure size 1800x360 with 1 Axes>"
            ],
            "image/png": "[encoded data removed]"
          },
          "metadata": {
            "needs_background": "light"
          }
        },
        {
          "output_type": "display_data",
          "data": {
            "text/plain": [
              "<Figure size 432x288 with 0 Axes>"
            ]
          },
          "metadata": {}
        }
      ]
    },
    {
      "cell_type": "code",
      "source": [],
      "metadata": {
        "id": "Th0-knrHkCCh"
      },
      "execution_count": null,
      "outputs": []
    },
    {
      "cell_type": "code",
      "source": [
        "from google.colab import drive\n",
        "drive.mount('/content/drive')"
      ],
      "metadata": {
        "colab": {
          "base_uri": "https://localhost:8080/"
        },
        "id": "U-W21VQXkCGF",
        "outputId": "c1689c25-269a-4a6d-b86c-8aad9576bfb0"
      },
      "execution_count": null,
      "outputs": [
        {
          "output_type": "stream",
          "name": "stdout",
          "text": [
            "Mounted at /content/drive\n"
          ]
        }
      ]
    },
    {
      "cell_type": "code",
      "source": [
        "!zip '/content/part-01.json'"
      ],
      "metadata": {
        "colab": {
          "base_uri": "https://localhost:8080/"
        },
        "id": "bnig0UdKkCLS",
        "outputId": "f4f94252-bd02-4211-db4a-a1cf3a0df789"
      },
      "execution_count": null,
      "outputs": [
        {
          "output_type": "stream",
          "name": "stdout",
          "text": [
            "\tzip warning: missing end signature--probably not a zip file (did you\n",
            "\tzip warning: remember to use binary mode when you transferred it?)\n",
            "\tzip warning: (if you are trying to read a damaged archive try -F)\n",
            "\n",
            "zip error: Zip file structure invalid (/content/part-01.json)\n"
          ]
        }
      ]
    },
    {
      "cell_type": "code",
      "source": [
        "!zip -r /content/Data.zip /content/part-01.json"
      ],
      "metadata": {
        "colab": {
          "base_uri": "https://localhost:8080/"
        },
        "id": "rblVW8H9kCOe",
        "outputId": "fafc58bb-0e37-42da-ab22-acacde069938"
      },
      "execution_count": null,
      "outputs": [
        {
          "output_type": "stream",
          "name": "stdout",
          "text": [
            "  adding: content/part-01.json (deflated 64%)\n"
          ]
        }
      ]
    },
    {
      "cell_type": "code",
      "source": [
        "import shutil"
      ],
      "metadata": {
        "id": "MORIIfVSlMRp"
      },
      "execution_count": null,
      "outputs": []
    },
    {
      "cell_type": "code",
      "source": [
        "shutil.move(\"/content/Data.zip\", \"/content/drive/MyDrive/BigData\")"
      ],
      "metadata": {
        "colab": {
          "base_uri": "https://localhost:8080/",
          "height": 35
        },
        "id": "Whn8yICMkCTL",
        "outputId": "6cece8f5-4209-462a-ad8a-bbf84c8b04b0"
      },
      "execution_count": null,
      "outputs": [
        {
          "output_type": "execute_result",
          "data": {
            "text/plain": [
              "'/content/drive/MyDrive/BigData/Data.zip'"
            ],
            "application/vnd.google.colaboratory.intrinsic+json": {
              "type": "string"
            }
          },
          "metadata": {},
          "execution_count": 93
        }
      ]
    }
  ]
}