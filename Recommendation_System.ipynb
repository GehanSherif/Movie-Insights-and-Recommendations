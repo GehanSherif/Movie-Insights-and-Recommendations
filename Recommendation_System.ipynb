{
  "cells": [
    {
      "cell_type": "markdown",
      "metadata": {
        "id": "pWeUBC9Hxr9s"
      },
      "source": [
        "# Importing Libraries"
      ]
    },
    {
      "cell_type": "code",
      "execution_count": null,
      "metadata": {
        "colab": {
          "base_uri": "https://localhost:8080/"
        },
        "id": "ffyLCKj6Ww67",
        "outputId": "c90855b1-5bf0-47f1-e8fa-f2dba1e7b5a4"
      },
      "outputs": [
        {
          "output_type": "stream",
          "name": "stdout",
          "text": [
            "Looking in indexes: https://pypi.org/simple, https://us-python.pkg.dev/colab-wheels/public/simple/\n",
            "Collecting pyspark\n",
            "  Downloading pyspark-3.3.1.tar.gz (281.4 MB)\n",
            "\u001b[2K     \u001b[90m━━━━━━━━━━━━━━━━━━━━━━━━━━━━━━━━━━━━━━━\u001b[0m \u001b[32m281.4/281.4 MB\u001b[0m \u001b[31m3.6 MB/s\u001b[0m eta \u001b[36m0:00:00\u001b[0m\n",
            "\u001b[?25h  Preparing metadata (setup.py) ... \u001b[?25l\u001b[?25hdone\n",
            "Collecting py4j==0.10.9.5\n",
            "  Downloading py4j-0.10.9.5-py2.py3-none-any.whl (199 kB)\n",
            "\u001b[2K     \u001b[90m━━━━━━━━━━━━━━━━━━━━━━━━━━━━━━━━━━━━━━━\u001b[0m \u001b[32m199.7/199.7 KB\u001b[0m \u001b[31m4.9 MB/s\u001b[0m eta \u001b[36m0:00:00\u001b[0m\n",
            "\u001b[?25hBuilding wheels for collected packages: pyspark\n",
            "  Building wheel for pyspark (setup.py) ... \u001b[?25l\u001b[?25hdone\n",
            "  Created wheel for pyspark: filename=pyspark-3.3.1-py2.py3-none-any.whl size=281845512 sha256=3e8ba8c035afc29ef9041b85eb11683181814bb0602c9a0395972cbd7e4aed86\n",
            "  Stored in directory: /root/.cache/pip/wheels/43/dc/11/ec201cd671da62fa9c5cc77078235e40722170ceba231d7598\n",
            "Successfully built pyspark\n",
            "Installing collected packages: py4j, pyspark\n",
            "Successfully installed py4j-0.10.9.5 pyspark-3.3.1\n"
          ]
        }
      ],
      "source": [
        "!pip install pyspark"
      ]
    },
    {
      "cell_type": "code",
      "execution_count": null,
      "metadata": {
        "id": "TH2ZYDTK2Ky4"
      },
      "outputs": [],
      "source": [
        "from pyspark.sql import SparkSession\n",
        "from google.colab import drive\n",
        "from pyspark.ml.feature import HashingTF, IDF, Tokenizer\n",
        "from pyspark.ml.linalg import SparseVector, Vectors\n",
        "from pyspark.sql.functions import monotonically_increasing_id, col, lower"
      ]
    },
    {
      "cell_type": "code",
      "execution_count": null,
      "metadata": {
        "colab": {
          "base_uri": "https://localhost:8080/",
          "height": 219
        },
        "id": "NCAbxV0X6NxE",
        "outputId": "ff7f1aa1-c4f2-47e8-fada-2670d269b1b2"
      },
      "outputs": [
        {
          "output_type": "execute_result",
          "data": {
            "text/plain": [
              "<pyspark.sql.session.SparkSession at 0x7fc8495ca070>"
            ],
            "text/html": [
              "\n",
              "            <div>\n",
              "                <p><b>SparkSession - in-memory</b></p>\n",
              "                \n",
              "        <div>\n",
              "            <p><b>SparkContext</b></p>\n",
              "\n",
              "            <p><a href=\"http://abc93a66cf05:4040\">Spark UI</a></p>\n",
              "\n",
              "            <dl>\n",
              "              <dt>Version</dt>\n",
              "                <dd><code>v3.3.1</code></dd>\n",
              "              <dt>Master</dt>\n",
              "                <dd><code>local[*]</code></dd>\n",
              "              <dt>AppName</dt>\n",
              "                <dd><code>Movies Recommendation System</code></dd>\n",
              "            </dl>\n",
              "        </div>\n",
              "        \n",
              "            </div>\n",
              "        "
            ]
          },
          "metadata": {},
          "execution_count": 3
        }
      ],
      "source": [
        "spark = SparkSession \\\n",
        "    .builder \\\n",
        "    .appName('Movies Recommendation System') \\\n",
        "    .config(\"spark.driver.memory\", \"5g\") \\\n",
        "    .getOrCreate()\n",
        "\n",
        "spark"
      ]
    },
    {
      "cell_type": "code",
      "execution_count": null,
      "metadata": {
        "colab": {
          "base_uri": "https://localhost:8080/"
        },
        "id": "j5ZsU8ojhshA",
        "outputId": "f83d7f7f-7574-4208-be72-f66fa1bb32e5"
      },
      "outputs": [
        {
          "output_type": "stream",
          "name": "stdout",
          "text": [
            "Looking in indexes: https://pypi.org/simple, https://us-python.pkg.dev/colab-wheels/public/simple/\n",
            "Requirement already satisfied: gdown in /usr/local/lib/python3.8/dist-packages (4.4.0)\n",
            "Collecting gdown\n",
            "  Downloading gdown-4.6.0-py3-none-any.whl (14 kB)\n",
            "Requirement already satisfied: tqdm in /usr/local/lib/python3.8/dist-packages (from gdown) (4.64.1)\n",
            "Requirement already satisfied: requests[socks] in /usr/local/lib/python3.8/dist-packages (from gdown) (2.25.1)\n",
            "Requirement already satisfied: six in /usr/local/lib/python3.8/dist-packages (from gdown) (1.15.0)\n",
            "Requirement already satisfied: beautifulsoup4 in /usr/local/lib/python3.8/dist-packages (from gdown) (4.6.3)\n",
            "Requirement already satisfied: filelock in /usr/local/lib/python3.8/dist-packages (from gdown) (3.9.0)\n",
            "Requirement already satisfied: idna<3,>=2.5 in /usr/local/lib/python3.8/dist-packages (from requests[socks]->gdown) (2.10)\n",
            "Requirement already satisfied: certifi>=2017.4.17 in /usr/local/lib/python3.8/dist-packages (from requests[socks]->gdown) (2022.12.7)\n",
            "Requirement already satisfied: urllib3<1.27,>=1.21.1 in /usr/local/lib/python3.8/dist-packages (from requests[socks]->gdown) (1.24.3)\n",
            "Requirement already satisfied: chardet<5,>=3.0.2 in /usr/local/lib/python3.8/dist-packages (from requests[socks]->gdown) (4.0.0)\n",
            "Requirement already satisfied: PySocks!=1.5.7,>=1.5.6 in /usr/local/lib/python3.8/dist-packages (from requests[socks]->gdown) (1.7.1)\n",
            "Installing collected packages: gdown\n",
            "  Attempting uninstall: gdown\n",
            "    Found existing installation: gdown 4.4.0\n",
            "    Uninstalling gdown-4.4.0:\n",
            "      Successfully uninstalled gdown-4.4.0\n",
            "Successfully installed gdown-4.6.0\n",
            "Downloading...\n",
            "From: https://drive.google.com/uc?id=1m3xE5EIpXEFsvcuEP8JlVaEGCjuEA9ye\n",
            "To: /content/all_movies.json\n",
            "100% 190M/190M [00:01<00:00, 124MB/s]\n"
          ]
        }
      ],
      "source": [
        "!pip install -U --no-cache-dir gdown --pre\n",
        "!gdown \"1m3xE5EIpXEFsvcuEP8JlVaEGCjuEA9ye\""
      ]
    },
    {
      "cell_type": "markdown",
      "metadata": {
        "id": "NggyhGXfxwcc"
      },
      "source": [
        "# Load and explore data"
      ]
    },
    {
      "cell_type": "code",
      "execution_count": null,
      "metadata": {
        "id": "NjQoimuhmDCc"
      },
      "outputs": [],
      "source": [
        "# read data\n",
        "movies = spark.read.option(\"multiline\", \"true\").json('/content/all_movies.json')"
      ]
    },
    {
      "cell_type": "code",
      "execution_count": null,
      "metadata": {
        "colab": {
          "base_uri": "https://localhost:8080/"
        },
        "id": "ykPCl3hFmJE4",
        "outputId": "0904cbb2-4d41-4d3b-a9aa-952558f2159d"
      },
      "outputs": [
        {
          "output_type": "stream",
          "name": "stdout",
          "text": [
            "+-----+--------------------+---------------------+--------+--------------------+--------------------+---+---------+-----------------+--------------------+--------------------+----------+--------------------+--------------------+--------------------+------------+--------+-------+--------------------+--------+--------------------+--------------------+-----+------------+----------+\n",
            "|adult|       backdrop_path|belongs_to_collection|  budget|              genres|            homepage| id|  imdb_id|original_language|      original_title|            overview|popularity|         poster_path|production_companies|production_countries|release_date| revenue|runtime|    spoken_languages|  status|             tagline|               title|video|vote_average|vote_count|\n",
            "+-----+--------------------+---------------------+--------+--------------------+--------------------+---+---------+-----------------+--------------------+--------------------+----------+--------------------+--------------------+--------------------+------------+--------+-------+--------------------+--------+--------------------+--------------------+-----+------------+----------+\n",
            "|false|/hQ4pYsIbP22TMXOU...|                 null|       0|[{18, Drama}, {35...|                    |  2|tt0094675|               fi|               Ariel|Taisto Kasurinen ...|    37.303|/ojDg0PGvs6R9xYFo...|[{2303, null, Vil...|     [{FI, Finland}]|  1988-10-21|       0|     73|[{Finnish, fi, su...|Released|                    |               Ariel|false|       7.044|       217|\n",
            "|false|/l94l89eMmFKh7na2...|                 null|       0|[{18, Drama}, {35...|                    |  3|tt0092149|               fi|Varjoja paratiisissa|An episode in the...|    32.525|/nj01hspawPof0mJm...|[{2303, null, Vil...|     [{FI, Finland}]|  1986-10-17|       0|     74|[{Swedish, sv, sv...|Released|                    | Shadows in Paradise|false|       7.274|       208|\n",
            "|false|/c1BaOxC8bo5ACFYk...|                 null| 4000000|[{80, Crime}, {35...|https://www.miram...|  5|tt0113101|               en|          Four Rooms|It's Ted the Bell...|    45.378|/75aHn1NOYXh4M7L5...|[{14, /m6AHu84oZQ...|[{US, United Stat...|  1995-12-09| 4257354|     98|[{English, en, En...|Released|Twelve outrageous...|          Four Rooms|false|       5.713|      2280|\n",
            "|false|/vJ1OG4akDBvjOdKR...|                 null|21000000|[{28, Action}, {8...|                    |  6|tt0107286|               en|      Judgment Night|While racing to a...|    36.186|/rYFAvSPlQUCebayL...|[{182, null, JVC,...|[{US, United Stat...|  1993-10-15|12136938|    109|[{English, en, En...|Released|Don't move. Don't...|      Judgment Night|false|        6.57|       272|\n",
            "|false|                null|                 null|   42000| [{99, Documentary}]|http://lifeinloop...|  8|tt0825671|               en|Life in Loops (A ...|Timo Novotny labe...|     2.471|/x7Sz339F2oC8mBf0...|[{19123, null, in...|     [{AT, Austria}]|  2006-01-01|       0|     80|[{English, en, En...|Released| A Megacities remix.|Life in Loops (A ...|false|       7.738|        21|\n",
            "+-----+--------------------+---------------------+--------+--------------------+--------------------+---+---------+-----------------+--------------------+--------------------+----------+--------------------+--------------------+--------------------+------------+--------+-------+--------------------+--------+--------------------+--------------------+-----+------------+----------+\n",
            "only showing top 5 rows\n",
            "\n"
          ]
        }
      ],
      "source": [
        "#Displaying samples\n",
        "movies.show(5) "
      ]
    },
    {
      "cell_type": "code",
      "execution_count": null,
      "metadata": {
        "colab": {
          "base_uri": "https://localhost:8080/"
        },
        "id": "GW7ZI8E8mOdB",
        "outputId": "0aba59a1-c5e0-464d-ae76-2d8e6bb6ffd8"
      },
      "outputs": [
        {
          "output_type": "stream",
          "name": "stdout",
          "text": [
            "root\n",
            " |-- adult: boolean (nullable = true)\n",
            " |-- backdrop_path: string (nullable = true)\n",
            " |-- belongs_to_collection: struct (nullable = true)\n",
            " |    |-- backdrop_path: string (nullable = true)\n",
            " |    |-- id: long (nullable = true)\n",
            " |    |-- name: string (nullable = true)\n",
            " |    |-- poster_path: string (nullable = true)\n",
            " |-- budget: long (nullable = true)\n",
            " |-- genres: array (nullable = true)\n",
            " |    |-- element: struct (containsNull = true)\n",
            " |    |    |-- id: long (nullable = true)\n",
            " |    |    |-- name: string (nullable = true)\n",
            " |-- homepage: string (nullable = true)\n",
            " |-- id: long (nullable = true)\n",
            " |-- imdb_id: string (nullable = true)\n",
            " |-- original_language: string (nullable = true)\n",
            " |-- original_title: string (nullable = true)\n",
            " |-- overview: string (nullable = true)\n",
            " |-- popularity: double (nullable = true)\n",
            " |-- poster_path: string (nullable = true)\n",
            " |-- production_companies: array (nullable = true)\n",
            " |    |-- element: struct (containsNull = true)\n",
            " |    |    |-- id: long (nullable = true)\n",
            " |    |    |-- logo_path: string (nullable = true)\n",
            " |    |    |-- name: string (nullable = true)\n",
            " |    |    |-- origin_country: string (nullable = true)\n",
            " |-- production_countries: array (nullable = true)\n",
            " |    |-- element: struct (containsNull = true)\n",
            " |    |    |-- iso_3166_1: string (nullable = true)\n",
            " |    |    |-- name: string (nullable = true)\n",
            " |-- release_date: string (nullable = true)\n",
            " |-- revenue: long (nullable = true)\n",
            " |-- runtime: long (nullable = true)\n",
            " |-- spoken_languages: array (nullable = true)\n",
            " |    |-- element: struct (containsNull = true)\n",
            " |    |    |-- english_name: string (nullable = true)\n",
            " |    |    |-- iso_639_1: string (nullable = true)\n",
            " |    |    |-- name: string (nullable = true)\n",
            " |-- status: string (nullable = true)\n",
            " |-- tagline: string (nullable = true)\n",
            " |-- title: string (nullable = true)\n",
            " |-- video: boolean (nullable = true)\n",
            " |-- vote_average: double (nullable = true)\n",
            " |-- vote_count: long (nullable = true)\n",
            "\n"
          ]
        }
      ],
      "source": [
        "#Printing Schema\n",
        "movies.printSchema() "
      ]
    },
    {
      "cell_type": "code",
      "execution_count": null,
      "metadata": {
        "id": "_A3SUVOXjIyV"
      },
      "outputs": [],
      "source": [
        "# drop null values\n",
        "movies = movies.na.drop()"
      ]
    },
    {
      "cell_type": "code",
      "execution_count": null,
      "metadata": {
        "id": "43q7IYJChE2h"
      },
      "outputs": [],
      "source": [
        "# convert the movie title to lowercase\n",
        "movies = movies.withColumn('title', lower(col('original_title')))"
      ]
    },
    {
      "cell_type": "markdown",
      "metadata": {
        "id": "RCPnAwIjsxDm"
      },
      "source": [
        "# Use NLP to represent overview feature "
      ]
    },
    {
      "cell_type": "code",
      "execution_count": null,
      "metadata": {
        "id": "62rEiQ-ovcjN"
      },
      "outputs": [],
      "source": [
        "# select columns required for the task\n",
        "overviewData = movies.select('id', 'overview', 'title')"
      ]
    },
    {
      "cell_type": "code",
      "execution_count": null,
      "metadata": {
        "colab": {
          "base_uri": "https://localhost:8080/"
        },
        "id": "DLW7cl_quxOC",
        "outputId": "1839b31a-8148-4736-df3f-2b251f69d1f4"
      },
      "outputs": [
        {
          "output_type": "stream",
          "name": "stdout",
          "text": [
            "+---+------------------------------------------------------------------------------------------------------------------------------------------------------------------------------------------------------------------------------------------------------------------------------------------------------------------------------------------------------------------------------------------------------------------------------------------------------+----------------------------------+-----------------------------------------------------------------------------------------------------------------------------------------------------------------------------------------------------------------------------------------------------------------------------------------------------------------------------------------------------------------------------------------------------------------------------------------------------------------------------------------------------------------------------+\n",
            "|id |overview                                                                                                                                                                                                                                                                                                                                                                                                                                              |title                             |overview words                                                                                                                                                                                                                                                                                                                                                                                                                                                                                                               |\n",
            "+---+------------------------------------------------------------------------------------------------------------------------------------------------------------------------------------------------------------------------------------------------------------------------------------------------------------------------------------------------------------------------------------------------------------------------------------------------------+----------------------------------+-----------------------------------------------------------------------------------------------------------------------------------------------------------------------------------------------------------------------------------------------------------------------------------------------------------------------------------------------------------------------------------------------------------------------------------------------------------------------------------------------------------------------------+\n",
            "|25 |Jarhead is a film about a US Marine Anthony Swofford’s experience in the Gulf War. After putting up with an arduous boot camp, Swofford and his unit are sent to the Persian Gulf where they are eager to fight, but are forced to stay back from the action. Swofford struggles with the possibility of his girlfriend cheating on him, and as his mental state deteriorates, his desire to kill increases.                                          |jarhead                           |[jarhead, is, a, film, about, a, us, marine, anthony, swofford’s, experience, in, the, gulf, war., after, putting, up, with, an, arduous, boot, camp,, swofford, and, his, unit, are, sent, to, the, persian, gulf, where, they, are, eager, to, fight,, but, are, forced, to, stay, back, from, the, action., swofford, struggles, with, the, possibility, of, his, girlfriend, cheating, on, him,, and, as, his, mental, state, deteriorates,, his, desire, to, kill, increases.]                                          |\n",
            "|97 |When brilliant video game maker Flynn hacks the mainframe of his ex-employer, he is beamed inside an astonishing digital world...and becomes part of the very game he is designing. In his mission through cyberspace, Flynn matches wits with a maniacal Master Control Program and teams up with Tron, a security measure created to bring balance to the digital environment.                                                                      |tron                              |[when, brilliant, video, game, maker, flynn, hacks, the, mainframe, of, his, ex-employer,, he, is, beamed, inside, an, astonishing, digital, world...and, becomes, part, of, the, very, game, he, is, designing., in, his, mission, through, cyberspace,, flynn, matches, wits, with, a, maniacal, master, control, program, and, teams, up, with, tron,, a, security, measure, created, to, bring, balance, to, the, digital, environment.]                                                                                 |\n",
            "|144|Two angels, Damiel and Cassiel, glide through the streets of Berlin, observing the bustling population, providing invisible rays of hope to the distressed but never interacting with them. When Damiel falls in love with lonely trapeze artist Marion, the angel longs to experience life in the physical world, and finds -- with some words of wisdom from actor Peter Falk -- that it might be possible for him to take human form.              |der himmel über berlin            |[two, angels,, damiel, and, cassiel,, glide, through, the, streets, of, berlin,, observing, the, bustling, population,, providing, invisible, rays, of, hope, to, the, distressed, but, never, interacting, with, them., when, damiel, falls, in, love, with, lonely, trapeze, artist, marion,, the, angel, longs, to, experience, life, in, the, physical, world,, and, finds, --, with, some, words, of, wisdom, from, actor, peter, falk, --, that, it, might, be, possible, for, him, to, take, human, form.]            |\n",
            "|150|A hard-nosed cop reluctantly teams up with a wise-cracking criminal temporarily paroled to him, in order to track down a killer.                                                                                                                                                                                                                                                                                                                      |48 hrs.                           |[a, hard-nosed, cop, reluctantly, teams, up, with, a, wise-cracking, criminal, temporarily, paroled, to, him,, in, order, to, track, down, a, killer.]                                                                                                                                                                                                                                                                                                                                                                       |\n",
            "|155|Batman raises the stakes in his war on crime. With the help of Lt. Jim Gordon and District Attorney Harvey Dent, Batman sets out to dismantle the remaining criminal organizations that plague the streets. The partnership proves to be effective, but they soon find themselves prey to a reign of chaos unleashed by a rising criminal mastermind known to the terrified citizens of Gotham as the Joker.                                          |the dark knight                   |[batman, raises, the, stakes, in, his, war, on, crime., with, the, help, of, lt., jim, gordon, and, district, attorney, harvey, dent,, batman, sets, out, to, dismantle, the, remaining, criminal, organizations, that, plague, the, streets., the, partnership, proves, to, be, effective,, but, they, soon, find, themselves, prey, to, a, reign, of, chaos, unleashed, by, a, rising, criminal, mastermind, known, to, the, terrified, citizens, of, gotham, as, the, joker.]                                             |\n",
            "|189|Some of Sin City's most hard-boiled citizens cross paths with a few of its more reviled inhabitants.                                                                                                                                                                                                                                                                                                                                                  |sin city: a dame to kill for      |[some, of, sin, city's, most, hard-boiled, citizens, cross, paths, with, a, few, of, its, more, reviled, inhabitants.]                                                                                                                                                                                                                                                                                                                                                                                                       |\n",
            "|214|Jigsaw has disappeared. Along with his new apprentice Amanda, the puppet-master behind the cruel, intricate games that have terrified a community and baffled police has once again eluded capture and vanished. While city detective scrambles to locate him, Doctor Lynn Denlon and Jeff Reinhart are unaware that they are about to become the latest pawns on his vicious chessboard.                                                             |saw iii                           |[jigsaw, has, disappeared., along, with, his, new, apprentice, amanda,, the, puppet-master, behind, the, cruel,, intricate, games, that, have, terrified, a, community, and, baffled, police, has, once, again, eluded, capture, and, vanished., while, city, detective, scrambles, to, locate, him,, doctor, lynn, denlon, and, jeff, reinhart, are, unaware, that, they, are, about, to, become, the, latest, pawns, on, his, vicious, chessboard.]                                                                        |\n",
            "|259|Antoine is now 30, working as a proofreader and getting divorced from his his wife. It being the first \"no-fault\" divorce in France, a media circus erupts, dredging up Antoine's past. Indecisive about his new love with a store clerk, he impulsively takes off with an old flame.                                                                                                                                                                 |l'amour en fuite                  |[antoine, is, now, 30,, working, as, a, proofreader, and, getting, divorced, from, his, his, wife., it, being, the, first, \"no-fault\", divorce, in, france,, a, media, circus, erupts,, dredging, up, antoine's, past., indecisive, about, his, new, love, with, a, store, clerk,, he, impulsively, takes, off, with, an, old, flame.]                                                                                                                                                                                       |\n",
            "|280|Nearly 10 years have passed since Sarah Connor was targeted for termination by a cyborg from the future. Now her son, John, the future leader of the resistance, is the target for a newer, more deadly terminator. Once again, the resistance has managed to send a protector back to attempt to save John and his mother Sarah.                                                                                                                     |terminator 2: judgment day        |[nearly, 10, years, have, passed, since, sarah, connor, was, targeted, for, termination, by, a, cyborg, from, the, future., now, her, son,, john,, the, future, leader, of, the, resistance,, is, the, target, for, a, newer,, more, deadly, terminator., once, again,, the, resistance, has, managed, to, send, a, protector, back, to, attempt, to, save, john, and, his, mother, sarah.]                                                                                                                                  |\n",
            "|331|In need of funds for research, Dr. Alan Grant accepts a large sum of money to accompany Paul and Amanda Kirby on an aerial tour of the infamous Isla Sorna. It isn't long before all hell breaks loose and the stranded wayfarers must fight for survival as a host of new -- and even more deadly -- dinosaurs try to make snacks of them.                                                                                                           |jurassic park iii                 |[in, need, of, funds, for, research,, dr., alan, grant, accepts, a, large, sum, of, money, to, accompany, paul, and, amanda, kirby, on, an, aerial, tour, of, the, infamous, isla, sorna., it, isn't, long, before, all, hell, breaks, loose, and, the, stranded, wayfarers, must, fight, for, survival, as, a, host, of, new, --, and, even, more, deadly, --, dinosaurs, try, to, make, snacks, of, them.]                                                                                                                 |\n",
            "|414|Batman must battle a disfigured district attorney and a disgruntled former employee with help from an amorous psychologist and a young circus acrobat.                                                                                                                                                                                                                                                                                                |batman forever                    |[batman, must, battle, a, disfigured, district, attorney, and, a, disgruntled, former, employee, with, help, from, an, amorous, psychologist, and, a, young, circus, acrobat.]                                                                                                                                                                                                                                                                                                                                               |\n",
            "|437|The sequel to the low budget first film Cube. This time the prisoners find them selves in a more advanced cube environment that they must escape from before they are killed. A science fiction film where space and time have more than one path.                                                                                                                                                                                                    |cube 2: hypercube                 |[the, sequel, to, the, low, budget, first, film, cube., this, time, the, prisoners, find, them, selves, in, a, more, advanced, cube, environment, that, they, must, escape, from, before, they, are, killed., a, science, fiction, film, where, space, and, time, have, more, than, one, path.]                                                                                                                                                                                                                              |\n",
            "|438|Cube Zero is the third film in the trilogy yet this time instead of a film about people trapped in a deadly cube trying to get out we see it from the eyes of someone who is controlling the cube and the torture of the victims inside. When the nerd can’t stand to see a woman suffer he himself enters the cube to try and save her.                                                                                                              |cube zero                         |[cube, zero, is, the, third, film, in, the, trilogy, yet, this, time, instead, of, a, film, about, people, trapped, in, a, deadly, cube, trying, to, get, out, we, see, it, from, the, eyes, of, someone, who, is, controlling, the, cube, and, the, torture, of, the, victims, inside., when, the, nerd, can’t, stand, to, see, a, woman, suffer, he, himself, enters, the, cube, to, try, and, save, her.]                                                                                                                 |\n",
            "|440|The iconic creatures from two of the scariest film franchises in movie history wage their most brutal battle ever—in our own backyard. The small town of Gunnison, Colorado becomes a war zone between two of the deadliest extra-terrestrial life forms—the Alien and the Predator. When a Predator scout ship crash-lands in the hills outside the town, Alien Facehuggers and a hybrid Alien/Predator are released and begin to terrorize the town.|aliens vs predator: requiem       |[the, iconic, creatures, from, two, of, the, scariest, film, franchises, in, movie, history, wage, their, most, brutal, battle, ever—in, our, own, backyard., the, small, town, of, gunnison,, colorado, becomes, a, war, zone, between, two, of, the, deadliest, extra-terrestrial, life, forms—the, alien, and, the, predator., when, a, predator, scout, ship, crash-lands, in, the, hills, outside, the, town,, alien, facehuggers, and, a, hybrid, alien/predator, are, released, and, begin, to, terrorize, the, town.]|\n",
            "|458|Sissi is now the empress of Austria and attempts to learn etiquette. While she is busy being empress she also has to deal with her difficult new mother-in-law, while the arch-duchess Sophie is trying to tell the emperor how to rule and also Sissi how to be a mother.                                                                                                                                                                            |sissi - die junge kaiserin        |[sissi, is, now, the, empress, of, austria, and, attempts, to, learn, etiquette., while, she, is, busy, being, empress, she, also, has, to, deal, with, her, difficult, new, mother-in-law,, while, the, arch-duchess, sophie, is, trying, to, tell, the, emperor, how, to, rule, and, also, sissi, how, to, be, a, mother.]                                                                                                                                                                                                 |\n",
            "|557|After being bitten by a genetically altered spider at Oscorp, nerdy but endearing high school student Peter Parker is endowed with amazing powers to become the superhero known as Spider-Man.                                                                                                                                                                                                                                                        |spider-man                        |[after, being, bitten, by, a, genetically, altered, spider, at, oscorp,, nerdy, but, endearing, high, school, student, peter, parker, is, endowed, with, amazing, powers, to, become, the, superhero, known, as, spider-man.]                                                                                                                                                                                                                                                                                                |\n",
            "|642|In late 1890s Wyoming, Butch Cassidy is the affable, clever and talkative leader of the outlaw Hole in the Wall Gang. His closest companion is the laconic dead-shot Sundance Kid. As the west rapidly becomes civilized, the law finally catches up to Butch, Sundance and their gang.  Chased doggedly by a special posse, the two decide to make their way to South America in hopes of evading their pursuers once and for all.                   |butch cassidy and the sundance kid|[in, late, 1890s, wyoming,, butch, cassidy, is, the, affable,, clever, and, talkative, leader, of, the, outlaw, hole, in, the, wall, gang., his, closest, companion, is, the, laconic, dead-shot, sundance, kid., as, the, west, rapidly, becomes, civilized,, the, law, finally, catches, up, to, butch,, sundance, and, their, gang., , chased, doggedly, by, a, special, posse,, the, two, decide, to, make, their, way, to, south, america, in, hopes, of, evading, their, pursuers, once, and, for, all.]               |\n",
            "|660|A criminal organization has obtained two nuclear bombs and are asking for a 100 million pound ransom in the form of diamonds in seven days or they will use the weapons. The secret service sends James Bond to the Bahamas to once again save the world.                                                                                                                                                                                             |thunderball                       |[a, criminal, organization, has, obtained, two, nuclear, bombs, and, are, asking, for, a, 100, million, pound, ransom, in, the, form, of, diamonds, in, seven, days, or, they, will, use, the, weapons., the, secret, service, sends, james, bond, to, the, bahamas, to, once, again, save, the, world.]                                                                                                                                                                                                                     |\n",
            "|667|A mysterious spacecraft captures Russian and American space capsules and brings the two superpowers to the brink of war. James Bond investigates the case in Japan and comes face to face with his archenemy Blofeld.                                                                                                                                                                                                                                 |you only live twice               |[a, mysterious, spacecraft, captures, russian, and, american, space, capsules, and, brings, the, two, superpowers, to, the, brink, of, war., james, bond, investigates, the, case, in, japan, and, comes, face, to, face, with, his, archenemy, blofeld.]                                                                                                                                                                                                                                                                    |\n",
            "|698|After Drax Industries' Moonraker space shuttle is hijacked, secret agent James Bond is assigned to investigate, traveling to California to meet the company's owner, the mysterious Hugo Drax. With the help of scientist Dr. Holly Goodhead, Bond soon uncovers Drax's nefarious plans for humanity, all the while fending off an old nemesis, Jaws, and venturing to Venice, Rio, the Amazon...and even outer space.                                |moonraker                         |[after, drax, industries', moonraker, space, shuttle, is, hijacked,, secret, agent, james, bond, is, assigned, to, investigate,, traveling, to, california, to, meet, the, company's, owner,, the, mysterious, hugo, drax., with, the, help, of, scientist, dr., holly, goodhead,, bond, soon, uncovers, drax's, nefarious, plans, for, humanity,, all, the, while, fending, off, an, old, nemesis,, jaws,, and, venturing, to, venice,, rio,, the, amazon...and, even, outer, space.]                                       |\n",
            "+---+------------------------------------------------------------------------------------------------------------------------------------------------------------------------------------------------------------------------------------------------------------------------------------------------------------------------------------------------------------------------------------------------------------------------------------------------------+----------------------------------+-----------------------------------------------------------------------------------------------------------------------------------------------------------------------------------------------------------------------------------------------------------------------------------------------------------------------------------------------------------------------------------------------------------------------------------------------------------------------------------------------------------------------------+\n",
            "only showing top 20 rows\n",
            "\n"
          ]
        }
      ],
      "source": [
        "# breakdown overview into words\n",
        "tokenizer = Tokenizer(inputCol=\"overview\", outputCol=\"overview words\")\n",
        "wordsData = tokenizer.transform(overviewData)\n",
        "wordsData.show(truncate=False)"
      ]
    },
    {
      "cell_type": "code",
      "execution_count": null,
      "metadata": {
        "id": "gUiOt_MWwRTn"
      },
      "outputs": [],
      "source": [
        "# compute tf-idf for overview feature\n",
        "hashingTF = HashingTF(inputCol=\"overview words\", outputCol=\"rawFeatures\", numFeatures=512)\n",
        "featurizedData = hashingTF.transform(wordsData)\n",
        "\n",
        "idf = IDF(inputCol=\"rawFeatures\", outputCol=\"features\")\n",
        "idfModel = idf.fit(featurizedData)\n",
        "rescaledData = idfModel.transform(featurizedData)"
      ]
    },
    {
      "cell_type": "code",
      "execution_count": null,
      "metadata": {
        "id": "mlrA0ex9xy7w"
      },
      "outputs": [],
      "source": [
        "# Create the sparse matrix\n",
        "sparse_matrix = rescaledData.select(\"id\", \"features\")"
      ]
    },
    {
      "cell_type": "markdown",
      "metadata": {
        "id": "4eOu6Gqodfgz"
      },
      "source": [
        "# Compute similarity between movies"
      ]
    },
    {
      "cell_type": "code",
      "execution_count": null,
      "metadata": {
        "id": "rv2manWyWXRP"
      },
      "outputs": [],
      "source": [
        "# Get the similarity matrix\n",
        "similarity_matrix = sparse_matrix.rdd.cartesian(sparse_matrix.rdd).map(lambda row: (row[0][0], row[1][0], float(row[0][1].dot(row[1][1])))).toDF([\"id1\", \"id2\", \"similarity\"])"
      ]
    },
    {
      "cell_type": "markdown",
      "metadata": {
        "id": "n7zZtvRmbUEh"
      },
      "source": [
        "# Recommend movies"
      ]
    },
    {
      "cell_type": "code",
      "source": [
        "overviewData.show(5)"
      ],
      "metadata": {
        "colab": {
          "base_uri": "https://localhost:8080/"
        },
        "id": "8Jpi3-kIGW8r",
        "outputId": "dc9d7dfb-b2e8-455d-f872-2d32e0295894"
      },
      "execution_count": null,
      "outputs": [
        {
          "output_type": "stream",
          "name": "stdout",
          "text": [
            "+---+--------------------+--------------------+\n",
            "| id|            overview|               title|\n",
            "+---+--------------------+--------------------+\n",
            "| 25|Jarhead is a film...|             jarhead|\n",
            "| 97|When brilliant vi...|                tron|\n",
            "|144|Two angels, Damie...|der himmel über b...|\n",
            "|150|A hard-nosed cop ...|             48 hrs.|\n",
            "|155|Batman raises the...|     the dark knight|\n",
            "+---+--------------------+--------------------+\n",
            "only showing top 5 rows\n",
            "\n"
          ]
        }
      ]
    },
    {
      "cell_type": "code",
      "execution_count": null,
      "metadata": {
        "id": "Byy4XnPyYawC"
      },
      "outputs": [],
      "source": [
        "def recommend_movies(movie_name):\n",
        "  # Get the id for the movie\n",
        "  get_id = overviewData.filter(col(\"title\") == movie_name).select('id').take(1)[0]\n",
        "\n",
        "  # Get the top 7 similar movies to a specific movie\n",
        "  if len(get_id):\n",
        "    specific_movie_id = get_id[0]\n",
        "    similar_movies = similarity_matrix.filter(col(\"id1\") == specific_movie_id).sort(col(\"similarity\").desc()).limit(8)\n",
        "    similar_movies = similar_movies.filter(col('id2') != specific_movie_id)\n",
        "    overviewData.join(similar_movies, similar_movies.id2 == overviewData.id).select(\"title\", \"overview\").show(truncate=False)\n",
        "  \n",
        "  # if the movie is not in the data\n",
        "  else:\n",
        "    print(\"movie is not available in the data, try using another movie\")"
      ]
    },
    {
      "cell_type": "code",
      "execution_count": null,
      "metadata": {
        "colab": {
          "base_uri": "https://localhost:8080/"
        },
        "id": "Tu9BjEE1YonY",
        "outputId": "d26ed97f-0041-4e1f-a0f8-e541871bc35e"
      },
      "outputs": [
        {
          "output_type": "stream",
          "name": "stdout",
          "text": [
            "+--------------------------------------+-------------------------------------------------------------------------------------------------------------------------------------------------------------------------------------------------------------------------------------------------------------------------------------------------------------------------------------------------------------------------------------------------------------------------------------------------------------------------------------------------------------------------------------------------------------------------------------------------------------------------------------------------------------------------------------------------------------------------------------------------------------------------------------------------------------------------------------------------------------------------------------------------------------------------------------------------------------------------------------------------------------------------------------+\n",
            "|title                                 |overview                                                                                                                                                                                                                                                                                                                                                                                                                                                                                                                                                                                                                                                                                                                                                                                                                                                                                                                                                                                                                             |\n",
            "+--------------------------------------+-------------------------------------------------------------------------------------------------------------------------------------------------------------------------------------------------------------------------------------------------------------------------------------------------------------------------------------------------------------------------------------------------------------------------------------------------------------------------------------------------------------------------------------------------------------------------------------------------------------------------------------------------------------------------------------------------------------------------------------------------------------------------------------------------------------------------------------------------------------------------------------------------------------------------------------------------------------------------------------------------------------------------------------+\n",
            "|astérix & obélix mission cléopâtre    |The Egyptian Queen Cleopatra bets against the Roman Emperor, Julius Caesar, that her people are still great, even if the times of the Pharaohs has long passed. She vows (against all logic) to build a new palace for Caesar within three months. Since all her architects are either busy otherwise or too conservative in style, this ambivalent honor falls to Edifis. He is to build the palace and be covered in gold or, if not, his fate is to be eaten by crocodiles. Edifis calls upon an old friend to help him out: The fabulous Druid Getafix from Gaul, who brews a fantastic potion that gives supernatural strength. In order to help and protect the old Druid, Asterix and Obelix accompany him on his journey to Egypt. When Julius Caesar gets wind of the project succeeding, he has the building site attacked by his troops in order to win the bet and not lose face. But just like the local pirates, he hasn't counted on Asterix and Obelix.                                                              |\n",
            "|hot shots!                            |The gang that created Airplane and The Naked Gun sets its sights on Top Gun in this often hilarious spoof starring Charlie Sheen, who previously only inspired laughs with his personal life. He plays Topper Harley, a fighter pilot with an ax to grind: clearing the family name. He gets involved in a relationship with Valerie Golino, a woman with an unusually talented stomach. But his mission is to avenge his father. Lloyd Bridges, late in his career, revealed an aptitude for this kind of silliness, here as a commander who is both incredibly dim and delightfully accident prone. Directed by Jim Abrahams, the film makes fun of a variety of other films as well, from Dances with Wolves to The Fabulous Baker Boys. It was so successful that they all returned in the sequel, Hot Shots! Part Deux.                                                                                                                                                                                                         |\n",
            "|the brave little toaster to the rescue|Those fun-loving eletrical appliances from the acclaimed animated hit 'The Brave Little Toaster' are back in an action-packed adventure with four all-new songs. This heartfelt and humorous full-length feature reunites Toaster, Blanky, Lampy, Radio and Kirby the vacuum cleaner--the beloved household gadgets of college student Rob. When Toaster and the gang spark freindships with the playful animals at the veterinary hospital, they soon discover their new pals are about to be sent to a testing laboratory. Through teamwork (and combined voltage), they embark on a hilarious rescue to save all the animals, including Sebastion, a wise monkey, and Maisie, the doting mother cat with kittens.Treat your entire family to 'The Brave Little Toaster To The Rescue', an imaginative film bursting with colorful animation, high-energy music and characters that'll warm your heart at the push of a button!                                                                                                    |\n",
            "|cyber vengeance                       |In the year 2005, the prison system has been completely privatized and cyber prisons have become the new means for housing the guilty. The bodies of inmates are kept in suspended animation while their minds are kept in a virtual reality prison. Business tycoon R.D. Crowley has found a way to capitalize on these virtual prisons by allowing rich men to pay in order to engage in a form of virtual reality hunting that has real-life consequences for the inmates. Will, a guard at one of these prisons, soon finds himself coerced into one of these virtual cat and mouse games. Armed with his knowledge of history, along with his expert skills in VR combat, Will must work with the inmates in order to save their lives and escape from the prison before it's too late.                                                                                                                                                                                                                                         |\n",
            "|jönssonligan på mallorca              |Vanheden and Dynamit-Harry, together with Harry's fiancée Doris, are in Mallorca while Sickan is still in Stockholm. However, Wall-Enberg talks him into doing a break-in at Las Palmas cathedral in Mallorca. Once persuaded, he can't resist the temptation and travels to Mallorca as well. However, Wall-Enberg obviously can't be trusted. Sickan is framed, caught and put in jail. While being escorted home to Sweden again, Vanheden and Harry sets up a plan to break him free. Sickan, once free, wants payback. The gang discover that an antiques dealer called Germann has something to do with the whole thing and that she's also collaborating with Wall-Enberg. The gang then decide to take a closer look at her and her antiques and they discover that there's a heist being planned against the cathedral in Palma.                                                                                                                                                                                            |\n",
            "|min søsters børn                      |Erik Lund is a professor in child psychology. When his sister and her husband go on vacation, he is left in charge of their five children. He really feels up to it, since he is now going to be able to try out his skills in child psychology. However, reality is something else than theory and children do not always do as they are supposed to, according to his book on child psychology. The children soon fool him into doing as they please when it comes to food and pleasures. However, soon they start to realise that if they can make him serve them hot dogs and hamburgers and let them watch TV as much as they like, they can also make him help them restore their old house, so that they won't have to move, as their parents want to. And, as their uncle is nice enough to help them, they also decide to try and get him a wife.                                                                                                                                                                           |\n",
            "|tensión sexual, volumen 2: violetas   |What are the rules that determine how attraction and desire are set free? Glances, unexpected smiles, confiding in unknown women. Long cherished fantasies, intimate friendships and unexpected meetings. In Volume 2 of the Sexual Tension diptych, Marco Berger and Marcelo Mónaco take us on a journey through the twists and turns of female seduction: two guests of a hostel become roommates (and more); a keen shop assistant helps a woman uncertain about what dress to buy; the outset of a great passion between two girls during a picnic, even though one of them has a boyfriend. In the film we also find a conversation about Woody Allen between a waitress and a woman, which goes too far; and two high-class escorts who discover that they are attracted to each other, when they are in bed with a client. The film finally shows what could happen, but never did happen, and will probably never happen, to two thirty-year-old women. Maybe it would be better not to have sex with people we love. Sex ...|\n",
            "+--------------------------------------+-------------------------------------------------------------------------------------------------------------------------------------------------------------------------------------------------------------------------------------------------------------------------------------------------------------------------------------------------------------------------------------------------------------------------------------------------------------------------------------------------------------------------------------------------------------------------------------------------------------------------------------------------------------------------------------------------------------------------------------------------------------------------------------------------------------------------------------------------------------------------------------------------------------------------------------------------------------------------------------------------------------------------------------+\n",
            "\n"
          ]
        }
      ],
      "source": [
        "# get recommendations by specifying movie name\n",
        "movie_name = 'the dark knight'\n",
        "recommend_movies(movie_name)"
      ]
    }
  ],
  "metadata": {
    "colab": {
      "provenance": []
    },
    "kernelspec": {
      "display_name": "Python 3",
      "name": "python3"
    },
    "language_info": {
      "name": "python"
    }
  },
  "nbformat": 4,
  "nbformat_minor": 0
}