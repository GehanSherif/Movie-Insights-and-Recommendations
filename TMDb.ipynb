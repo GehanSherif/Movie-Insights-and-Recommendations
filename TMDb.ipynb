{
  "cells": [
    {
      "cell_type": "code",
      "execution_count": null,
      "metadata": {
        "id": "1kHqd5NNEGzD"
      },
      "outputs": [],
      "source": [
        "import requests # to make TMDB API calls\n",
        "from google.colab import drive\n",
        "import json \n",
        "import time\n",
        "\n",
        "api_key = \"key\""
      ]
    },
    {
      "cell_type": "code",
      "execution_count": null,
      "metadata": {
        "colab": {
          "base_uri": "https://localhost:8080/"
        },
        "id": "MzeBGyRdIcdG",
        "outputId": "a07d709a-1283-4985-b010-cb1ada5d4fc4"
      },
      "outputs": [
        {
          "output_type": "stream",
          "name": "stdout",
          "text": [
            "Mounted at /content/drive\n",
            "/content/drive/MyDrive\n"
          ]
        }
      ],
      "source": [
        "drive.mount('/content/drive')\n",
        "%cd /content/drive/MyDrive"
      ]
    },
    {
      "cell_type": "code",
      "execution_count": null,
      "metadata": {
        "colab": {
          "base_uri": "https://localhost:8080/"
        },
        "id": "i2ngCalzH3u2",
        "outputId": "4d4e449b-ba47-40f9-f16b-949505635643"
      },
      "outputs": [
        {
          "output_type": "execute_result",
          "data": {
            "text/plain": [
              "1"
            ]
          },
          "metadata": {},
          "execution_count": 3
        }
      ],
      "source": [
        "f = open(\"/content/drive/MyDrive/movies.json\", \"w+\")\n",
        "f.write(\"[\")"
      ]
    },
    {
      "cell_type": "code",
      "execution_count": null,
      "metadata": {
        "id": "RoVxwC5DGsKE"
      },
      "outputs": [],
      "source": [
        "num = 100000\n",
        "for id in range(num):\n",
        "  response = requests.get(' https://api.themoviedb.org/3/movie/'+ str(id)+'/credits' + '?api_key=' +  api_key)\n",
        "  movie = response.json()\n",
        "\n",
        "  if movie.get('success') != None:\n",
        "    continue\n",
        "\n",
        "  movie = json.dumps(movie)\n",
        "  f.write(movie)\n",
        "\n",
        "  if id != num:\n",
        "    f.write(',\\n')\n",
        "\n",
        "f.write(']')\n",
        "f.close()"
      ]
    }
  ],
  "metadata": {
    "colab": {
      "provenance": []
    },
    "kernelspec": {
      "display_name": "Python 3",
      "name": "python3"
    },
    "language_info": {
      "name": "python"
    }
  },
  "nbformat": 4,
  "nbformat_minor": 0
}