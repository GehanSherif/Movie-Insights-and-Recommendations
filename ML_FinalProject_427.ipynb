{
  "nbformat": 4,
  "nbformat_minor": 0,
  "metadata": {
    "colab": {
      "provenance": [],
      "collapsed_sections": [
        "IVLY35miBqxk"
      ],
      "toc_visible": true
    },
    "kernelspec": {
      "name": "python3",
      "display_name": "Python 3"
    },
    "language_info": {
      "name": "python"
    }
  },
  "cells": [
    {
      "cell_type": "markdown",
      "source": [
        "#Import&Installs"
      ],
      "metadata": {
        "id": "tpIYCMN-8QE5"
      }
    },
    {
      "cell_type": "code",
      "source": [
        "!pip install pyspark"
      ],
      "metadata": {
        "colab": {
          "base_uri": "https://localhost:8080/"
        },
        "id": "iFRVzxuqGINa",
        "outputId": "1b3ec11a-e10c-4472-e2f3-4c6935a45ea0"
      },
      "execution_count": null,
      "outputs": [
        {
          "output_type": "stream",
          "name": "stdout",
          "text": [
            "Looking in indexes: https://pypi.org/simple, https://us-python.pkg.dev/colab-wheels/public/simple/\n",
            "Collecting pyspark\n",
            "  Downloading pyspark-3.3.1.tar.gz (281.4 MB)\n",
            "\u001b[2K     \u001b[90m━━━━━━━━━━━━━━━━━━━━━━━━━━━━━━━━━━━━━━━\u001b[0m \u001b[32m281.4/281.4 MB\u001b[0m \u001b[31m3.4 MB/s\u001b[0m eta \u001b[36m0:00:00\u001b[0m\n",
            "\u001b[?25h  Preparing metadata (setup.py) ... \u001b[?25l\u001b[?25hdone\n",
            "Collecting py4j==0.10.9.5\n",
            "  Downloading py4j-0.10.9.5-py2.py3-none-any.whl (199 kB)\n",
            "\u001b[2K     \u001b[90m━━━━━━━━━━━━━━━━━━━━━━━━━━━━━━━━━━━━━━\u001b[0m \u001b[32m199.7/199.7 KB\u001b[0m \u001b[31m15.3 MB/s\u001b[0m eta \u001b[36m0:00:00\u001b[0m\n",
            "\u001b[?25hBuilding wheels for collected packages: pyspark\n",
            "  Building wheel for pyspark (setup.py) ... \u001b[?25l\u001b[?25hdone\n",
            "  Created wheel for pyspark: filename=pyspark-3.3.1-py2.py3-none-any.whl size=281845512 sha256=94fafce869eb82baa74dedfc8658f1f50e8c7fb7b2893a3ca5e4c66b97b20e92\n",
            "  Stored in directory: /root/.cache/pip/wheels/43/dc/11/ec201cd671da62fa9c5cc77078235e40722170ceba231d7598\n",
            "Successfully built pyspark\n",
            "Installing collected packages: py4j, pyspark\n",
            "Successfully installed py4j-0.10.9.5 pyspark-3.3.1\n"
          ]
        }
      ]
    },
    {
      "cell_type": "code",
      "source": [
        "import json\n",
        "import pyspark\n",
        "from pyspark.sql import SparkSession\n",
        "from itertools import combinations\n",
        "from pyspark.sql.functions import concat, col, lit, udf, split\n",
        "import matplotlib.pyplot as plt\n",
        "from pyspark.sql.types import *\n",
        "from pyspark.ml.classification import FMClassifier\n",
        "from pyspark.ml.clustering import KMeans, LDA, GaussianMixture, PowerIterationClustering\n",
        "from pyspark.ml.evaluation import ClusteringEvaluator,  MulticlassClassificationEvaluator, BinaryClassificationEvaluator\n",
        "from pyspark.ml.linalg import Vectors\n",
        "from pyspark.ml.feature import VectorAssembler, Imputer , StandardScaler,OneHotEncoder\n",
        "from pyspark.ml import Pipeline\n",
        "from pyspark.ml.regression import LinearRegression\n",
        "from pyspark.ml.evaluation import RegressionEvaluator\n",
        "from pyspark.ml.classification import LogisticRegression, GBTClassifier, NaiveBayes, RandomForestClassifier, LinearSVC, OneVsRest"
      ],
      "metadata": {
        "id": "d5eplK10BNSU"
      },
      "execution_count": null,
      "outputs": []
    },
    {
      "cell_type": "code",
      "source": [
        "from pyspark.sql import functions as F"
      ],
      "metadata": {
        "id": "RcSJCg22aig0"
      },
      "execution_count": null,
      "outputs": []
    },
    {
      "cell_type": "code",
      "source": [
        "!pip install -U --no-cache-dir gdown --pre\n",
        "!gdown \"1m3xE5EIpXEFsvcuEP8JlVaEGCjuEA9ye\""
      ],
      "metadata": {
        "colab": {
          "base_uri": "https://localhost:8080/"
        },
        "id": "_ZM_A6bOFbwo",
        "outputId": "80a12035-a0e7-4f8b-8e6e-8731d86c1d70"
      },
      "execution_count": null,
      "outputs": [
        {
          "output_type": "stream",
          "name": "stdout",
          "text": [
            "Looking in indexes: https://pypi.org/simple, https://us-python.pkg.dev/colab-wheels/public/simple/\n",
            "Requirement already satisfied: gdown in /usr/local/lib/python3.8/dist-packages (4.4.0)\n",
            "Collecting gdown\n",
            "  Downloading gdown-4.6.0-py3-none-any.whl (14 kB)\n",
            "Requirement already satisfied: requests[socks] in /usr/local/lib/python3.8/dist-packages (from gdown) (2.25.1)\n",
            "Requirement already satisfied: tqdm in /usr/local/lib/python3.8/dist-packages (from gdown) (4.64.1)\n",
            "Requirement already satisfied: beautifulsoup4 in /usr/local/lib/python3.8/dist-packages (from gdown) (4.6.3)\n",
            "Requirement already satisfied: filelock in /usr/local/lib/python3.8/dist-packages (from gdown) (3.9.0)\n",
            "Requirement already satisfied: six in /usr/local/lib/python3.8/dist-packages (from gdown) (1.15.0)\n",
            "Requirement already satisfied: certifi>=2017.4.17 in /usr/local/lib/python3.8/dist-packages (from requests[socks]->gdown) (2022.12.7)\n",
            "Requirement already satisfied: urllib3<1.27,>=1.21.1 in /usr/local/lib/python3.8/dist-packages (from requests[socks]->gdown) (1.24.3)\n",
            "Requirement already satisfied: idna<3,>=2.5 in /usr/local/lib/python3.8/dist-packages (from requests[socks]->gdown) (2.10)\n",
            "Requirement already satisfied: chardet<5,>=3.0.2 in /usr/local/lib/python3.8/dist-packages (from requests[socks]->gdown) (4.0.0)\n",
            "Requirement already satisfied: PySocks!=1.5.7,>=1.5.6 in /usr/local/lib/python3.8/dist-packages (from requests[socks]->gdown) (1.7.1)\n",
            "Installing collected packages: gdown\n",
            "  Attempting uninstall: gdown\n",
            "    Found existing installation: gdown 4.4.0\n",
            "    Uninstalling gdown-4.4.0:\n",
            "      Successfully uninstalled gdown-4.4.0\n",
            "Successfully installed gdown-4.6.0\n",
            "Downloading...\n",
            "From: https://drive.google.com/uc?id=1m3xE5EIpXEFsvcuEP8JlVaEGCjuEA9ye\n",
            "To: /content/all_movies.json\n",
            "100% 190M/190M [00:01<00:00, 142MB/s]\n"
          ]
        }
      ]
    },
    {
      "cell_type": "code",
      "source": [
        "#!unzip 'TestData.zip'"
      ],
      "metadata": {
        "id": "IdBJmTn8FxQ6"
      },
      "execution_count": null,
      "outputs": []
    },
    {
      "cell_type": "code",
      "source": [],
      "metadata": {
        "id": "t0oP-7-JqxOz"
      },
      "execution_count": null,
      "outputs": []
    },
    {
      "cell_type": "markdown",
      "source": [
        "#Create Spark Session"
      ],
      "metadata": {
        "id": "IVLY35miBqxk"
      }
    },
    {
      "cell_type": "code",
      "source": [
        "spark = SparkSession \\\n",
        "    .builder \\\n",
        "    .appName(\"Final-Project_Machine Learning\") \\\n",
        "    .config(\"spark.some.config.option\", \"some-value\") \\\n",
        "    .getOrCreate()"
      ],
      "metadata": {
        "id": "U-7VGcsMBOmj"
      },
      "execution_count": null,
      "outputs": []
    },
    {
      "cell_type": "markdown",
      "source": [
        "#Load Data"
      ],
      "metadata": {
        "id": "Et-M5UfrsERd"
      }
    },
    {
      "cell_type": "code",
      "source": [
        "# Read JSON file into dataframe\n",
        "Maindf = spark.read.json(\"/content/all_movies.json\")"
      ],
      "metadata": {
        "id": "YZGMHWMTJXeX"
      },
      "execution_count": null,
      "outputs": []
    },
    {
      "cell_type": "code",
      "source": [
        "Maindf.schema"
      ],
      "metadata": {
        "colab": {
          "base_uri": "https://localhost:8080/"
        },
        "id": "8dX2jo9XMTBV",
        "outputId": "719dd0e6-4416-4a65-ab77-2aeeb5cd086b"
      },
      "execution_count": null,
      "outputs": [
        {
          "output_type": "execute_result",
          "data": {
            "text/plain": [
              "StructType([StructField('_corrupt_record', StringType(), True), StructField('adult', BooleanType(), True), StructField('backdrop_path', StringType(), True), StructField('belongs_to_collection', StructType([StructField('backdrop_path', StringType(), True), StructField('id', LongType(), True), StructField('name', StringType(), True), StructField('poster_path', StringType(), True)]), True), StructField('budget', LongType(), True), StructField('genres', ArrayType(StructType([StructField('id', LongType(), True), StructField('name', StringType(), True)]), True), True), StructField('homepage', StringType(), True), StructField('id', LongType(), True), StructField('imdb_id', StringType(), True), StructField('original_language', StringType(), True), StructField('original_title', StringType(), True), StructField('overview', StringType(), True), StructField('popularity', DoubleType(), True), StructField('poster_path', StringType(), True), StructField('production_companies', ArrayType(StructType([StructField('id', LongType(), True), StructField('logo_path', StringType(), True), StructField('name', StringType(), True), StructField('origin_country', StringType(), True)]), True), True), StructField('production_countries', ArrayType(StructType([StructField('iso_3166_1', StringType(), True), StructField('name', StringType(), True)]), True), True), StructField('release_date', StringType(), True), StructField('revenue', LongType(), True), StructField('runtime', LongType(), True), StructField('spoken_languages', ArrayType(StructType([StructField('english_name', StringType(), True), StructField('iso_639_1', StringType(), True), StructField('name', StringType(), True)]), True), True), StructField('status', StringType(), True), StructField('tagline', StringType(), True), StructField('title', StringType(), True), StructField('video', BooleanType(), True), StructField('vote_average', DoubleType(), True), StructField('vote_count', LongType(), True)])"
            ]
          },
          "metadata": {},
          "execution_count": 7
        }
      ]
    },
    {
      "cell_type": "code",
      "source": [
        "Maindf.show(5)"
      ],
      "metadata": {
        "colab": {
          "base_uri": "https://localhost:8080/"
        },
        "id": "vDhHSn75Jr6K",
        "outputId": "f43da092-79c7-4822-935b-a62e7bb9591a"
      },
      "execution_count": null,
      "outputs": [
        {
          "output_type": "stream",
          "name": "stdout",
          "text": [
            "+--------------------+-----+--------------------+---------------------+--------+--------------------+--------------------+----+---------+-----------------+--------------------+--------------------+----------+--------------------+--------------------+--------------------+------------+--------+-------+--------------------+--------+--------------------+--------------------+-----+------------+----------+\n",
            "|     _corrupt_record|adult|       backdrop_path|belongs_to_collection|  budget|              genres|            homepage|  id|  imdb_id|original_language|      original_title|            overview|popularity|         poster_path|production_companies|production_countries|release_date| revenue|runtime|    spoken_languages|  status|             tagline|               title|video|vote_average|vote_count|\n",
            "+--------------------+-----+--------------------+---------------------+--------+--------------------+--------------------+----+---------+-----------------+--------------------+--------------------+----------+--------------------+--------------------+--------------------+------------+--------+-------+--------------------+--------+--------------------+--------------------+-----+------------+----------+\n",
            "|[{\"adult\": false,...| null|                null|                 null|    null|                null|                null|null|     null|             null|                null|                null|      null|                null|                null|                null|        null|    null|   null|                null|    null|                null|                null| null|        null|      null|\n",
            "|                null|false|/l94l89eMmFKh7na2...|                 null|       0|[{18, Drama}, {35...|                    |   3|tt0092149|               fi|Varjoja paratiisissa|An episode in the...|    32.525|/nj01hspawPof0mJm...|[{2303, null, Vil...|     [{FI, Finland}]|  1986-10-17|       0|     74|[{Swedish, sv, sv...|Released|                    | Shadows in Paradise|false|       7.274|       208|\n",
            "|                null|false|/c1BaOxC8bo5ACFYk...|                 null| 4000000|[{80, Crime}, {35...|https://www.miram...|   5|tt0113101|               en|          Four Rooms|It's Ted the Bell...|    45.378|/75aHn1NOYXh4M7L5...|[{14, /m6AHu84oZQ...|[{US, United Stat...|  1995-12-09| 4257354|     98|[{English, en, En...|Released|Twelve outrageous...|          Four Rooms|false|       5.713|      2280|\n",
            "|                null|false|/vJ1OG4akDBvjOdKR...|                 null|21000000|[{28, Action}, {8...|                    |   6|tt0107286|               en|      Judgment Night|While racing to a...|    36.186|/rYFAvSPlQUCebayL...|[{182, null, JVC,...|[{US, United Stat...|  1993-10-15|12136938|    109|[{English, en, En...|Released|Don't move. Don't...|      Judgment Night|false|        6.57|       272|\n",
            "|                null|false|                null|                 null|   42000| [{99, Documentary}]|http://lifeinloop...|   8|tt0825671|               en|Life in Loops (A ...|Timo Novotny labe...|     2.471|/x7Sz339F2oC8mBf0...|[{19123, null, in...|     [{AT, Austria}]|  2006-01-01|       0|     80|[{English, en, En...|Released| A Megacities remix.|Life in Loops (A ...|false|       7.738|        21|\n",
            "+--------------------+-----+--------------------+---------------------+--------+--------------------+--------------------+----+---------+-----------------+--------------------+--------------------+----------+--------------------+--------------------+--------------------+------------+--------+-------+--------------------+--------+--------------------+--------------------+-----+------------+----------+\n",
            "only showing top 5 rows\n",
            "\n"
          ]
        }
      ]
    },
    {
      "cell_type": "code",
      "source": [
        "Maindf.printSchema()"
      ],
      "metadata": {
        "colab": {
          "base_uri": "https://localhost:8080/"
        },
        "id": "pMAoVmcwqxSg",
        "outputId": "86b02ada-6c6c-4dff-fea1-ded660ff4541"
      },
      "execution_count": null,
      "outputs": [
        {
          "output_type": "stream",
          "name": "stdout",
          "text": [
            "root\n",
            " |-- _corrupt_record: string (nullable = true)\n",
            " |-- adult: boolean (nullable = true)\n",
            " |-- backdrop_path: string (nullable = true)\n",
            " |-- belongs_to_collection: struct (nullable = true)\n",
            " |    |-- backdrop_path: string (nullable = true)\n",
            " |    |-- id: long (nullable = true)\n",
            " |    |-- name: string (nullable = true)\n",
            " |    |-- poster_path: string (nullable = true)\n",
            " |-- budget: long (nullable = true)\n",
            " |-- genres: array (nullable = true)\n",
            " |    |-- element: struct (containsNull = true)\n",
            " |    |    |-- id: long (nullable = true)\n",
            " |    |    |-- name: string (nullable = true)\n",
            " |-- homepage: string (nullable = true)\n",
            " |-- id: long (nullable = true)\n",
            " |-- imdb_id: string (nullable = true)\n",
            " |-- original_language: string (nullable = true)\n",
            " |-- original_title: string (nullable = true)\n",
            " |-- overview: string (nullable = true)\n",
            " |-- popularity: double (nullable = true)\n",
            " |-- poster_path: string (nullable = true)\n",
            " |-- production_companies: array (nullable = true)\n",
            " |    |-- element: struct (containsNull = true)\n",
            " |    |    |-- id: long (nullable = true)\n",
            " |    |    |-- logo_path: string (nullable = true)\n",
            " |    |    |-- name: string (nullable = true)\n",
            " |    |    |-- origin_country: string (nullable = true)\n",
            " |-- production_countries: array (nullable = true)\n",
            " |    |-- element: struct (containsNull = true)\n",
            " |    |    |-- iso_3166_1: string (nullable = true)\n",
            " |    |    |-- name: string (nullable = true)\n",
            " |-- release_date: string (nullable = true)\n",
            " |-- revenue: long (nullable = true)\n",
            " |-- runtime: long (nullable = true)\n",
            " |-- spoken_languages: array (nullable = true)\n",
            " |    |-- element: struct (containsNull = true)\n",
            " |    |    |-- english_name: string (nullable = true)\n",
            " |    |    |-- iso_639_1: string (nullable = true)\n",
            " |    |    |-- name: string (nullable = true)\n",
            " |-- status: string (nullable = true)\n",
            " |-- tagline: string (nullable = true)\n",
            " |-- title: string (nullable = true)\n",
            " |-- video: boolean (nullable = true)\n",
            " |-- vote_average: double (nullable = true)\n",
            " |-- vote_count: long (nullable = true)\n",
            "\n"
          ]
        }
      ]
    },
    {
      "cell_type": "code",
      "source": [
        "Maindf.select(['budget']).show(10)"
      ],
      "metadata": {
        "colab": {
          "base_uri": "https://localhost:8080/"
        },
        "id": "JXQtBhFhqxWJ",
        "outputId": "7de4e309-f0e8-464b-f3d2-fff9ac229edd"
      },
      "execution_count": null,
      "outputs": [
        {
          "output_type": "stream",
          "name": "stdout",
          "text": [
            "+--------+\n",
            "|  budget|\n",
            "+--------+\n",
            "|    null|\n",
            "|       0|\n",
            "| 4000000|\n",
            "|21000000|\n",
            "|   42000|\n",
            "|       0|\n",
            "|11000000|\n",
            "|94000000|\n",
            "|55000000|\n",
            "|15000000|\n",
            "+--------+\n",
            "only showing top 10 rows\n",
            "\n"
          ]
        }
      ]
    },
    {
      "cell_type": "code",
      "source": [
        "Maindf.select(['genres']).show(10)"
      ],
      "metadata": {
        "colab": {
          "base_uri": "https://localhost:8080/"
        },
        "id": "PtpMY49JwkxY",
        "outputId": "0fa989a9-4f26-41a8-dccf-6bc2f818a33d"
      },
      "execution_count": null,
      "outputs": [
        {
          "output_type": "stream",
          "name": "stdout",
          "text": [
            "+--------------------+\n",
            "|              genres|\n",
            "+--------------------+\n",
            "|                null|\n",
            "|[{18, Drama}, {35...|\n",
            "|[{80, Crime}, {35...|\n",
            "|[{28, Action}, {8...|\n",
            "| [{99, Documentary}]|\n",
            "|       [{18, Drama}]|\n",
            "|[{12, Adventure},...|\n",
            "|[{16, Animation},...|\n",
            "|[{35, Comedy}, {1...|\n",
            "|       [{18, Drama}]|\n",
            "+--------------------+\n",
            "only showing top 10 rows\n",
            "\n"
          ]
        }
      ]
    },
    {
      "cell_type": "markdown",
      "source": [
        "# Data Preprocessing"
      ],
      "metadata": {
        "id": "-7nc4KU3or3i"
      }
    },
    {
      "cell_type": "code",
      "source": [
        "def TurntoGenres(genres):\n",
        "  if genres != None:\n",
        "    return \",\".join([genre[1] for genre in genres])\n",
        "MyFunc = udf(lambda x:TurntoGenres(x),StringType()) "
      ],
      "metadata": {
        "id": "mhyJTvdcw2H3"
      },
      "execution_count": null,
      "outputs": []
    },
    {
      "cell_type": "code",
      "source": [
        "testdf = Maindf.withColumn(\"genres\", MyFunc(Maindf['genres']))"
      ],
      "metadata": {
        "id": "6p4-r7qYxToh"
      },
      "execution_count": null,
      "outputs": []
    },
    {
      "cell_type": "code",
      "source": [
        "testdf.show(5)"
      ],
      "metadata": {
        "colab": {
          "base_uri": "https://localhost:8080/"
        },
        "id": "KOPsCLE7Pw7H",
        "outputId": "7087fb53-28e3-4a34-be5f-da87360dff46"
      },
      "execution_count": null,
      "outputs": [
        {
          "output_type": "stream",
          "name": "stdout",
          "text": [
            "+--------------------+-----+--------------------+---------------------+--------+--------------------+--------------------+----+---------+-----------------+--------------------+--------------------+----------+--------------------+--------------------+--------------------+------------+--------+-------+--------------------+--------+--------------------+--------------------+-----+------------+----------+\n",
            "|     _corrupt_record|adult|       backdrop_path|belongs_to_collection|  budget|              genres|            homepage|  id|  imdb_id|original_language|      original_title|            overview|popularity|         poster_path|production_companies|production_countries|release_date| revenue|runtime|    spoken_languages|  status|             tagline|               title|video|vote_average|vote_count|\n",
            "+--------------------+-----+--------------------+---------------------+--------+--------------------+--------------------+----+---------+-----------------+--------------------+--------------------+----------+--------------------+--------------------+--------------------+------------+--------+-------+--------------------+--------+--------------------+--------------------+-----+------------+----------+\n",
            "|[{\"adult\": false,...| null|                null|                 null|    null|                null|                null|null|     null|             null|                null|                null|      null|                null|                null|                null|        null|    null|   null|                null|    null|                null|                null| null|        null|      null|\n",
            "|                null|false|/l94l89eMmFKh7na2...|                 null|       0|Drama,Comedy,Romance|                    |   3|tt0092149|               fi|Varjoja paratiisissa|An episode in the...|    32.525|/nj01hspawPof0mJm...|[{2303, null, Vil...|     [{FI, Finland}]|  1986-10-17|       0|     74|[{Swedish, sv, sv...|Released|                    | Shadows in Paradise|false|       7.274|       208|\n",
            "|                null|false|/c1BaOxC8bo5ACFYk...|                 null| 4000000|        Crime,Comedy|https://www.miram...|   5|tt0113101|               en|          Four Rooms|It's Ted the Bell...|    45.378|/75aHn1NOYXh4M7L5...|[{14, /m6AHu84oZQ...|[{US, United Stat...|  1995-12-09| 4257354|     98|[{English, en, En...|Released|Twelve outrageous...|          Four Rooms|false|       5.713|      2280|\n",
            "|                null|false|/vJ1OG4akDBvjOdKR...|                 null|21000000|Action,Crime,Thri...|                    |   6|tt0107286|               en|      Judgment Night|While racing to a...|    36.186|/rYFAvSPlQUCebayL...|[{182, null, JVC,...|[{US, United Stat...|  1993-10-15|12136938|    109|[{English, en, En...|Released|Don't move. Don't...|      Judgment Night|false|        6.57|       272|\n",
            "|                null|false|                null|                 null|   42000|         Documentary|http://lifeinloop...|   8|tt0825671|               en|Life in Loops (A ...|Timo Novotny labe...|     2.471|/x7Sz339F2oC8mBf0...|[{19123, null, in...|     [{AT, Austria}]|  2006-01-01|       0|     80|[{English, en, En...|Released| A Megacities remix.|Life in Loops (A ...|false|       7.738|        21|\n",
            "+--------------------+-----+--------------------+---------------------+--------+--------------------+--------------------+----+---------+-----------------+--------------------+--------------------+----------+--------------------+--------------------+--------------------+------------+--------+-------+--------------------+--------+--------------------+--------------------+-----+------------+----------+\n",
            "only showing top 5 rows\n",
            "\n"
          ]
        }
      ]
    },
    {
      "cell_type": "code",
      "source": [
        "def TurntoCompany(Company):\n",
        "  if Company != None:\n",
        "    return \",\".join([genre[2] for genre in Company])\n",
        "MyFunc1 = udf(lambda x:TurntoCompany(x),StringType()) "
      ],
      "metadata": {
        "id": "1SxTuD1uRWAH"
      },
      "execution_count": null,
      "outputs": []
    },
    {
      "cell_type": "code",
      "source": [
        "testdf = testdf.withColumn(\"production_companies\", MyFunc1(testdf['production_companies']))"
      ],
      "metadata": {
        "id": "CuUgN1odPx_Q"
      },
      "execution_count": null,
      "outputs": []
    },
    {
      "cell_type": "code",
      "source": [
        "testdf.show(5)"
      ],
      "metadata": {
        "colab": {
          "base_uri": "https://localhost:8080/"
        },
        "id": "PdGFoWClPytT",
        "outputId": "6df1edc2-6071-4520-ca1c-125e62011f2c"
      },
      "execution_count": null,
      "outputs": [
        {
          "output_type": "stream",
          "name": "stdout",
          "text": [
            "+--------------------+-----+--------------------+---------------------+--------+--------------------+--------------------+----+---------+-----------------+--------------------+--------------------+----------+--------------------+--------------------+--------------------+------------+--------+-------+--------------------+--------+--------------------+--------------------+-----+------------+----------+\n",
            "|     _corrupt_record|adult|       backdrop_path|belongs_to_collection|  budget|              genres|            homepage|  id|  imdb_id|original_language|      original_title|            overview|popularity|         poster_path|production_companies|production_countries|release_date| revenue|runtime|    spoken_languages|  status|             tagline|               title|video|vote_average|vote_count|\n",
            "+--------------------+-----+--------------------+---------------------+--------+--------------------+--------------------+----+---------+-----------------+--------------------+--------------------+----------+--------------------+--------------------+--------------------+------------+--------+-------+--------------------+--------+--------------------+--------------------+-----+------------+----------+\n",
            "|[{\"adult\": false,...| null|                null|                 null|    null|                null|                null|null|     null|             null|                null|                null|      null|                null|                null|                null|        null|    null|   null|                null|    null|                null|                null| null|        null|      null|\n",
            "|                null|false|/l94l89eMmFKh7na2...|                 null|       0|Drama,Comedy,Romance|                    |   3|tt0092149|               fi|Varjoja paratiisissa|An episode in the...|    32.525|/nj01hspawPof0mJm...|Villealfa Filmpro...|     [{FI, Finland}]|  1986-10-17|       0|     74|[{Swedish, sv, sv...|Released|                    | Shadows in Paradise|false|       7.274|       208|\n",
            "|                null|false|/c1BaOxC8bo5ACFYk...|                 null| 4000000|        Crime,Comedy|https://www.miram...|   5|tt0113101|               en|          Four Rooms|It's Ted the Bell...|    45.378|/75aHn1NOYXh4M7L5...|Miramax,A Band Apart|[{US, United Stat...|  1995-12-09| 4257354|     98|[{English, en, En...|Released|Twelve outrageous...|          Four Rooms|false|       5.713|      2280|\n",
            "|                null|false|/vJ1OG4akDBvjOdKR...|                 null|21000000|Action,Crime,Thri...|                    |   6|tt0107286|               en|      Judgment Night|While racing to a...|    36.186|/rYFAvSPlQUCebayL...|JVC,Largo Enterta...|[{US, United Stat...|  1993-10-15|12136938|    109|[{English, en, En...|Released|Don't move. Don't...|      Judgment Night|false|        6.57|       272|\n",
            "|                null|false|                null|                 null|   42000|         Documentary|http://lifeinloop...|   8|tt0825671|               en|Life in Loops (A ...|Timo Novotny labe...|     2.471|/x7Sz339F2oC8mBf0...|             inLoops|     [{AT, Austria}]|  2006-01-01|       0|     80|[{English, en, En...|Released| A Megacities remix.|Life in Loops (A ...|false|       7.738|        21|\n",
            "+--------------------+-----+--------------------+---------------------+--------+--------------------+--------------------+----+---------+-----------------+--------------------+--------------------+----------+--------------------+--------------------+--------------------+------------+--------+-------+--------------------+--------+--------------------+--------------------+-----+------------+----------+\n",
            "only showing top 5 rows\n",
            "\n"
          ]
        }
      ]
    },
    {
      "cell_type": "code",
      "source": [
        "testdf.printSchema()"
      ],
      "metadata": {
        "colab": {
          "base_uri": "https://localhost:8080/"
        },
        "id": "RUk-kO6hPyv9",
        "outputId": "1514f8a2-b3d2-4d2d-d453-af36b3fdf6b6"
      },
      "execution_count": null,
      "outputs": [
        {
          "output_type": "stream",
          "name": "stdout",
          "text": [
            "root\n",
            " |-- _corrupt_record: string (nullable = true)\n",
            " |-- adult: boolean (nullable = true)\n",
            " |-- backdrop_path: string (nullable = true)\n",
            " |-- belongs_to_collection: struct (nullable = true)\n",
            " |    |-- backdrop_path: string (nullable = true)\n",
            " |    |-- id: long (nullable = true)\n",
            " |    |-- name: string (nullable = true)\n",
            " |    |-- poster_path: string (nullable = true)\n",
            " |-- budget: long (nullable = true)\n",
            " |-- genres: string (nullable = true)\n",
            " |-- homepage: string (nullable = true)\n",
            " |-- id: long (nullable = true)\n",
            " |-- imdb_id: string (nullable = true)\n",
            " |-- original_language: string (nullable = true)\n",
            " |-- original_title: string (nullable = true)\n",
            " |-- overview: string (nullable = true)\n",
            " |-- popularity: double (nullable = true)\n",
            " |-- poster_path: string (nullable = true)\n",
            " |-- production_companies: string (nullable = true)\n",
            " |-- production_countries: array (nullable = true)\n",
            " |    |-- element: struct (containsNull = true)\n",
            " |    |    |-- iso_3166_1: string (nullable = true)\n",
            " |    |    |-- name: string (nullable = true)\n",
            " |-- release_date: string (nullable = true)\n",
            " |-- revenue: long (nullable = true)\n",
            " |-- runtime: long (nullable = true)\n",
            " |-- spoken_languages: array (nullable = true)\n",
            " |    |-- element: struct (containsNull = true)\n",
            " |    |    |-- english_name: string (nullable = true)\n",
            " |    |    |-- iso_639_1: string (nullable = true)\n",
            " |    |    |-- name: string (nullable = true)\n",
            " |-- status: string (nullable = true)\n",
            " |-- tagline: string (nullable = true)\n",
            " |-- title: string (nullable = true)\n",
            " |-- video: boolean (nullable = true)\n",
            " |-- vote_average: double (nullable = true)\n",
            " |-- vote_count: long (nullable = true)\n",
            "\n"
          ]
        }
      ]
    },
    {
      "cell_type": "code",
      "source": [],
      "metadata": {
        "id": "32pK4mZRPyy9"
      },
      "execution_count": null,
      "outputs": []
    },
    {
      "cell_type": "code",
      "source": [],
      "metadata": {
        "id": "TDOYY7DDPy2q"
      },
      "execution_count": null,
      "outputs": []
    },
    {
      "cell_type": "code",
      "source": [
        "#testdf = testdf.withColumn('Result', ( testdf['revenue'] - testdf['budget'] ))\n",
        "#testdf.show(5)"
      ],
      "metadata": {
        "colab": {
          "base_uri": "https://localhost:8080/"
        },
        "id": "aJTs4bH-Zj5L",
        "outputId": "9ea0d519-747c-4b44-f5c9-821cbb629ca2"
      },
      "execution_count": null,
      "outputs": [
        {
          "output_type": "stream",
          "name": "stdout",
          "text": [
            "+--------------------+-----+--------------------+---------------------+--------+--------------------+--------------------+----+---------+-----------------+--------------------+--------------------+----------+--------------------+--------------------+--------------------+------------+--------+-------+--------------------+--------+--------------------+--------------------+-----+------------+----------+--------+\n",
            "|     _corrupt_record|adult|       backdrop_path|belongs_to_collection|  budget|              genres|            homepage|  id|  imdb_id|original_language|      original_title|            overview|popularity|         poster_path|production_companies|production_countries|release_date| revenue|runtime|    spoken_languages|  status|             tagline|               title|video|vote_average|vote_count|  Result|\n",
            "+--------------------+-----+--------------------+---------------------+--------+--------------------+--------------------+----+---------+-----------------+--------------------+--------------------+----------+--------------------+--------------------+--------------------+------------+--------+-------+--------------------+--------+--------------------+--------------------+-----+------------+----------+--------+\n",
            "|[{\"adult\": false,...| null|                null|                 null|    null|                null|                null|null|     null|             null|                null|                null|      null|                null|                null|                null|        null|    null|   null|                null|    null|                null|                null| null|        null|      null|    null|\n",
            "|                null|false|/l94l89eMmFKh7na2...|                 null|       0|Drama,Comedy,Romance|                    |   3|tt0092149|               fi|Varjoja paratiisissa|An episode in the...|    32.525|/nj01hspawPof0mJm...|Villealfa Filmpro...|     [{FI, Finland}]|  1986-10-17|       0|     74|[{Swedish, sv, sv...|Released|                    | Shadows in Paradise|false|       7.274|       208|       0|\n",
            "|                null|false|/c1BaOxC8bo5ACFYk...|                 null| 4000000|        Crime,Comedy|https://www.miram...|   5|tt0113101|               en|          Four Rooms|It's Ted the Bell...|    45.378|/75aHn1NOYXh4M7L5...|Miramax,A Band Apart|[{US, United Stat...|  1995-12-09| 4257354|     98|[{English, en, En...|Released|Twelve outrageous...|          Four Rooms|false|       5.713|      2280|  257354|\n",
            "|                null|false|/vJ1OG4akDBvjOdKR...|                 null|21000000|Action,Crime,Thri...|                    |   6|tt0107286|               en|      Judgment Night|While racing to a...|    36.186|/rYFAvSPlQUCebayL...|JVC,Largo Enterta...|[{US, United Stat...|  1993-10-15|12136938|    109|[{English, en, En...|Released|Don't move. Don't...|      Judgment Night|false|        6.57|       272|-8863062|\n",
            "|                null|false|                null|                 null|   42000|         Documentary|http://lifeinloop...|   8|tt0825671|               en|Life in Loops (A ...|Timo Novotny labe...|     2.471|/x7Sz339F2oC8mBf0...|             inLoops|     [{AT, Austria}]|  2006-01-01|       0|     80|[{English, en, En...|Released| A Megacities remix.|Life in Loops (A ...|false|       7.738|        21|  -42000|\n",
            "+--------------------+-----+--------------------+---------------------+--------+--------------------+--------------------+----+---------+-----------------+--------------------+--------------------+----------+--------------------+--------------------+--------------------+------------+--------+-------+--------------------+--------+--------------------+--------------------+-----+------------+----------+--------+\n",
            "only showing top 5 rows\n",
            "\n"
          ]
        }
      ]
    },
    {
      "cell_type": "code",
      "source": [
        "testdf = testdf.withColumn(\n",
        "    \"Result\",\n",
        "    F.when( ( testdf['revenue'] - testdf['budget'] ) < 0, 0).when( ( testdf['revenue'] - testdf['budget'] ) >= 0, 1))"
      ],
      "metadata": {
        "id": "Adhnr3JXZj8f"
      },
      "execution_count": null,
      "outputs": []
    },
    {
      "cell_type": "code",
      "source": [
        "testdf.show(5)"
      ],
      "metadata": {
        "colab": {
          "base_uri": "https://localhost:8080/"
        },
        "id": "Ys0yG1GlbLCi",
        "outputId": "b4850a03-ecbf-4f23-e10d-369b1e28378d"
      },
      "execution_count": null,
      "outputs": [
        {
          "output_type": "stream",
          "name": "stdout",
          "text": [
            "+--------------------+-----+--------------------+---------------------+--------+--------------------+--------------------+----+---------+-----------------+--------------------+--------------------+----------+--------------------+--------------------+--------------------+------------+--------+-------+--------------------+--------+--------------------+--------------------+-----+------------+----------+------+\n",
            "|     _corrupt_record|adult|       backdrop_path|belongs_to_collection|  budget|              genres|            homepage|  id|  imdb_id|original_language|      original_title|            overview|popularity|         poster_path|production_companies|production_countries|release_date| revenue|runtime|    spoken_languages|  status|             tagline|               title|video|vote_average|vote_count|Result|\n",
            "+--------------------+-----+--------------------+---------------------+--------+--------------------+--------------------+----+---------+-----------------+--------------------+--------------------+----------+--------------------+--------------------+--------------------+------------+--------+-------+--------------------+--------+--------------------+--------------------+-----+------------+----------+------+\n",
            "|[{\"adult\": false,...| null|                null|                 null|    null|                null|                null|null|     null|             null|                null|                null|      null|                null|                null|                null|        null|    null|   null|                null|    null|                null|                null| null|        null|      null|  null|\n",
            "|                null|false|/l94l89eMmFKh7na2...|                 null|       0|Drama,Comedy,Romance|                    |   3|tt0092149|               fi|Varjoja paratiisissa|An episode in the...|    32.525|/nj01hspawPof0mJm...|Villealfa Filmpro...|     [{FI, Finland}]|  1986-10-17|       0|     74|[{Swedish, sv, sv...|Released|                    | Shadows in Paradise|false|       7.274|       208|     1|\n",
            "|                null|false|/c1BaOxC8bo5ACFYk...|                 null| 4000000|        Crime,Comedy|https://www.miram...|   5|tt0113101|               en|          Four Rooms|It's Ted the Bell...|    45.378|/75aHn1NOYXh4M7L5...|Miramax,A Band Apart|[{US, United Stat...|  1995-12-09| 4257354|     98|[{English, en, En...|Released|Twelve outrageous...|          Four Rooms|false|       5.713|      2280|     1|\n",
            "|                null|false|/vJ1OG4akDBvjOdKR...|                 null|21000000|Action,Crime,Thri...|                    |   6|tt0107286|               en|      Judgment Night|While racing to a...|    36.186|/rYFAvSPlQUCebayL...|JVC,Largo Enterta...|[{US, United Stat...|  1993-10-15|12136938|    109|[{English, en, En...|Released|Don't move. Don't...|      Judgment Night|false|        6.57|       272|     0|\n",
            "|                null|false|                null|                 null|   42000|         Documentary|http://lifeinloop...|   8|tt0825671|               en|Life in Loops (A ...|Timo Novotny labe...|     2.471|/x7Sz339F2oC8mBf0...|             inLoops|     [{AT, Austria}]|  2006-01-01|       0|     80|[{English, en, En...|Released| A Megacities remix.|Life in Loops (A ...|false|       7.738|        21|     0|\n",
            "+--------------------+-----+--------------------+---------------------+--------+--------------------+--------------------+----+---------+-----------------+--------------------+--------------------+----------+--------------------+--------------------+--------------------+------------+--------+-------+--------------------+--------+--------------------+--------------------+-----+------------+----------+------+\n",
            "only showing top 5 rows\n",
            "\n"
          ]
        }
      ]
    },
    {
      "cell_type": "code",
      "source": [
        "df_selected = testdf.select([\"adult\",\"budget\",\"original_language\",\"popularity\",\"status\",\"runtime\",\n",
        "                             \"vote_average\",\"vote_count\",\"Result\"])"
      ],
      "metadata": {
        "id": "gLMjJ2q4fEhG"
      },
      "execution_count": null,
      "outputs": []
    },
    {
      "cell_type": "code",
      "source": [
        "df_selected = df_selected.dropna()"
      ],
      "metadata": {
        "id": "WbJ8rVkVfEj7"
      },
      "execution_count": null,
      "outputs": []
    },
    {
      "cell_type": "code",
      "source": [
        "df_selected.show(5)"
      ],
      "metadata": {
        "colab": {
          "base_uri": "https://localhost:8080/"
        },
        "id": "zGT_6sKdfEmk",
        "outputId": "1c7f6e4e-fd97-4323-8cb2-6b383acdce41"
      },
      "execution_count": null,
      "outputs": [
        {
          "output_type": "stream",
          "name": "stdout",
          "text": [
            "+-----+--------+-----------------+----------+--------+-------+------------+----------+------+\n",
            "|adult|  budget|original_language|popularity|  status|runtime|vote_average|vote_count|Result|\n",
            "+-----+--------+-----------------+----------+--------+-------+------------+----------+------+\n",
            "|false|       0|               fi|    32.525|Released|     74|       7.274|       208|     1|\n",
            "|false| 4000000|               en|    45.378|Released|     98|       5.713|      2280|     1|\n",
            "|false|21000000|               en|    36.186|Released|    109|        6.57|       272|     0|\n",
            "|false|   42000|               en|     2.471|Released|     80|       7.738|        21|     0|\n",
            "|false|       0|               de|     1.703|Released|     15|       7.429|        14|     1|\n",
            "+-----+--------+-----------------+----------+--------+-------+------------+----------+------+\n",
            "only showing top 5 rows\n",
            "\n"
          ]
        }
      ]
    },
    {
      "cell_type": "markdown",
      "source": [
        "# Pipeline"
      ],
      "metadata": {
        "id": "78fKDv6GozO8"
      }
    },
    {
      "cell_type": "code",
      "source": [
        "'''\n",
        "OHE = OneHotEncoder(inputCols=['adult', 'original_language', 'status'],\n",
        "                    outputCols=['adult_Encoded', 'original_language_Encoded', 'status_Encoded'])\n",
        "vec_assembler = VectorAssembler(inputCols=['adult_Encoded', 'original_language_Encoded', 'status_Encoded',\n",
        "                                           'budget','popularity','runtime','vote_average','vote_count'],\n",
        "                                 outputCol=\"features\")\n",
        "'''"
      ],
      "metadata": {
        "id": "8eitaQ8vfEpT"
      },
      "execution_count": null,
      "outputs": []
    },
    {
      "cell_type": "code",
      "source": [
        "vec_assembler = VectorAssembler(inputCols=['budget','popularity','runtime','vote_average','vote_count'],\n",
        "                                 outputCol=\"features\")\n",
        "# 'budget','popularity','runtime','vote_average','vote_count'"
      ],
      "metadata": {
        "id": "TKSsXcPrmuvD"
      },
      "execution_count": null,
      "outputs": []
    },
    {
      "cell_type": "code",
      "source": [
        "# Make the pipeline\n",
        "final_pipe = Pipeline(stages=[vec_assembler])"
      ],
      "metadata": {
        "id": "sSS0BXY7h9yt"
      },
      "execution_count": null,
      "outputs": []
    },
    {
      "cell_type": "code",
      "source": [
        "piped_data = final_pipe.fit(df_selected).transform(df_selected)"
      ],
      "metadata": {
        "id": "s2g3AZZSh91r"
      },
      "execution_count": null,
      "outputs": []
    },
    {
      "cell_type": "code",
      "source": [
        "piped_data.show(5)"
      ],
      "metadata": {
        "colab": {
          "base_uri": "https://localhost:8080/"
        },
        "id": "kZl7DA-Fh94P",
        "outputId": "0fb4bf02-038b-4869-b587-32de9d816e6e"
      },
      "execution_count": null,
      "outputs": [
        {
          "output_type": "stream",
          "name": "stdout",
          "text": [
            "+-----+--------+-----------------+----------+--------+-------+------------+----------+------+--------------------+\n",
            "|adult|  budget|original_language|popularity|  status|runtime|vote_average|vote_count|Result|            features|\n",
            "+-----+--------+-----------------+----------+--------+-------+------------+----------+------+--------------------+\n",
            "|false|       0|               fi|    32.525|Released|     74|       7.274|       208|     1|[32.525,74.0,7.27...|\n",
            "|false| 4000000|               en|    45.378|Released|     98|       5.713|      2280|     1|[45.378,98.0,5.71...|\n",
            "|false|21000000|               en|    36.186|Released|    109|        6.57|       272|     0|[36.186,109.0,6.5...|\n",
            "|false|   42000|               en|     2.471|Released|     80|       7.738|        21|     0|[2.471,80.0,7.738...|\n",
            "|false|       0|               de|     1.703|Released|     15|       7.429|        14|     1|[1.703,15.0,7.429...|\n",
            "+-----+--------+-----------------+----------+--------+-------+------------+----------+------+--------------------+\n",
            "only showing top 5 rows\n",
            "\n"
          ]
        }
      ]
    },
    {
      "cell_type": "code",
      "source": [
        "piped_dataset = piped_data.withColumnRenamed(\"Result\", \"label\")"
      ],
      "metadata": {
        "id": "hi6ALLnQm7N9"
      },
      "execution_count": null,
      "outputs": []
    },
    {
      "cell_type": "code",
      "source": [
        "model_data = piped_dataset.select(['label','features'])"
      ],
      "metadata": {
        "id": "-MfoQxUlnENC"
      },
      "execution_count": null,
      "outputs": []
    },
    {
      "cell_type": "code",
      "source": [
        "model_data.show(10)"
      ],
      "metadata": {
        "colab": {
          "base_uri": "https://localhost:8080/"
        },
        "id": "nCObkDY3nEQk",
        "outputId": "b62a07fc-a276-45ad-fff5-05a9df7c0386"
      },
      "execution_count": null,
      "outputs": [
        {
          "output_type": "stream",
          "name": "stdout",
          "text": [
            "+-----+--------------------+\n",
            "|label|            features|\n",
            "+-----+--------------------+\n",
            "|    1|[32.525,74.0,7.27...|\n",
            "|    1|[45.378,98.0,5.71...|\n",
            "|    0|[36.186,109.0,6.5...|\n",
            "|    0|[2.471,80.0,7.738...|\n",
            "|    1|[1.703,15.0,7.429...|\n",
            "|    1|[101.642,121.0,8....|\n",
            "|    1|[111.513,100.0,7....|\n",
            "|    1|[93.339,142.0,8.4...|\n",
            "|    1|[48.472,122.0,8.0...|\n",
            "|    1|[42.766,119.0,8.0...|\n",
            "+-----+--------------------+\n",
            "only showing top 10 rows\n",
            "\n"
          ]
        }
      ]
    },
    {
      "cell_type": "code",
      "source": [],
      "metadata": {
        "id": "O6Cd2vv0nH6K"
      },
      "execution_count": null,
      "outputs": []
    },
    {
      "cell_type": "markdown",
      "source": [
        "## Models"
      ],
      "metadata": {
        "id": "YrBOdu7EFsXn"
      }
    },
    {
      "cell_type": "markdown",
      "metadata": {
        "id": "6bb01f86"
      },
      "source": [
        "### Model Building (Logistic Regression)"
      ]
    },
    {
      "cell_type": "code",
      "execution_count": null,
      "metadata": {
        "id": "fa6d0123",
        "outputId": "d87010c9-dbac-4f4f-9944-8b0276286fc3",
        "colab": {
          "base_uri": "https://localhost:8080/"
        }
      },
      "outputs": [
        {
          "output_type": "execute_result",
          "data": {
            "text/plain": [
              "113492"
            ]
          },
          "metadata": {},
          "execution_count": 81
        }
      ],
      "source": [
        "training, test = model_data.randomSplit([.7, .3])\n",
        "training.count()"
      ]
    },
    {
      "cell_type": "code",
      "execution_count": null,
      "metadata": {
        "id": "ede774f7"
      },
      "outputs": [],
      "source": [
        "lr = LogisticRegression(featuresCol='features', labelCol='label')\n",
        "model = lr.fit(training)"
      ]
    },
    {
      "cell_type": "markdown",
      "metadata": {
        "id": "c44edc0a"
      },
      "source": [
        "### Model Evaluation"
      ]
    },
    {
      "cell_type": "code",
      "execution_count": null,
      "metadata": {
        "id": "02b5aa8a"
      },
      "outputs": [],
      "source": [
        "trainingSummary = model.summary\n",
        "roc = trainingSummary.roc.toPandas()"
      ]
    },
    {
      "cell_type": "code",
      "execution_count": null,
      "metadata": {
        "id": "e3a152b6",
        "outputId": "8ed92b12-0804-4c43-bc46-40d43a1c817c",
        "colab": {
          "base_uri": "https://localhost:8080/",
          "height": 423
        }
      },
      "outputs": [
        {
          "output_type": "execute_result",
          "data": {
            "text/plain": [
              "           FPR       TPR\n",
              "0     0.000000  0.000000\n",
              "1     0.000000  0.000822\n",
              "2     0.000000  0.001606\n",
              "3     0.000312  0.002372\n",
              "4     0.000935  0.003119\n",
              "...        ...       ...\n",
              "1001  0.984721  0.998861\n",
              "1002  0.992049  0.999206\n",
              "1003  0.997350  0.999673\n",
              "1004  1.000000  1.000000\n",
              "1005  1.000000  1.000000\n",
              "\n",
              "[1006 rows x 2 columns]"
            ],
            "text/html": [
              "\n",
              "  <div id=\"df-56611b83-d924-48ea-b7d9-05b53ed2a662\">\n",
              "    <div class=\"colab-df-container\">\n",
              "      <div>\n",
              "<style scoped>\n",
              "    .dataframe tbody tr th:only-of-type {\n",
              "        vertical-align: middle;\n",
              "    }\n",
              "\n",
              "    .dataframe tbody tr th {\n",
              "        vertical-align: top;\n",
              "    }\n",
              "\n",
              "    .dataframe thead th {\n",
              "        text-align: right;\n",
              "    }\n",
              "</style>\n",
              "<table border=\"1\" class=\"dataframe\">\n",
              "  <thead>\n",
              "    <tr style=\"text-align: right;\">\n",
              "      <th></th>\n",
              "      <th>FPR</th>\n",
              "      <th>TPR</th>\n",
              "    </tr>\n",
              "  </thead>\n",
              "  <tbody>\n",
              "    <tr>\n",
              "      <th>0</th>\n",
              "      <td>0.000000</td>\n",
              "      <td>0.000000</td>\n",
              "    </tr>\n",
              "    <tr>\n",
              "      <th>1</th>\n",
              "      <td>0.000000</td>\n",
              "      <td>0.000822</td>\n",
              "    </tr>\n",
              "    <tr>\n",
              "      <th>2</th>\n",
              "      <td>0.000000</td>\n",
              "      <td>0.001606</td>\n",
              "    </tr>\n",
              "    <tr>\n",
              "      <th>3</th>\n",
              "      <td>0.000312</td>\n",
              "      <td>0.002372</td>\n",
              "    </tr>\n",
              "    <tr>\n",
              "      <th>4</th>\n",
              "      <td>0.000935</td>\n",
              "      <td>0.003119</td>\n",
              "    </tr>\n",
              "    <tr>\n",
              "      <th>...</th>\n",
              "      <td>...</td>\n",
              "      <td>...</td>\n",
              "    </tr>\n",
              "    <tr>\n",
              "      <th>1001</th>\n",
              "      <td>0.984721</td>\n",
              "      <td>0.998861</td>\n",
              "    </tr>\n",
              "    <tr>\n",
              "      <th>1002</th>\n",
              "      <td>0.992049</td>\n",
              "      <td>0.999206</td>\n",
              "    </tr>\n",
              "    <tr>\n",
              "      <th>1003</th>\n",
              "      <td>0.997350</td>\n",
              "      <td>0.999673</td>\n",
              "    </tr>\n",
              "    <tr>\n",
              "      <th>1004</th>\n",
              "      <td>1.000000</td>\n",
              "      <td>1.000000</td>\n",
              "    </tr>\n",
              "    <tr>\n",
              "      <th>1005</th>\n",
              "      <td>1.000000</td>\n",
              "      <td>1.000000</td>\n",
              "    </tr>\n",
              "  </tbody>\n",
              "</table>\n",
              "<p>1006 rows × 2 columns</p>\n",
              "</div>\n",
              "      <button class=\"colab-df-convert\" onclick=\"convertToInteractive('df-56611b83-d924-48ea-b7d9-05b53ed2a662')\"\n",
              "              title=\"Convert this dataframe to an interactive table.\"\n",
              "              style=\"display:none;\">\n",
              "        \n",
              "  <svg xmlns=\"http://www.w3.org/2000/svg\" height=\"24px\"viewBox=\"0 0 24 24\"\n",
              "       width=\"24px\">\n",
              "    <path d=\"M0 0h24v24H0V0z\" fill=\"none\"/>\n",
              "    <path d=\"M18.56 5.44l.94 2.06.94-2.06 2.06-.94-2.06-.94-.94-2.06-.94 2.06-2.06.94zm-11 1L8.5 8.5l.94-2.06 2.06-.94-2.06-.94L8.5 2.5l-.94 2.06-2.06.94zm10 10l.94 2.06.94-2.06 2.06-.94-2.06-.94-.94-2.06-.94 2.06-2.06.94z\"/><path d=\"M17.41 7.96l-1.37-1.37c-.4-.4-.92-.59-1.43-.59-.52 0-1.04.2-1.43.59L10.3 9.45l-7.72 7.72c-.78.78-.78 2.05 0 2.83L4 21.41c.39.39.9.59 1.41.59.51 0 1.02-.2 1.41-.59l7.78-7.78 2.81-2.81c.8-.78.8-2.07 0-2.86zM5.41 20L4 18.59l7.72-7.72 1.47 1.35L5.41 20z\"/>\n",
              "  </svg>\n",
              "      </button>\n",
              "      \n",
              "  <style>\n",
              "    .colab-df-container {\n",
              "      display:flex;\n",
              "      flex-wrap:wrap;\n",
              "      gap: 12px;\n",
              "    }\n",
              "\n",
              "    .colab-df-convert {\n",
              "      background-color: #E8F0FE;\n",
              "      border: none;\n",
              "      border-radius: 50%;\n",
              "      cursor: pointer;\n",
              "      display: none;\n",
              "      fill: #1967D2;\n",
              "      height: 32px;\n",
              "      padding: 0 0 0 0;\n",
              "      width: 32px;\n",
              "    }\n",
              "\n",
              "    .colab-df-convert:hover {\n",
              "      background-color: #E2EBFA;\n",
              "      box-shadow: 0px 1px 2px rgba(60, 64, 67, 0.3), 0px 1px 3px 1px rgba(60, 64, 67, 0.15);\n",
              "      fill: #174EA6;\n",
              "    }\n",
              "\n",
              "    [theme=dark] .colab-df-convert {\n",
              "      background-color: #3B4455;\n",
              "      fill: #D2E3FC;\n",
              "    }\n",
              "\n",
              "    [theme=dark] .colab-df-convert:hover {\n",
              "      background-color: #434B5C;\n",
              "      box-shadow: 0px 1px 3px 1px rgba(0, 0, 0, 0.15);\n",
              "      filter: drop-shadow(0px 1px 2px rgba(0, 0, 0, 0.3));\n",
              "      fill: #FFFFFF;\n",
              "    }\n",
              "  </style>\n",
              "\n",
              "      <script>\n",
              "        const buttonEl =\n",
              "          document.querySelector('#df-56611b83-d924-48ea-b7d9-05b53ed2a662 button.colab-df-convert');\n",
              "        buttonEl.style.display =\n",
              "          google.colab.kernel.accessAllowed ? 'block' : 'none';\n",
              "\n",
              "        async function convertToInteractive(key) {\n",
              "          const element = document.querySelector('#df-56611b83-d924-48ea-b7d9-05b53ed2a662');\n",
              "          const dataTable =\n",
              "            await google.colab.kernel.invokeFunction('convertToInteractive',\n",
              "                                                     [key], {});\n",
              "          if (!dataTable) return;\n",
              "\n",
              "          const docLinkHtml = 'Like what you see? Visit the ' +\n",
              "            '<a target=\"_blank\" href=https://colab.research.google.com/notebooks/data_table.ipynb>data table notebook</a>'\n",
              "            + ' to learn more about interactive tables.';\n",
              "          element.innerHTML = '';\n",
              "          dataTable['output_type'] = 'display_data';\n",
              "          await google.colab.output.renderOutput(dataTable, element);\n",
              "          const docLink = document.createElement('div');\n",
              "          docLink.innerHTML = docLinkHtml;\n",
              "          element.appendChild(docLink);\n",
              "        }\n",
              "      </script>\n",
              "    </div>\n",
              "  </div>\n",
              "  "
            ]
          },
          "metadata": {},
          "execution_count": 148
        }
      ],
      "source": [
        "roc"
      ]
    },
    {
      "cell_type": "code",
      "execution_count": null,
      "metadata": {
        "id": "9fe59d1a",
        "outputId": "317db0d8-302d-4661-a721-e12113673550",
        "colab": {
          "base_uri": "https://localhost:8080/",
          "height": 295
        }
      },
      "outputs": [
        {
          "output_type": "display_data",
          "data": {
            "text/plain": [
              "<Figure size 432x288 with 1 Axes>"
            ],
            "image/png": "[encoded data removed]"
          },
          "metadata": {
            "needs_background": "light"
          }
        }
      ],
      "source": [
        "\n",
        "plt.clf()\n",
        "plt.plot(roc['FPR'],roc['TPR'])\n",
        "plt.ylabel('False Positive Rate')\n",
        "plt.xlabel('True Positive Rate')\n",
        "plt.title('ROC Curve')\n",
        "plt.show()\n"
      ]
    },
    {
      "cell_type": "code",
      "execution_count": null,
      "metadata": {
        "id": "a60c0b28",
        "outputId": "de025868-606c-4871-c695-82238e81d919",
        "colab": {
          "base_uri": "https://localhost:8080/"
        }
      },
      "outputs": [
        {
          "output_type": "stream",
          "name": "stdout",
          "text": [
            "Training set areaUnderROC: 0.7064053720739305\n"
          ]
        }
      ],
      "source": [
        "print('Training set areaUnderROC: ' + str(trainingSummary.areaUnderROC))"
      ]
    },
    {
      "cell_type": "code",
      "execution_count": null,
      "metadata": {
        "id": "3bf924c3",
        "outputId": "c0386579-4793-4fb1-ba99-b8dfe6b43bb7",
        "colab": {
          "base_uri": "https://localhost:8080/",
          "height": 296
        }
      },
      "outputs": [
        {
          "output_type": "execute_result",
          "data": {
            "text/plain": [
              "Text(0.5, 0, 'Recall')"
            ]
          },
          "metadata": {},
          "execution_count": 151
        },
        {
          "output_type": "display_data",
          "data": {
            "text/plain": [
              "<Figure size 432x288 with 1 Axes>"
            ],
            "image/png": "[encoded data removed]"
          },
          "metadata": {
            "needs_background": "light"
          }
        }
      ],
      "source": [
        "plt.clf()\n",
        "pr = trainingSummary.pr.toPandas()\n",
        "plt.plot(pr['recall'],pr['precision'])\n",
        "plt.ylabel('Precision')\n",
        "plt.xlabel('Recall')\n"
      ]
    },
    {
      "cell_type": "code",
      "execution_count": null,
      "metadata": {
        "id": "73bf1a0f"
      },
      "outputs": [],
      "source": [
        "summary = model.evaluate(test)"
      ]
    },
    {
      "cell_type": "code",
      "execution_count": null,
      "metadata": {
        "id": "199bd835",
        "outputId": "57040a5e-2099-4299-f6fc-dfeb0054d2da",
        "colab": {
          "base_uri": "https://localhost:8080/"
        }
      },
      "outputs": [
        {
          "output_type": "execute_result",
          "data": {
            "text/plain": [
              "0.9422861876164838"
            ]
          },
          "metadata": {},
          "execution_count": 153
        }
      ],
      "source": [
        "summary.accuracy"
      ]
    },
    {
      "cell_type": "code",
      "execution_count": null,
      "metadata": {
        "id": "19e68989",
        "outputId": "a9557db4-8dd4-412b-80fc-03e80e8d1330",
        "colab": {
          "base_uri": "https://localhost:8080/"
        }
      },
      "outputs": [
        {
          "output_type": "execute_result",
          "data": {
            "text/plain": [
              "DataFrame[label: int, features: vector, rawPrediction: vector, probability: vector, prediction: double]"
            ]
          },
          "metadata": {},
          "execution_count": 90
        }
      ],
      "source": [
        "output = model.transform(test)\n",
        "output"
      ]
    },
    {
      "cell_type": "code",
      "execution_count": null,
      "metadata": {
        "id": "c15c094b",
        "outputId": "e824ab52-66a7-44a6-c527-606febc72bcb",
        "colab": {
          "base_uri": "https://localhost:8080/"
        }
      },
      "outputs": [
        {
          "output_type": "stream",
          "name": "stdout",
          "text": [
            "+-----+--------------------+--------------------+--------------------+----------+\n",
            "|label|            features|       rawPrediction|         probability|prediction|\n",
            "+-----+--------------------+--------------------+--------------------+----------+\n",
            "|    0|(5,[0,1],[50570.0...|[-3.4546846939700...|[0.03062945846000...|       1.0|\n",
            "|    0|(5,[0,1],[450000....|[-3.4095349702736...|[0.03199879859296...|       1.0|\n",
            "|    0|(5,[0,1],[2.5E8,1...|[18.8905342954934...|[0.99999999374906...|       0.0|\n",
            "|    0|[1.0,0.6,100.0,5....|[-2.8427457237699...|[0.05505751361217...|       1.0|\n",
            "|    0|[1.0,1.273,81.0,8...|[-2.6511211021635...|[0.06591994457682...|       1.0|\n",
            "|    0|[1.0,1.663,93.0,5...|[-2.8216286361298...|[0.05616653411735...|       1.0|\n",
            "|    0|[1.0,3.254,90.0,5...|[-2.8370757504974...|[0.05535324596868...|       1.0|\n",
            "|    0|[1.0,4.842,100.0,...|[-2.6349223982593...|[0.06692441274748...|       1.0|\n",
            "|    0|[2.0,0.6,119.0,5....|[-2.7452887624580...|[0.06035327527504...|       1.0|\n",
            "|    0|[2.0,0.628,90.0,2...|[-3.0940540631480...|[0.04335318639276...|       1.0|\n",
            "+-----+--------------------+--------------------+--------------------+----------+\n",
            "only showing top 10 rows\n",
            "\n"
          ]
        }
      ],
      "source": [
        "output.show(10)"
      ]
    },
    {
      "cell_type": "code",
      "execution_count": null,
      "metadata": {
        "id": "b1dec7ce",
        "outputId": "986a8c1f-d739-4195-b407-b095f38d8f87",
        "colab": {
          "base_uri": "https://localhost:8080/"
        }
      },
      "outputs": [
        {
          "output_type": "stream",
          "name": "stdout",
          "text": [
            "Test Area Under ROC 0.7098857448253633\n"
          ]
        }
      ],
      "source": [
        "evaluator = BinaryClassificationEvaluator()\n",
        "print('Test Area Under ROC', evaluator.evaluate(output))"
      ]
    },
    {
      "cell_type": "markdown",
      "source": [
        "### Model Building (Gradient-Boosted Tree Classifier)"
      ],
      "metadata": {
        "id": "_Lzoa0-t-9rR"
      }
    },
    {
      "cell_type": "code",
      "source": [
        "gbt = GBTClassifier(labelCol=\"label\", featuresCol=\"features\", maxIter=10)"
      ],
      "metadata": {
        "id": "NYjbJ4OT2NZ9"
      },
      "execution_count": null,
      "outputs": []
    },
    {
      "cell_type": "code",
      "source": [
        "model = gbt.fit(training)"
      ],
      "metadata": {
        "id": "RJBpmDdb_Ye6"
      },
      "execution_count": null,
      "outputs": []
    },
    {
      "cell_type": "code",
      "source": [
        "prediction = model.transform(test)\n",
        "\n",
        "binEval = MulticlassClassificationEvaluator().setMetricName(\"accuracy\") .setPredictionCol(\"prediction\").setLabelCol(\"label\")\n",
        "    \n",
        "binEval.evaluate(prediction)"
      ],
      "metadata": {
        "colab": {
          "base_uri": "https://localhost:8080/"
        },
        "id": "DH71MHc2AHwq",
        "outputId": "694b5221-95d7-44b2-992d-c3586b7600fa"
      },
      "execution_count": null,
      "outputs": [
        {
          "output_type": "execute_result",
          "data": {
            "text/plain": [
              "0.9821495133568027"
            ]
          },
          "metadata": {},
          "execution_count": 95
        }
      ]
    },
    {
      "cell_type": "markdown",
      "source": [
        "### Model Building (Random Forest)"
      ],
      "metadata": {
        "id": "xHCIJLBFBUNM"
      }
    },
    {
      "cell_type": "code",
      "source": [
        "rf = RandomForestClassifier(labelCol=\"label\", featuresCol=\"features\", numTrees=50)\n",
        "\n",
        "model = rf.fit(training)"
      ],
      "metadata": {
        "id": "_hJVSd5LBbit"
      },
      "execution_count": null,
      "outputs": []
    },
    {
      "cell_type": "code",
      "source": [
        "prediction = model.transform(test)\n",
        "\n",
        "binEval = MulticlassClassificationEvaluator().setMetricName(\"accuracy\") .setPredictionCol(\"prediction\").setLabelCol(\"label\")\n",
        "    \n",
        "binEval.evaluate(prediction)"
      ],
      "metadata": {
        "colab": {
          "base_uri": "https://localhost:8080/"
        },
        "id": "jwNpgVB4Bbl5",
        "outputId": "9b2a4b67-8a48-4b33-c428-393e3a6c95b4"
      },
      "execution_count": null,
      "outputs": [
        {
          "output_type": "execute_result",
          "data": {
            "text/plain": [
              "0.9819424311451647"
            ]
          },
          "metadata": {},
          "execution_count": 97
        }
      ]
    },
    {
      "cell_type": "markdown",
      "source": [
        "### Model Building (Support Vector Machines)"
      ],
      "metadata": {
        "id": "OdgOsratEc_b"
      }
    },
    {
      "cell_type": "code",
      "source": [
        "SVC = LinearSVC(labelCol=\"label\", featuresCol=\"features\", maxIter=10, regParam=0.1)\n",
        "\n",
        "model = SVC.fit(training)"
      ],
      "metadata": {
        "id": "8fRoTZ4wEc_b"
      },
      "execution_count": null,
      "outputs": []
    },
    {
      "cell_type": "code",
      "source": [
        "prediction = model.transform(test)\n",
        "\n",
        "binEval = MulticlassClassificationEvaluator().setMetricName(\"accuracy\") .setPredictionCol(\"prediction\").setLabelCol(\"label\")\n",
        "    \n",
        "binEval.evaluate(prediction)"
      ],
      "metadata": {
        "colab": {
          "base_uri": "https://localhost:8080/"
        },
        "outputId": "1114e2e3-f6bb-49f6-fe64-f074c05e4927",
        "id": "qFXb2ACMEc_b"
      },
      "execution_count": null,
      "outputs": [
        {
          "output_type": "execute_result",
          "data": {
            "text/plain": [
              "0.9423483122799752"
            ]
          },
          "metadata": {},
          "execution_count": 99
        }
      ]
    },
    {
      "cell_type": "code",
      "source": [
        "print(\"Coefficients: \" + str(model.coefficients))\n",
        "print(\"Intercept: \" + str(model.intercept))"
      ],
      "metadata": {
        "colab": {
          "base_uri": "https://localhost:8080/"
        },
        "id": "1qvhhy0NEc_b",
        "outputId": "e0a18049-2116-49d7-e18b-653e80db27d7"
      },
      "execution_count": null,
      "outputs": [
        {
          "output_type": "stream",
          "name": "stdout",
          "text": [
            "Coefficients: [-1.0646188841583517e-09,1.135942457103688e-05,0.0,0.0,1.1425605427364915e-05]\n",
            "Intercept: 0.9999188381412827\n"
          ]
        }
      ]
    },
    {
      "cell_type": "markdown",
      "source": [
        "### Model Building (One vs All)"
      ],
      "metadata": {
        "id": "0xqURmQaFpU3"
      }
    },
    {
      "cell_type": "code",
      "source": [
        "lr = LogisticRegression(maxIter=10, tol=1E-6, fitIntercept=True)\n",
        "\n",
        "ovr = OneVsRest(classifier=lr)\n",
        "\n",
        "model = ovr.fit(training)"
      ],
      "metadata": {
        "id": "QXj4mqrlB7Lc"
      },
      "execution_count": null,
      "outputs": []
    },
    {
      "cell_type": "code",
      "source": [
        "prediction = model.transform(test)\n",
        "\n",
        "binEval = MulticlassClassificationEvaluator().setMetricName(\"accuracy\") .setPredictionCol(\"prediction\").setLabelCol(\"label\")\n",
        "    \n",
        "binEval.evaluate(prediction)"
      ],
      "metadata": {
        "colab": {
          "base_uri": "https://localhost:8080/"
        },
        "id": "pVqSRyJAF2Vu",
        "outputId": "7e35d391-ec53-4bf6-c889-0ff92aba93a4"
      },
      "execution_count": null,
      "outputs": [
        {
          "output_type": "execute_result",
          "data": {
            "text/plain": [
              "0.9422654793953199"
            ]
          },
          "metadata": {},
          "execution_count": 102
        }
      ]
    },
    {
      "cell_type": "markdown",
      "source": [
        "### Model Building (Naive Bayes)"
      ],
      "metadata": {
        "id": "hAMw0IExIb5i"
      }
    },
    {
      "cell_type": "code",
      "source": [
        "NB = NaiveBayes(smoothing=1.0, modelType=\"multinomial\")\n",
        "\n",
        "NBmodel = ovr.fit(training)"
      ],
      "metadata": {
        "id": "KgluXnMBIb5i"
      },
      "execution_count": null,
      "outputs": []
    },
    {
      "cell_type": "code",
      "source": [
        "prediction = NBmodel.transform(test)\n",
        "\n",
        "binEval = MulticlassClassificationEvaluator().setMetricName(\"accuracy\") .setPredictionCol(\"prediction\").setLabelCol(\"label\")\n",
        "    \n",
        "binEval.evaluate(prediction)"
      ],
      "metadata": {
        "colab": {
          "base_uri": "https://localhost:8080/"
        },
        "outputId": "8c0970af-35ad-4a0f-e570-52b46251ccb5",
        "id": "-5miJwhUIb5i"
      },
      "execution_count": null,
      "outputs": [
        {
          "output_type": "execute_result",
          "data": {
            "text/plain": [
              "0.9422654793953199"
            ]
          },
          "metadata": {},
          "execution_count": 104
        }
      ]
    },
    {
      "cell_type": "markdown",
      "source": [
        "### Model Building (FM Classifier)"
      ],
      "metadata": {
        "id": "JN76MHxWJ4oK"
      }
    },
    {
      "cell_type": "code",
      "source": [
        "from pyspark.ml.classification import FMClassifier"
      ],
      "metadata": {
        "id": "tEnn2yBSKVPJ"
      },
      "execution_count": null,
      "outputs": []
    },
    {
      "cell_type": "code",
      "source": [
        "FM = FMClassifier(labelCol=\"label\", featuresCol=\"features\", stepSize=0.001)\n",
        "\n",
        "FMmodel = FM.fit(training)"
      ],
      "metadata": {
        "id": "owe0V30CJ4oK"
      },
      "execution_count": null,
      "outputs": []
    },
    {
      "cell_type": "code",
      "source": [
        "prediction = FMmodel.transform(test)\n",
        "\n",
        "binEval = MulticlassClassificationEvaluator().setMetricName(\"accuracy\") .setPredictionCol(\"prediction\").setLabelCol(\"label\")\n",
        "    \n",
        "binEval.evaluate(prediction)"
      ],
      "metadata": {
        "colab": {
          "base_uri": "https://localhost:8080/"
        },
        "outputId": "1347da62-7818-4117-97f5-396f1f6bb3ed",
        "id": "w17HvVHlJ4oL"
      },
      "execution_count": null,
      "outputs": [
        {
          "output_type": "execute_result",
          "data": {
            "text/plain": [
              "0.9700766204183061"
            ]
          },
          "metadata": {},
          "execution_count": 107
        }
      ]
    },
    {
      "cell_type": "code",
      "source": [],
      "metadata": {
        "id": "rux-HOkzcrsD"
      },
      "execution_count": null,
      "outputs": []
    },
    {
      "cell_type": "code",
      "source": [],
      "metadata": {
        "id": "C87CCDpFcsRJ"
      },
      "execution_count": null,
      "outputs": []
    }
  ]
}